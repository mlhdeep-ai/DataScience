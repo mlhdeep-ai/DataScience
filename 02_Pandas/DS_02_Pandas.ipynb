{
 "cells": [
  {
   "cell_type": "markdown",
   "id": "d071e7c8-f4c6-4637-90b7-59b28102bf3e",
   "metadata": {
    "editable": true,
    "slideshow": {
     "slide_type": ""
    },
    "tags": []
   },
   "source": [
    "<h1>Part 02 : Pandas :)</h1>"
   ]
  },
  {
   "cell_type": "code",
   "execution_count": 2,
   "id": "6d18aac9-c5c6-424e-b1ad-e4ad9dc149ed",
   "metadata": {},
   "outputs": [],
   "source": [
    "import pandas as pd     # A software library for the Python programming language for data manipulation and analysis.\n",
    "import numpy as np     # A library for the Python programming language, adding support for large, multi-dimensional arrays and matrices, along with a large collection of high-level mathematical functions to operate on these arrays.\n",
    "import os     # This module provides a portable way of using operating system dependent functionality."
   ]
  },
  {
   "cell_type": "markdown",
   "id": "c9fc2814-42f7-4826-b7c4-d94b71e59991",
   "metadata": {},
   "source": [
    "<h2>DataFrame</h2>"
   ]
  },
  {
   "cell_type": "code",
   "execution_count": 3,
   "id": "21bb3bb2-c298-4738-80f1-48062dfe87dd",
   "metadata": {
    "scrolled": true
   },
   "outputs": [
    {
     "data": {
      "text/html": [
       "<div>\n",
       "<style scoped>\n",
       "    .dataframe tbody tr th:only-of-type {\n",
       "        vertical-align: middle;\n",
       "    }\n",
       "\n",
       "    .dataframe tbody tr th {\n",
       "        vertical-align: top;\n",
       "    }\n",
       "\n",
       "    .dataframe thead th {\n",
       "        text-align: right;\n",
       "    }\n",
       "</style>\n",
       "<table border=\"1\" class=\"dataframe\">\n",
       "  <thead>\n",
       "    <tr style=\"text-align: right;\">\n",
       "      <th></th>\n",
       "      <th>id_car</th>\n",
       "      <th>name_car</th>\n",
       "      <th>max_speed</th>\n",
       "    </tr>\n",
       "  </thead>\n",
       "  <tbody>\n",
       "    <tr>\n",
       "      <th>100</th>\n",
       "      <td>1</td>\n",
       "      <td>Bugatti</td>\n",
       "      <td>490</td>\n",
       "    </tr>\n",
       "    <tr>\n",
       "      <th>200</th>\n",
       "      <td>2</td>\n",
       "      <td>Koenigsegg</td>\n",
       "      <td>531</td>\n",
       "    </tr>\n",
       "    <tr>\n",
       "      <th>300</th>\n",
       "      <td>3</td>\n",
       "      <td>Hennessey</td>\n",
       "      <td>500</td>\n",
       "    </tr>\n",
       "    <tr>\n",
       "      <th>400</th>\n",
       "      <td>4</td>\n",
       "      <td>Lamborghini</td>\n",
       "      <td>349</td>\n",
       "    </tr>\n",
       "    <tr>\n",
       "      <th>500</th>\n",
       "      <td>5</td>\n",
       "      <td>Ferrari</td>\n",
       "      <td>349</td>\n",
       "    </tr>\n",
       "    <tr>\n",
       "      <th>600</th>\n",
       "      <td>6</td>\n",
       "      <td>Porsche</td>\n",
       "      <td>340</td>\n",
       "    </tr>\n",
       "    <tr>\n",
       "      <th>700</th>\n",
       "      <td>7</td>\n",
       "      <td>Ford</td>\n",
       "      <td>348</td>\n",
       "    </tr>\n",
       "    <tr>\n",
       "      <th>800</th>\n",
       "      <td>8</td>\n",
       "      <td>Chevrolet</td>\n",
       "      <td>341</td>\n",
       "    </tr>\n",
       "    <tr>\n",
       "      <th>900</th>\n",
       "      <td>9</td>\n",
       "      <td>Tesla</td>\n",
       "      <td>322</td>\n",
       "    </tr>\n",
       "    <tr>\n",
       "      <th>1000</th>\n",
       "      <td>10</td>\n",
       "      <td>BMW</td>\n",
       "      <td>306</td>\n",
       "    </tr>\n",
       "  </tbody>\n",
       "</table>\n",
       "</div>"
      ],
      "text/plain": [
       "      id_car     name_car  max_speed\n",
       "100        1      Bugatti        490\n",
       "200        2   Koenigsegg        531\n",
       "300        3    Hennessey        500\n",
       "400        4  Lamborghini        349\n",
       "500        5      Ferrari        349\n",
       "600        6      Porsche        340\n",
       "700        7         Ford        348\n",
       "800        8    Chevrolet        341\n",
       "900        9        Tesla        322\n",
       "1000      10          BMW        306"
      ]
     },
     "execution_count": 3,
     "metadata": {},
     "output_type": "execute_result"
    }
   ],
   "source": [
    "# Give a Dictionary to a Dataframe\n",
    "car = {\n",
    "    'id_car' : [1, 2, 3, 4, 5, 6, 7, 8, 9, 10],\n",
    "    'name_car' : ['Bugatti', 'Koenigsegg', 'Hennessey', 'Lamborghini', 'Ferrari', 'Porsche', 'Ford', 'Chevrolet', 'Tesla', 'BMW'],\n",
    "    'max_speed' : [490, 531, 500, 349, 349, 340, 348, 341, 322, 306]\n",
    "}\n",
    "lst = [100, 200, 300, 400, 500, 600, 700, 800, 900, 1000]\n",
    "\n",
    "df = pd.DataFrame(car, index = lst)     # Create DataFrame from dictionary\n",
    "df     # Show the output as a table (note: Its type is dataframe)"
   ]
  },
  {
   "cell_type": "code",
   "execution_count": 4,
   "id": "66342477-8c63-4774-acd9-ce63a553aae1",
   "metadata": {
    "editable": true,
    "scrolled": true,
    "slideshow": {
     "slide_type": ""
    },
    "tags": []
   },
   "outputs": [
    {
     "data": {
      "text/html": [
       "<div>\n",
       "<style scoped>\n",
       "    .dataframe tbody tr th:only-of-type {\n",
       "        vertical-align: middle;\n",
       "    }\n",
       "\n",
       "    .dataframe tbody tr th {\n",
       "        vertical-align: top;\n",
       "    }\n",
       "\n",
       "    .dataframe thead th {\n",
       "        text-align: right;\n",
       "    }\n",
       "</style>\n",
       "<table border=\"1\" class=\"dataframe\">\n",
       "  <thead>\n",
       "    <tr style=\"text-align: right;\">\n",
       "      <th></th>\n",
       "      <th>id_car</th>\n",
       "      <th>name_car</th>\n",
       "      <th>max_speed</th>\n",
       "    </tr>\n",
       "  </thead>\n",
       "  <tbody>\n",
       "    <tr>\n",
       "      <th>200</th>\n",
       "      <td>2</td>\n",
       "      <td>Koenigsegg</td>\n",
       "      <td>531</td>\n",
       "    </tr>\n",
       "    <tr>\n",
       "      <th>300</th>\n",
       "      <td>3</td>\n",
       "      <td>Hennessey</td>\n",
       "      <td>500</td>\n",
       "    </tr>\n",
       "    <tr>\n",
       "      <th>400</th>\n",
       "      <td>4</td>\n",
       "      <td>Lamborghini</td>\n",
       "      <td>349</td>\n",
       "    </tr>\n",
       "  </tbody>\n",
       "</table>\n",
       "</div>"
      ],
      "text/plain": [
       "     id_car     name_car  max_speed\n",
       "200       2   Koenigsegg        531\n",
       "300       3    Hennessey        500\n",
       "400       4  Lamborghini        349"
      ]
     },
     "execution_count": 4,
     "metadata": {},
     "output_type": "execute_result"
    }
   ],
   "source": [
    "df [1 : 4]     # Split dataframe"
   ]
  },
  {
   "cell_type": "code",
   "execution_count": 5,
   "id": "211ec15d-4932-4d14-8cab-4acb30e065ed",
   "metadata": {},
   "outputs": [
    {
     "data": {
      "text/html": [
       "<div>\n",
       "<style scoped>\n",
       "    .dataframe tbody tr th:only-of-type {\n",
       "        vertical-align: middle;\n",
       "    }\n",
       "\n",
       "    .dataframe tbody tr th {\n",
       "        vertical-align: top;\n",
       "    }\n",
       "\n",
       "    .dataframe thead th {\n",
       "        text-align: right;\n",
       "    }\n",
       "</style>\n",
       "<table border=\"1\" class=\"dataframe\">\n",
       "  <thead>\n",
       "    <tr style=\"text-align: right;\">\n",
       "      <th></th>\n",
       "      <th>id_car</th>\n",
       "      <th>name_car</th>\n",
       "      <th>max_speed</th>\n",
       "    </tr>\n",
       "  </thead>\n",
       "  <tbody>\n",
       "    <tr>\n",
       "      <th>100</th>\n",
       "      <td>1</td>\n",
       "      <td>Bugatti</td>\n",
       "      <td>490</td>\n",
       "    </tr>\n",
       "    <tr>\n",
       "      <th>200</th>\n",
       "      <td>2</td>\n",
       "      <td>Koenigsegg</td>\n",
       "      <td>531</td>\n",
       "    </tr>\n",
       "    <tr>\n",
       "      <th>300</th>\n",
       "      <td>3</td>\n",
       "      <td>Hennessey</td>\n",
       "      <td>500</td>\n",
       "    </tr>\n",
       "    <tr>\n",
       "      <th>400</th>\n",
       "      <td>4</td>\n",
       "      <td>Lamborghini</td>\n",
       "      <td>349</td>\n",
       "    </tr>\n",
       "    <tr>\n",
       "      <th>500</th>\n",
       "      <td>5</td>\n",
       "      <td>Ferrari</td>\n",
       "      <td>349</td>\n",
       "    </tr>\n",
       "  </tbody>\n",
       "</table>\n",
       "</div>"
      ],
      "text/plain": [
       "     id_car     name_car  max_speed\n",
       "100       1      Bugatti        490\n",
       "200       2   Koenigsegg        531\n",
       "300       3    Hennessey        500\n",
       "400       4  Lamborghini        349\n",
       "500       5      Ferrari        349"
      ]
     },
     "execution_count": 5,
     "metadata": {},
     "output_type": "execute_result"
    }
   ],
   "source": [
    "df.head()     # Show 5 first rows"
   ]
  },
  {
   "cell_type": "code",
   "execution_count": 6,
   "id": "76614a6a-eb1e-465c-8a59-5c1b4a0b4d0e",
   "metadata": {},
   "outputs": [
    {
     "data": {
      "text/html": [
       "<div>\n",
       "<style scoped>\n",
       "    .dataframe tbody tr th:only-of-type {\n",
       "        vertical-align: middle;\n",
       "    }\n",
       "\n",
       "    .dataframe tbody tr th {\n",
       "        vertical-align: top;\n",
       "    }\n",
       "\n",
       "    .dataframe thead th {\n",
       "        text-align: right;\n",
       "    }\n",
       "</style>\n",
       "<table border=\"1\" class=\"dataframe\">\n",
       "  <thead>\n",
       "    <tr style=\"text-align: right;\">\n",
       "      <th></th>\n",
       "      <th>id_car</th>\n",
       "      <th>name_car</th>\n",
       "      <th>max_speed</th>\n",
       "    </tr>\n",
       "  </thead>\n",
       "  <tbody>\n",
       "    <tr>\n",
       "      <th>600</th>\n",
       "      <td>6</td>\n",
       "      <td>Porsche</td>\n",
       "      <td>340</td>\n",
       "    </tr>\n",
       "    <tr>\n",
       "      <th>700</th>\n",
       "      <td>7</td>\n",
       "      <td>Ford</td>\n",
       "      <td>348</td>\n",
       "    </tr>\n",
       "    <tr>\n",
       "      <th>800</th>\n",
       "      <td>8</td>\n",
       "      <td>Chevrolet</td>\n",
       "      <td>341</td>\n",
       "    </tr>\n",
       "    <tr>\n",
       "      <th>900</th>\n",
       "      <td>9</td>\n",
       "      <td>Tesla</td>\n",
       "      <td>322</td>\n",
       "    </tr>\n",
       "    <tr>\n",
       "      <th>1000</th>\n",
       "      <td>10</td>\n",
       "      <td>BMW</td>\n",
       "      <td>306</td>\n",
       "    </tr>\n",
       "  </tbody>\n",
       "</table>\n",
       "</div>"
      ],
      "text/plain": [
       "      id_car   name_car  max_speed\n",
       "600        6    Porsche        340\n",
       "700        7       Ford        348\n",
       "800        8  Chevrolet        341\n",
       "900        9      Tesla        322\n",
       "1000      10        BMW        306"
      ]
     },
     "execution_count": 6,
     "metadata": {},
     "output_type": "execute_result"
    }
   ],
   "source": [
    "df.tail()     # Show 5 last rows"
   ]
  },
  {
   "cell_type": "code",
   "execution_count": 7,
   "id": "190c0de2-a808-4c84-aa1e-2036cc5a9aec",
   "metadata": {},
   "outputs": [
    {
     "data": {
      "text/plain": [
       "Index(['id_car', 'name_car', 'max_speed'], dtype='object')"
      ]
     },
     "execution_count": 7,
     "metadata": {},
     "output_type": "execute_result"
    }
   ],
   "source": [
    "df.columns     # Show title of columns"
   ]
  },
  {
   "cell_type": "code",
   "execution_count": 8,
   "id": "37193b47-a814-4fda-af98-3c7f4511bc74",
   "metadata": {},
   "outputs": [
    {
     "data": {
      "text/plain": [
       "100         Bugatti\n",
       "200      Koenigsegg\n",
       "300       Hennessey\n",
       "400     Lamborghini\n",
       "500         Ferrari\n",
       "600         Porsche\n",
       "700            Ford\n",
       "800       Chevrolet\n",
       "900           Tesla\n",
       "1000            BMW\n",
       "Name: name_car, dtype: object"
      ]
     },
     "execution_count": 8,
     "metadata": {},
     "output_type": "execute_result"
    }
   ],
   "source": [
    "df['name_car']    # Show values of a columns"
   ]
  },
  {
   "cell_type": "code",
   "execution_count": 9,
   "id": "d723f801-b09c-473d-b050-8cf60c8e876f",
   "metadata": {},
   "outputs": [
    {
     "data": {
      "text/plain": [
       "531"
      ]
     },
     "execution_count": 9,
     "metadata": {},
     "output_type": "execute_result"
    }
   ],
   "source": [
    "df['max_speed'].max()"
   ]
  },
  {
   "cell_type": "code",
   "execution_count": 10,
   "id": "8b250d5f-6db6-413c-9e2f-b832be39aacc",
   "metadata": {},
   "outputs": [
    {
     "data": {
      "text/plain": [
       "306"
      ]
     },
     "execution_count": 10,
     "metadata": {},
     "output_type": "execute_result"
    }
   ],
   "source": [
    "df['max_speed'].min()"
   ]
  },
  {
   "cell_type": "code",
   "execution_count": 11,
   "id": "f9be2cbd-5554-40f6-89f6-a528bf5463f3",
   "metadata": {},
   "outputs": [
    {
     "data": {
      "text/plain": [
       "3876"
      ]
     },
     "execution_count": 11,
     "metadata": {},
     "output_type": "execute_result"
    }
   ],
   "source": [
    "df['max_speed'].sum()"
   ]
  },
  {
   "cell_type": "code",
   "execution_count": 12,
   "id": "b6f4df43-d470-4836-b2c7-867c82e0020c",
   "metadata": {},
   "outputs": [
    {
     "data": {
      "text/plain": [
       "387.6"
      ]
     },
     "execution_count": 12,
     "metadata": {},
     "output_type": "execute_result"
    }
   ],
   "source": [
    "df['max_speed'].mean()     # Average of a column"
   ]
  },
  {
   "cell_type": "code",
   "execution_count": 13,
   "id": "14076392-d554-445f-adb2-7b4267e78231",
   "metadata": {
    "scrolled": true
   },
   "outputs": [
    {
     "data": {
      "text/html": [
       "<div>\n",
       "<style scoped>\n",
       "    .dataframe tbody tr th:only-of-type {\n",
       "        vertical-align: middle;\n",
       "    }\n",
       "\n",
       "    .dataframe tbody tr th {\n",
       "        vertical-align: top;\n",
       "    }\n",
       "\n",
       "    .dataframe thead th {\n",
       "        text-align: right;\n",
       "    }\n",
       "</style>\n",
       "<table border=\"1\" class=\"dataframe\">\n",
       "  <thead>\n",
       "    <tr style=\"text-align: right;\">\n",
       "      <th></th>\n",
       "      <th>id_car</th>\n",
       "      <th>max_speed</th>\n",
       "    </tr>\n",
       "  </thead>\n",
       "  <tbody>\n",
       "    <tr>\n",
       "      <th>count</th>\n",
       "      <td>10.00000</td>\n",
       "      <td>10.000000</td>\n",
       "    </tr>\n",
       "    <tr>\n",
       "      <th>mean</th>\n",
       "      <td>5.50000</td>\n",
       "      <td>387.600000</td>\n",
       "    </tr>\n",
       "    <tr>\n",
       "      <th>std</th>\n",
       "      <td>3.02765</td>\n",
       "      <td>84.083556</td>\n",
       "    </tr>\n",
       "    <tr>\n",
       "      <th>min</th>\n",
       "      <td>1.00000</td>\n",
       "      <td>306.000000</td>\n",
       "    </tr>\n",
       "    <tr>\n",
       "      <th>25%</th>\n",
       "      <td>3.25000</td>\n",
       "      <td>340.250000</td>\n",
       "    </tr>\n",
       "    <tr>\n",
       "      <th>50%</th>\n",
       "      <td>5.50000</td>\n",
       "      <td>348.500000</td>\n",
       "    </tr>\n",
       "    <tr>\n",
       "      <th>75%</th>\n",
       "      <td>7.75000</td>\n",
       "      <td>454.750000</td>\n",
       "    </tr>\n",
       "    <tr>\n",
       "      <th>max</th>\n",
       "      <td>10.00000</td>\n",
       "      <td>531.000000</td>\n",
       "    </tr>\n",
       "  </tbody>\n",
       "</table>\n",
       "</div>"
      ],
      "text/plain": [
       "         id_car   max_speed\n",
       "count  10.00000   10.000000\n",
       "mean    5.50000  387.600000\n",
       "std     3.02765   84.083556\n",
       "min     1.00000  306.000000\n",
       "25%     3.25000  340.250000\n",
       "50%     5.50000  348.500000\n",
       "75%     7.75000  454.750000\n",
       "max    10.00000  531.000000"
      ]
     },
     "execution_count": 13,
     "metadata": {},
     "output_type": "execute_result"
    }
   ],
   "source": [
    "df.describe()     # Statistical description of numerical data"
   ]
  },
  {
   "cell_type": "code",
   "execution_count": 14,
   "id": "e4100fa1-fc9a-4003-b331-fda7182fb143",
   "metadata": {
    "scrolled": true
   },
   "outputs": [
    {
     "data": {
      "text/html": [
       "<div>\n",
       "<style scoped>\n",
       "    .dataframe tbody tr th:only-of-type {\n",
       "        vertical-align: middle;\n",
       "    }\n",
       "\n",
       "    .dataframe tbody tr th {\n",
       "        vertical-align: top;\n",
       "    }\n",
       "\n",
       "    .dataframe thead th {\n",
       "        text-align: right;\n",
       "    }\n",
       "</style>\n",
       "<table border=\"1\" class=\"dataframe\">\n",
       "  <thead>\n",
       "    <tr style=\"text-align: right;\">\n",
       "      <th></th>\n",
       "      <th>id_car</th>\n",
       "      <th>name_car</th>\n",
       "      <th>max_speed</th>\n",
       "    </tr>\n",
       "  </thead>\n",
       "  <tbody>\n",
       "    <tr>\n",
       "      <th>0</th>\n",
       "      <td>1</td>\n",
       "      <td>Bugatti</td>\n",
       "      <td>490</td>\n",
       "    </tr>\n",
       "    <tr>\n",
       "      <th>1</th>\n",
       "      <td>2</td>\n",
       "      <td>Koenigsegg</td>\n",
       "      <td>531</td>\n",
       "    </tr>\n",
       "    <tr>\n",
       "      <th>2</th>\n",
       "      <td>3</td>\n",
       "      <td>Hennessey</td>\n",
       "      <td>500</td>\n",
       "    </tr>\n",
       "    <tr>\n",
       "      <th>3</th>\n",
       "      <td>4</td>\n",
       "      <td>Lamborghini</td>\n",
       "      <td>349</td>\n",
       "    </tr>\n",
       "    <tr>\n",
       "      <th>4</th>\n",
       "      <td>5</td>\n",
       "      <td>Ferrari</td>\n",
       "      <td>349</td>\n",
       "    </tr>\n",
       "    <tr>\n",
       "      <th>5</th>\n",
       "      <td>6</td>\n",
       "      <td>Porsche</td>\n",
       "      <td>340</td>\n",
       "    </tr>\n",
       "    <tr>\n",
       "      <th>6</th>\n",
       "      <td>7</td>\n",
       "      <td>Ford</td>\n",
       "      <td>348</td>\n",
       "    </tr>\n",
       "    <tr>\n",
       "      <th>7</th>\n",
       "      <td>8</td>\n",
       "      <td>Chevrolet</td>\n",
       "      <td>341</td>\n",
       "    </tr>\n",
       "    <tr>\n",
       "      <th>8</th>\n",
       "      <td>9</td>\n",
       "      <td>Tesla</td>\n",
       "      <td>322</td>\n",
       "    </tr>\n",
       "    <tr>\n",
       "      <th>9</th>\n",
       "      <td>10</td>\n",
       "      <td>BMW</td>\n",
       "      <td>306</td>\n",
       "    </tr>\n",
       "  </tbody>\n",
       "</table>\n",
       "</div>"
      ],
      "text/plain": [
       "   id_car     name_car  max_speed\n",
       "0       1      Bugatti        490\n",
       "1       2   Koenigsegg        531\n",
       "2       3    Hennessey        500\n",
       "3       4  Lamborghini        349\n",
       "4       5      Ferrari        349\n",
       "5       6      Porsche        340\n",
       "6       7         Ford        348\n",
       "7       8    Chevrolet        341\n",
       "8       9        Tesla        322\n",
       "9      10          BMW        306"
      ]
     },
     "execution_count": 14,
     "metadata": {},
     "output_type": "execute_result"
    }
   ],
   "source": [
    "# Give a List to a Dataframe\n",
    "lst_id_car = [1, 2, 3, 4, 5, 6, 7, 8, 9, 10]\n",
    "lst_name_car = ['Bugatti', 'Koenigsegg', 'Hennessey', 'Lamborghini', 'Ferrari', 'Porsche', 'Ford', 'Chevrolet', 'Tesla', 'BMW']\n",
    "lst_max_speed = [490, 531, 500, 349, 349, 340, 348, 341, 322, 306]\n",
    "\n",
    "df = pd.DataFrame(zip(lst_id_car, lst_name_car, lst_max_speed), columns = ['id_car', 'name_car', 'max_speed'])     # Create DataFrame from List using zip()\n",
    "df"
   ]
  },
  {
   "cell_type": "code",
   "execution_count": 15,
   "id": "e98bf752-46b5-4e67-acad-8ee3cb802728",
   "metadata": {},
   "outputs": [
    {
     "data": {
      "text/plain": [
       "'F:\\\\2_DataScience\\\\DataScience_mynb\\\\DataScience_Py\\\\02_Pandas'"
      ]
     },
     "execution_count": 15,
     "metadata": {},
     "output_type": "execute_result"
    }
   ],
   "source": [
    "# where is your code\n",
    "os.getcwd()     # Show Current Working Directory (CWD)"
   ]
  },
  {
   "cell_type": "code",
   "execution_count": 16,
   "id": "49194bd8-1d3c-4fa6-a868-de84305dc964",
   "metadata": {},
   "outputs": [
    {
     "data": {
      "text/plain": [
       "['.ipynb_checkpoints', 'DS_02_Pandas.ipynb', 'practice_titanic.ipynb']"
      ]
     },
     "execution_count": 16,
     "metadata": {},
     "output_type": "execute_result"
    }
   ],
   "source": [
    "os.listdir()     # Show list of directories and files in your CWD"
   ]
  },
  {
   "cell_type": "code",
   "execution_count": 17,
   "id": "fdbc2376-1c58-4bfe-8c52-eb689ff88b3a",
   "metadata": {},
   "outputs": [
    {
     "data": {
      "text/html": [
       "<div>\n",
       "<style scoped>\n",
       "    .dataframe tbody tr th:only-of-type {\n",
       "        vertical-align: middle;\n",
       "    }\n",
       "\n",
       "    .dataframe tbody tr th {\n",
       "        vertical-align: top;\n",
       "    }\n",
       "\n",
       "    .dataframe thead th {\n",
       "        text-align: right;\n",
       "    }\n",
       "</style>\n",
       "<table border=\"1\" class=\"dataframe\">\n",
       "  <thead>\n",
       "    <tr style=\"text-align: right;\">\n",
       "      <th></th>\n",
       "      <th>A</th>\n",
       "      <th>B</th>\n",
       "      <th>C</th>\n",
       "    </tr>\n",
       "  </thead>\n",
       "  <tbody>\n",
       "    <tr>\n",
       "      <th>1</th>\n",
       "      <td>61.970276</td>\n",
       "      <td>19.458191</td>\n",
       "      <td>32.011797</td>\n",
       "    </tr>\n",
       "    <tr>\n",
       "      <th>2</th>\n",
       "      <td>76.193654</td>\n",
       "      <td>18.143149</td>\n",
       "      <td>90.154231</td>\n",
       "    </tr>\n",
       "    <tr>\n",
       "      <th>3</th>\n",
       "      <td>65.738321</td>\n",
       "      <td>48.762735</td>\n",
       "      <td>95.953918</td>\n",
       "    </tr>\n",
       "    <tr>\n",
       "      <th>4</th>\n",
       "      <td>23.072590</td>\n",
       "      <td>28.599111</td>\n",
       "      <td>11.556708</td>\n",
       "    </tr>\n",
       "    <tr>\n",
       "      <th>5</th>\n",
       "      <td>1.417400</td>\n",
       "      <td>48.450558</td>\n",
       "      <td>72.739245</td>\n",
       "    </tr>\n",
       "    <tr>\n",
       "      <th>6</th>\n",
       "      <td>94.965235</td>\n",
       "      <td>81.572082</td>\n",
       "      <td>47.548739</td>\n",
       "    </tr>\n",
       "    <tr>\n",
       "      <th>7</th>\n",
       "      <td>99.845243</td>\n",
       "      <td>80.192073</td>\n",
       "      <td>48.694674</td>\n",
       "    </tr>\n",
       "    <tr>\n",
       "      <th>8</th>\n",
       "      <td>98.358483</td>\n",
       "      <td>84.888245</td>\n",
       "      <td>66.581743</td>\n",
       "    </tr>\n",
       "    <tr>\n",
       "      <th>9</th>\n",
       "      <td>37.834783</td>\n",
       "      <td>6.421405</td>\n",
       "      <td>32.547353</td>\n",
       "    </tr>\n",
       "    <tr>\n",
       "      <th>10</th>\n",
       "      <td>73.738556</td>\n",
       "      <td>90.449318</td>\n",
       "      <td>29.719060</td>\n",
       "    </tr>\n",
       "  </tbody>\n",
       "</table>\n",
       "</div>"
      ],
      "text/plain": [
       "            A          B          C\n",
       "1   61.970276  19.458191  32.011797\n",
       "2   76.193654  18.143149  90.154231\n",
       "3   65.738321  48.762735  95.953918\n",
       "4   23.072590  28.599111  11.556708\n",
       "5    1.417400  48.450558  72.739245\n",
       "6   94.965235  81.572082  47.548739\n",
       "7   99.845243  80.192073  48.694674\n",
       "8   98.358483  84.888245  66.581743\n",
       "9   37.834783   6.421405  32.547353\n",
       "10  73.738556  90.449318  29.719060"
      ]
     },
     "execution_count": 17,
     "metadata": {},
     "output_type": "execute_result"
    }
   ],
   "source": [
    "# Create a Dataframe by random numbers, personal indexes and columns titles\n",
    "pd.DataFrame(np.random.rand(10, 3) * 100, index = [1, 2, 3, 4, 5, 6, 7, 8, 9, 10], columns = ['A', 'B', 'C'])"
   ]
  },
  {
   "cell_type": "markdown",
   "id": "2d035d49-ec00-4a7b-89d6-b005f328ed5a",
   "metadata": {},
   "source": [
    "<h2>Read Excel file</h2>"
   ]
  },
  {
   "cell_type": "code",
   "execution_count": 18,
   "id": "d30c28b0-61e8-4963-af97-847b3b3e9b0c",
   "metadata": {
    "scrolled": true
   },
   "outputs": [
    {
     "ename": "FileNotFoundError",
     "evalue": "[Errno 2] No such file or directory: 'titanic3.xlsx'",
     "output_type": "error",
     "traceback": [
      "\u001b[1;31m---------------------------------------------------------------------------\u001b[0m",
      "\u001b[1;31mFileNotFoundError\u001b[0m                         Traceback (most recent call last)",
      "Cell \u001b[1;32mIn[18], line 1\u001b[0m\n\u001b[1;32m----> 1\u001b[0m tita \u001b[38;5;241m=\u001b[39m pd\u001b[38;5;241m.\u001b[39mread_excel(\u001b[38;5;124m'\u001b[39m\u001b[38;5;124mtitanic3.xlsx\u001b[39m\u001b[38;5;124m'\u001b[39m)     \u001b[38;5;66;03m# read_excel(Path of Excel file) ==> If Excel file is in CWD, its name is enough.\u001b[39;00m\n\u001b[0;32m      2\u001b[0m tita\n",
      "File \u001b[1;32m~\\miniconda3\\Lib\\site-packages\\pandas\\io\\excel\\_base.py:495\u001b[0m, in \u001b[0;36mread_excel\u001b[1;34m(io, sheet_name, header, names, index_col, usecols, dtype, engine, converters, true_values, false_values, skiprows, nrows, na_values, keep_default_na, na_filter, verbose, parse_dates, date_parser, date_format, thousands, decimal, comment, skipfooter, storage_options, dtype_backend, engine_kwargs)\u001b[0m\n\u001b[0;32m    493\u001b[0m \u001b[38;5;28;01mif\u001b[39;00m \u001b[38;5;129;01mnot\u001b[39;00m \u001b[38;5;28misinstance\u001b[39m(io, ExcelFile):\n\u001b[0;32m    494\u001b[0m     should_close \u001b[38;5;241m=\u001b[39m \u001b[38;5;28;01mTrue\u001b[39;00m\n\u001b[1;32m--> 495\u001b[0m     io \u001b[38;5;241m=\u001b[39m ExcelFile(\n\u001b[0;32m    496\u001b[0m         io,\n\u001b[0;32m    497\u001b[0m         storage_options\u001b[38;5;241m=\u001b[39mstorage_options,\n\u001b[0;32m    498\u001b[0m         engine\u001b[38;5;241m=\u001b[39mengine,\n\u001b[0;32m    499\u001b[0m         engine_kwargs\u001b[38;5;241m=\u001b[39mengine_kwargs,\n\u001b[0;32m    500\u001b[0m     )\n\u001b[0;32m    501\u001b[0m \u001b[38;5;28;01melif\u001b[39;00m engine \u001b[38;5;129;01mand\u001b[39;00m engine \u001b[38;5;241m!=\u001b[39m io\u001b[38;5;241m.\u001b[39mengine:\n\u001b[0;32m    502\u001b[0m     \u001b[38;5;28;01mraise\u001b[39;00m \u001b[38;5;167;01mValueError\u001b[39;00m(\n\u001b[0;32m    503\u001b[0m         \u001b[38;5;124m\"\u001b[39m\u001b[38;5;124mEngine should not be specified when passing \u001b[39m\u001b[38;5;124m\"\u001b[39m\n\u001b[0;32m    504\u001b[0m         \u001b[38;5;124m\"\u001b[39m\u001b[38;5;124man ExcelFile - ExcelFile already has the engine set\u001b[39m\u001b[38;5;124m\"\u001b[39m\n\u001b[0;32m    505\u001b[0m     )\n",
      "File \u001b[1;32m~\\miniconda3\\Lib\\site-packages\\pandas\\io\\excel\\_base.py:1550\u001b[0m, in \u001b[0;36mExcelFile.__init__\u001b[1;34m(self, path_or_buffer, engine, storage_options, engine_kwargs)\u001b[0m\n\u001b[0;32m   1548\u001b[0m     ext \u001b[38;5;241m=\u001b[39m \u001b[38;5;124m\"\u001b[39m\u001b[38;5;124mxls\u001b[39m\u001b[38;5;124m\"\u001b[39m\n\u001b[0;32m   1549\u001b[0m \u001b[38;5;28;01melse\u001b[39;00m:\n\u001b[1;32m-> 1550\u001b[0m     ext \u001b[38;5;241m=\u001b[39m inspect_excel_format(\n\u001b[0;32m   1551\u001b[0m         content_or_path\u001b[38;5;241m=\u001b[39mpath_or_buffer, storage_options\u001b[38;5;241m=\u001b[39mstorage_options\n\u001b[0;32m   1552\u001b[0m     )\n\u001b[0;32m   1553\u001b[0m     \u001b[38;5;28;01mif\u001b[39;00m ext \u001b[38;5;129;01mis\u001b[39;00m \u001b[38;5;28;01mNone\u001b[39;00m:\n\u001b[0;32m   1554\u001b[0m         \u001b[38;5;28;01mraise\u001b[39;00m \u001b[38;5;167;01mValueError\u001b[39;00m(\n\u001b[0;32m   1555\u001b[0m             \u001b[38;5;124m\"\u001b[39m\u001b[38;5;124mExcel file format cannot be determined, you must specify \u001b[39m\u001b[38;5;124m\"\u001b[39m\n\u001b[0;32m   1556\u001b[0m             \u001b[38;5;124m\"\u001b[39m\u001b[38;5;124man engine manually.\u001b[39m\u001b[38;5;124m\"\u001b[39m\n\u001b[0;32m   1557\u001b[0m         )\n",
      "File \u001b[1;32m~\\miniconda3\\Lib\\site-packages\\pandas\\io\\excel\\_base.py:1402\u001b[0m, in \u001b[0;36minspect_excel_format\u001b[1;34m(content_or_path, storage_options)\u001b[0m\n\u001b[0;32m   1399\u001b[0m \u001b[38;5;28;01mif\u001b[39;00m \u001b[38;5;28misinstance\u001b[39m(content_or_path, \u001b[38;5;28mbytes\u001b[39m):\n\u001b[0;32m   1400\u001b[0m     content_or_path \u001b[38;5;241m=\u001b[39m BytesIO(content_or_path)\n\u001b[1;32m-> 1402\u001b[0m \u001b[38;5;28;01mwith\u001b[39;00m get_handle(\n\u001b[0;32m   1403\u001b[0m     content_or_path, \u001b[38;5;124m\"\u001b[39m\u001b[38;5;124mrb\u001b[39m\u001b[38;5;124m\"\u001b[39m, storage_options\u001b[38;5;241m=\u001b[39mstorage_options, is_text\u001b[38;5;241m=\u001b[39m\u001b[38;5;28;01mFalse\u001b[39;00m\n\u001b[0;32m   1404\u001b[0m ) \u001b[38;5;28;01mas\u001b[39;00m handle:\n\u001b[0;32m   1405\u001b[0m     stream \u001b[38;5;241m=\u001b[39m handle\u001b[38;5;241m.\u001b[39mhandle\n\u001b[0;32m   1406\u001b[0m     stream\u001b[38;5;241m.\u001b[39mseek(\u001b[38;5;241m0\u001b[39m)\n",
      "File \u001b[1;32m~\\miniconda3\\Lib\\site-packages\\pandas\\io\\common.py:882\u001b[0m, in \u001b[0;36mget_handle\u001b[1;34m(path_or_buf, mode, encoding, compression, memory_map, is_text, errors, storage_options)\u001b[0m\n\u001b[0;32m    873\u001b[0m         handle \u001b[38;5;241m=\u001b[39m \u001b[38;5;28mopen\u001b[39m(\n\u001b[0;32m    874\u001b[0m             handle,\n\u001b[0;32m    875\u001b[0m             ioargs\u001b[38;5;241m.\u001b[39mmode,\n\u001b[1;32m   (...)\u001b[0m\n\u001b[0;32m    878\u001b[0m             newline\u001b[38;5;241m=\u001b[39m\u001b[38;5;124m\"\u001b[39m\u001b[38;5;124m\"\u001b[39m,\n\u001b[0;32m    879\u001b[0m         )\n\u001b[0;32m    880\u001b[0m     \u001b[38;5;28;01melse\u001b[39;00m:\n\u001b[0;32m    881\u001b[0m         \u001b[38;5;66;03m# Binary mode\u001b[39;00m\n\u001b[1;32m--> 882\u001b[0m         handle \u001b[38;5;241m=\u001b[39m \u001b[38;5;28mopen\u001b[39m(handle, ioargs\u001b[38;5;241m.\u001b[39mmode)\n\u001b[0;32m    883\u001b[0m     handles\u001b[38;5;241m.\u001b[39mappend(handle)\n\u001b[0;32m    885\u001b[0m \u001b[38;5;66;03m# Convert BytesIO or file objects passed with an encoding\u001b[39;00m\n",
      "\u001b[1;31mFileNotFoundError\u001b[0m: [Errno 2] No such file or directory: 'titanic3.xlsx'"
     ]
    }
   ],
   "source": [
    "tita = pd.read_excel('titanic3.xlsx')     # read_excel(Path of Excel file) ==> If Excel file is in CWD, its name is enough.\n",
    "tita"
   ]
  },
  {
   "cell_type": "markdown",
   "id": "dca33a44-1731-4a8d-8818-084fb91bb83a",
   "metadata": {},
   "source": [
    "<h2>Read CSV file</h2>"
   ]
  },
  {
   "cell_type": "code",
   "execution_count": null,
   "id": "54d21164-8faf-4f79-ba6a-1b528457397f",
   "metadata": {
    "scrolled": true
   },
   "outputs": [],
   "source": [
    "iris = pd.read_csv('iris.csv')\n",
    "iris"
   ]
  },
  {
   "cell_type": "code",
   "execution_count": null,
   "id": "663301f1-038f-4963-8291-caa7a79b386e",
   "metadata": {},
   "outputs": [],
   "source": [
    "iris.head()     # Show 5 first rows"
   ]
  },
  {
   "cell_type": "code",
   "execution_count": null,
   "id": "04edb81e-7f15-49e3-ab90-a305216aa612",
   "metadata": {},
   "outputs": [],
   "source": [
    "iris.tail()     # Show 5 last rows"
   ]
  },
  {
   "cell_type": "code",
   "execution_count": null,
   "id": "4449788e-dfd0-4f2a-9fc1-2eea84b61395",
   "metadata": {},
   "outputs": [],
   "source": [
    "iris.head(10)     # head(n) ==> Show n first rows (n is optional)"
   ]
  },
  {
   "cell_type": "code",
   "execution_count": null,
   "id": "a2df9278-b09f-43c0-a5e8-cae76b0dd12d",
   "metadata": {
    "scrolled": true
   },
   "outputs": [],
   "source": [
    "iris.tail(10)     # tail(n) ==> Show n last rows (n is optional)"
   ]
  },
  {
   "cell_type": "code",
   "execution_count": null,
   "id": "17dd8e26-5606-4ed7-9648-246e98eac63f",
   "metadata": {},
   "outputs": [],
   "source": [
    "iris.shape     # Show Dimensions of dataframe(same csv/excel file)"
   ]
  },
  {
   "cell_type": "code",
   "execution_count": null,
   "id": "1085f002-c852-495b-8964-7813653d95de",
   "metadata": {},
   "outputs": [],
   "source": [
    "tita.info()     # Show information of Dataframe (column title, count of non null values in every column, data type of per column)"
   ]
  },
  {
   "cell_type": "code",
   "execution_count": null,
   "id": "780e6755-dc78-427d-8aa6-17d86a991642",
   "metadata": {},
   "outputs": [],
   "source": [
    "tita.survived     # equal with 'tita['survived']'"
   ]
  },
  {
   "cell_type": "code",
   "execution_count": null,
   "id": "de07fb87-3123-4585-990a-0e0302fe4415",
   "metadata": {},
   "outputs": [],
   "source": [
    "arr_np = tita['survived'].values     # return Array of values (Numpy)\n",
    "arr_np"
   ]
  },
  {
   "cell_type": "code",
   "execution_count": null,
   "id": "1e4b75a1-dd7d-42d8-b4ba-4b0e2946e33b",
   "metadata": {},
   "outputs": [],
   "source": [
    "tita['survived'].sum()     # Sum of values of 'survived' column"
   ]
  },
  {
   "cell_type": "code",
   "execution_count": null,
   "id": "b68fb3d5-9374-4720-9c5d-de6b72829f34",
   "metadata": {},
   "outputs": [],
   "source": [
    "# or:\n",
    "tita['survived'].values.sum()"
   ]
  },
  {
   "cell_type": "code",
   "execution_count": null,
   "id": "18f41357-a159-4711-8fb8-d535f3f88c31",
   "metadata": {},
   "outputs": [],
   "source": [
    "tita.survived.value_counts()     # Count of unique values in column"
   ]
  },
  {
   "cell_type": "code",
   "execution_count": null,
   "id": "32b67076-570b-4fec-81bf-1dfc824e340c",
   "metadata": {},
   "outputs": [],
   "source": [
    "tita.count()     # Count of non values in each column"
   ]
  },
  {
   "cell_type": "code",
   "execution_count": null,
   "id": "c5321bb5-e262-41cb-9d65-0fbb1ebb863b",
   "metadata": {},
   "outputs": [],
   "source": [
    "tita[['pclass', 'survived', 'age']]     # Show multi column values"
   ]
  },
  {
   "cell_type": "code",
   "execution_count": null,
   "id": "5041647b-626f-4e39-96b2-12f7a01e0b84",
   "metadata": {},
   "outputs": [],
   "source": [
    "tita[['pclass', 'survived', 'age']].sum()     # Sum of multi column,separately"
   ]
  },
  {
   "cell_type": "code",
   "execution_count": null,
   "id": "0f790ce9-1cf1-47ef-84f2-7945aa02e7af",
   "metadata": {},
   "outputs": [],
   "source": [
    "tita[['pclass', 'survived', 'age']].mean()     # mean of multi column,separately"
   ]
  },
  {
   "cell_type": "markdown",
   "id": "2106d3a8-ac74-4a83-a8c7-85a6000502cc",
   "metadata": {},
   "source": [
    "<h2>Note: </h2>\n",
    "<h3>You should understand dataset related to business</h3>\n",
    "<h3>You should understand process of work</h3>\n",
    "    "
   ]
  },
  {
   "cell_type": "code",
   "execution_count": null,
   "id": "df1eaddd-ba15-457b-b73b-385e402b183f",
   "metadata": {},
   "outputs": [],
   "source": [
    "# Slice of dataset - method 1\n",
    "tita.values[0 : 10, 0 : 4]     # slice as a array(numpy)"
   ]
  },
  {
   "cell_type": "code",
   "execution_count": null,
   "id": "e0aa48ca-ef42-4d96-86de-6ca1d495313d",
   "metadata": {},
   "outputs": [],
   "source": [
    "tita[['pclass', 'survived', 'name']][10 : 21]"
   ]
  },
  {
   "cell_type": "code",
   "execution_count": null,
   "id": "6c29f08e-e398-494c-a0ed-9ce336f1f743",
   "metadata": {},
   "outputs": [],
   "source": [
    "# Slice of dataset - method 2\n",
    "tita.iloc[0 : 5, 0 : 3]     # you can give a numerical value to specify the columns"
   ]
  },
  {
   "cell_type": "code",
   "execution_count": null,
   "id": "03a70f5b-2d13-4d3a-aca0-b40dee79a62e",
   "metadata": {},
   "outputs": [],
   "source": [
    "tita.iloc[[10, 1, 4], [5, 1, 3, 2]]     # you can specify rows or columns in no order"
   ]
  },
  {
   "cell_type": "code",
   "execution_count": null,
   "id": "2ff92c25-43bc-4e12-b421-3ac50df158c3",
   "metadata": {
    "scrolled": true
   },
   "outputs": [],
   "source": [
    "tita.loc[0 : 5, ['pclass', 'survived']]     # you can give string value to specify the columns"
   ]
  },
  {
   "cell_type": "code",
   "execution_count": null,
   "id": "7f2531cb-3743-4e71-9b13-c7758d4f75f8",
   "metadata": {},
   "outputs": [],
   "source": [
    "tita.loc[[10, 1, 4], ['age', 'name', 'survived']]      # you can specify rows or columns in no order"
   ]
  },
  {
   "cell_type": "code",
   "execution_count": null,
   "id": "960a8b1e-e4cb-4143-95f5-2aca0f2e4b2e",
   "metadata": {},
   "outputs": [],
   "source": [
    "tita['pclass'].unique()     # unique values in a column"
   ]
  },
  {
   "cell_type": "code",
   "execution_count": null,
   "id": "032c714f-08b5-4e51-b002-8b425643fb75",
   "metadata": {},
   "outputs": [],
   "source": [
    "tita['pclass'].nunique()     # count of unique values in a column"
   ]
  },
  {
   "cell_type": "code",
   "execution_count": null,
   "id": "1f131fd4-aa2f-4301-83c1-64e5fa682b80",
   "metadata": {},
   "outputs": [],
   "source": [
    "tita['pclass'].unique().shape     # count of unique values in a column"
   ]
  },
  {
   "cell_type": "markdown",
   "id": "23dc9b0e-e1d5-46f1-9400-f48929938834",
   "metadata": {
    "scrolled": true
   },
   "source": [
    "<h2>Conditions</h2>"
   ]
  },
  {
   "cell_type": "code",
   "execution_count": null,
   "id": "1f6587ee-2c9b-4f24-b95d-1c1a5fc7cc18",
   "metadata": {},
   "outputs": [],
   "source": [
    "iris['sepal_length'] >= 5     # output is boolean for all rows"
   ]
  },
  {
   "cell_type": "code",
   "execution_count": null,
   "id": "62ea53eb-1859-4477-915c-262c5f4566e9",
   "metadata": {},
   "outputs": [],
   "source": [
    "(iris['sepal_length'] >= 5).value_counts()     # count of True values and False values for all rows"
   ]
  },
  {
   "cell_type": "code",
   "execution_count": null,
   "id": "b2bb521f-b6e9-4120-8a85-1a3ddbd6ed32",
   "metadata": {},
   "outputs": [],
   "source": [
    "iris[iris['sepal_length'] >= 5]     # Rows for which the condition is fulfilled"
   ]
  },
  {
   "cell_type": "code",
   "execution_count": null,
   "id": "d6d79406-9f7b-40b4-88ad-15d86a8d181e",
   "metadata": {},
   "outputs": [],
   "source": [
    "# Several conditions\n",
    "iris[(iris['sepal_length'] > 6) & (iris['sepal_length'] < 7.5) & (iris['class'] == 'Iris-virginica')]"
   ]
  },
  {
   "cell_type": "code",
   "execution_count": null,
   "id": "55639653-3488-473b-9cd9-a4f280ac6f71",
   "metadata": {},
   "outputs": [],
   "source": [
    "iris[(iris['sepal_length'] > 6) & (iris['sepal_length'] < 7.5) & (iris['class'] == 'Iris-virginica')].shape"
   ]
  },
  {
   "cell_type": "code",
   "execution_count": null,
   "id": "37db6d54-2ee1-46a6-8483-8bcc852b9de7",
   "metadata": {},
   "outputs": [],
   "source": [
    "iris['class'].unique()"
   ]
  },
  {
   "cell_type": "markdown",
   "id": "ed9ef165-b50c-4013-82f7-55125a0cc01c",
   "metadata": {},
   "source": [
    "<h2>Rename Columns title</h2>"
   ]
  },
  {
   "cell_type": "code",
   "execution_count": null,
   "id": "22460a42-c892-4b6a-801d-963fd7c91da6",
   "metadata": {},
   "outputs": [],
   "source": [
    "iris.columns"
   ]
  },
  {
   "cell_type": "code",
   "execution_count": null,
   "id": "aa72525d-c406-479f-920e-8f00da2335be",
   "metadata": {},
   "outputs": [],
   "source": [
    "iris.rename(columns = {'sepal_length' : 'sep_len', 'sepal_width' : 'sep_wid', 'petal_length' : 'pet_len', 'petal_width' : 'pet_wid', 'class' : 'name'}, inplace=True)\n",
    "# note: command of 'inplace = True' causes the changes to be applied directly to the dataset"
   ]
  },
  {
   "cell_type": "code",
   "execution_count": null,
   "id": "5f5cc0b2-8edf-450b-a01b-49a5af3740e6",
   "metadata": {},
   "outputs": [],
   "source": [
    "iris"
   ]
  },
  {
   "cell_type": "markdown",
   "id": "188be38d-a5f1-4313-9b94-5d7c8f75fc53",
   "metadata": {},
   "source": [
    "<h2>Insert a new column in the dataset</h2>"
   ]
  },
  {
   "cell_type": "code",
   "execution_count": null,
   "id": "673209a3-3f98-4e73-93ef-2e6300119e45",
   "metadata": {},
   "outputs": [],
   "source": [
    "iris.insert(2, 'color', 'blue')     # insert(index, title, value)"
   ]
  },
  {
   "cell_type": "code",
   "execution_count": null,
   "id": "9dca7b21-099a-429b-a0d5-b39936afb6ef",
   "metadata": {},
   "outputs": [],
   "source": [
    "iris"
   ]
  },
  {
   "cell_type": "markdown",
   "id": "396d7d05-007a-4245-8465-1f5ffc15f54c",
   "metadata": {},
   "source": [
    "<h2>Delete a column from the dataset</h2>"
   ]
  },
  {
   "cell_type": "code",
   "execution_count": null,
   "id": "cf7c1f5e-f51a-44e3-ae9a-c69d2560efed",
   "metadata": {},
   "outputs": [],
   "source": [
    "iris.drop('color', axis = 1, inplace = True)     # 'axis = 1' : vertical column"
   ]
  },
  {
   "cell_type": "code",
   "execution_count": null,
   "id": "a5dc5742-a33c-4808-b230-f626eec771ec",
   "metadata": {},
   "outputs": [],
   "source": [
    "iris"
   ]
  },
  {
   "cell_type": "markdown",
   "id": "947ee6d6-93d7-47dc-848f-c589f4f1bbfc",
   "metadata": {},
   "source": [
    "<h2>Delete a row from the dataset</h2>"
   ]
  },
  {
   "cell_type": "code",
   "execution_count": null,
   "id": "38fbae86-02ea-45d7-b1f4-4d55d58a67e1",
   "metadata": {},
   "outputs": [],
   "source": [
    "iris.drop(1, inplace = True)     # drop(index of row) ==> default axis = 0 : horizontal row"
   ]
  },
  {
   "cell_type": "code",
   "execution_count": null,
   "id": "bab1932e-a4a7-42ab-bc70-64a40a260a9c",
   "metadata": {
    "scrolled": true
   },
   "outputs": [],
   "source": [
    "iris"
   ]
  },
  {
   "cell_type": "markdown",
   "id": "1f05525c-5009-44f6-90c8-b2ff5dd6196e",
   "metadata": {},
   "source": [
    "<h2>Join 2 or more dataset together with 'Concat' (vertical/horizontal)</h2>"
   ]
  },
  {
   "cell_type": "code",
   "execution_count": null,
   "id": "8901d646-bcff-4f75-8386-f5bcb5b4607f",
   "metadata": {},
   "outputs": [],
   "source": [
    "iris_conc = pd.concat([iris, iris], axis = 1)"
   ]
  },
  {
   "cell_type": "code",
   "execution_count": null,
   "id": "59832db6-7039-4540-acb0-379a2e0ca1d5",
   "metadata": {},
   "outputs": [],
   "source": [
    "iris_conc"
   ]
  },
  {
   "cell_type": "markdown",
   "id": "81b5dff9-2a1a-4c43-aaea-d7091afb5967",
   "metadata": {},
   "source": [
    "<h2>Add a row to the dataset with 'Concat'</h2>"
   ]
  },
  {
   "cell_type": "code",
   "execution_count": null,
   "id": "47a37a4c-4822-4e2a-b68a-4183de8342cb",
   "metadata": {},
   "outputs": [],
   "source": [
    "row = {'sep_len' : 10, 'sep_wid' : 20, 'pet_len' : 30, 'pet_wid' : 40, 'name' : 'Nilufar'}\n",
    "iris_row = pd.DataFrame(row, index = [0])\n",
    "iris = pd.concat([iris, iris_row])     # default axis = 0 (horizontal)\n",
    "iris"
   ]
  },
  {
   "cell_type": "code",
   "execution_count": null,
   "id": "32682429-2b0d-489d-9466-ae3985a5a3f9",
   "metadata": {},
   "outputs": [],
   "source": [
    "iris.reset_index(inplace = True)     # reset indexes of dataset\n",
    "iris"
   ]
  },
  {
   "cell_type": "code",
   "execution_count": null,
   "id": "8fb1de1e-e86d-49d8-9c77-3a2e485c127e",
   "metadata": {},
   "outputs": [],
   "source": [
    "iris.drop(['level_0', 'index'], axis = 1, inplace = True)\n",
    "iris"
   ]
  },
  {
   "cell_type": "markdown",
   "id": "3ec5f6b5-81aa-4ebe-a28d-597a76dda0fe",
   "metadata": {},
   "source": [
    "<h2>Delete duplicate rows in the dataset</h2>"
   ]
  },
  {
   "cell_type": "code",
   "execution_count": null,
   "id": "129aebb5-de75-44a1-ad2a-bb8b4d30d494",
   "metadata": {
    "scrolled": true
   },
   "outputs": [],
   "source": [
    "iris = pd.concat([iris, iris_row])\n",
    "iris.reset_index(inplace = True)\n",
    "iris"
   ]
  },
  {
   "cell_type": "code",
   "execution_count": null,
   "id": "b94f0b7b-3695-494a-b6d9-480e907bfb04",
   "metadata": {},
   "outputs": [],
   "source": [
    "iris.drop(['index'], axis = 1, inplace = True)"
   ]
  },
  {
   "cell_type": "code",
   "execution_count": null,
   "id": "a009aaed-6ab4-4e14-abd2-336f8f2a4bfe",
   "metadata": {},
   "outputs": [],
   "source": [
    "iris"
   ]
  },
  {
   "cell_type": "code",
   "execution_count": null,
   "id": "2649606a-14eb-4832-9e20-1c10ff32560e",
   "metadata": {},
   "outputs": [],
   "source": [
    "iris[iris.name == 'Nilufar'].value_counts()"
   ]
  },
  {
   "cell_type": "code",
   "execution_count": null,
   "id": "44d8cea5-0afa-47df-9471-56adc3d652c1",
   "metadata": {},
   "outputs": [],
   "source": [
    "iris.drop_duplicates(inplace = True)\n",
    "iris"
   ]
  },
  {
   "cell_type": "code",
   "execution_count": null,
   "id": "99b8175b-3577-4a52-a4c8-198b02229498",
   "metadata": {},
   "outputs": [],
   "source": [
    "iris[(iris['name'] == 'Nilufar')].value_counts()"
   ]
  },
  {
   "cell_type": "code",
   "execution_count": null,
   "id": "8b1f55d3-efd3-4c9c-bc16-752d4346e957",
   "metadata": {},
   "outputs": [],
   "source": [
    "iris.shape"
   ]
  },
  {
   "cell_type": "code",
   "execution_count": null,
   "id": "615b15f0-b7d5-4223-a85f-796584f167f1",
   "metadata": {},
   "outputs": [],
   "source": [
    "iris.drop_duplicates(subset=['sep_len'], inplace = True)     # delete rows that some columns are duplicate\n",
    "iris.shape"
   ]
  },
  {
   "cell_type": "code",
   "execution_count": null,
   "id": "d4f9edc6-688c-47ba-9853-3b6fbc2ea80b",
   "metadata": {},
   "outputs": [],
   "source": [
    "iris"
   ]
  },
  {
   "cell_type": "code",
   "execution_count": null,
   "id": "4450147d-cfa4-4183-8b53-6d47dbbd40db",
   "metadata": {},
   "outputs": [],
   "source": [
    "iris.drop(iris.index[:10], inplace = True)     # delete slice of rows\n",
    "iris"
   ]
  },
  {
   "cell_type": "code",
   "execution_count": null,
   "id": "a3ea80b7-d67b-46c7-b8ac-b0bcc58e953c",
   "metadata": {},
   "outputs": [],
   "source": [
    "iris.shape"
   ]
  },
  {
   "cell_type": "markdown",
   "id": "cd416f2c-ebca-45b2-9c4c-6fee7ff9b1e3",
   "metadata": {},
   "source": [
    "<h2>Find Null/NaN values is dataset</h2>"
   ]
  },
  {
   "cell_type": "code",
   "execution_count": null,
   "id": "367a3e97-ded9-4638-9761-245c4fd99640",
   "metadata": {},
   "outputs": [],
   "source": [
    "tita.isna()     # output = boolean"
   ]
  },
  {
   "cell_type": "code",
   "execution_count": null,
   "id": "4f73620f-a246-4054-b3ed-06503c8dd5e8",
   "metadata": {},
   "outputs": [],
   "source": [
    "tita.isna().sum()     # Count of Null/NaN values in each column"
   ]
  },
  {
   "cell_type": "code",
   "execution_count": null,
   "id": "21cd39e9-26f8-4d5d-acc3-527989bb9b01",
   "metadata": {},
   "outputs": [],
   "source": [
    "# Note : When use from 'drop_duplicate'?\n",
    "# If duplicate data has a negative effect on the results of data analysis \n",
    "# or\n",
    "# where there is no need for duplicate data and a lot of time is spent on checking them.\n",
    "# Result: Business Understanding is very importand in preprocessing of data"
   ]
  },
  {
   "cell_type": "markdown",
   "id": "02fdda78-01f7-4e90-85f8-40f43a5026dc",
   "metadata": {},
   "source": [
    "<h2>Delete Null/NaN rows</h2>"
   ]
  },
  {
   "cell_type": "code",
   "execution_count": null,
   "id": "8a3a6b7e-22f1-4064-aa20-b2f3f4156800",
   "metadata": {},
   "outputs": [],
   "source": [
    "tita.shape"
   ]
  },
  {
   "cell_type": "code",
   "execution_count": null,
   "id": "6a400a20-147b-484a-834c-054a4e244917",
   "metadata": {},
   "outputs": [],
   "source": [
    "tita.dropna(inplace = True)     # Delete all rows that have null/nan value in columns\n",
    "tita.shape"
   ]
  },
  {
   "cell_type": "markdown",
   "id": "d201d207-f29e-4181-9272-f2e4bae24d4e",
   "metadata": {},
   "source": [
    "<h2>Change position of rows and columns</h2>"
   ]
  },
  {
   "cell_type": "code",
   "execution_count": null,
   "id": "21a1b9f4-c81d-4e64-899d-b86a8fac258a",
   "metadata": {},
   "outputs": [],
   "source": [
    "iris = iris.transpose()\n",
    "iris"
   ]
  },
  {
   "cell_type": "markdown",
   "id": "072b6589-5bed-4ced-be38-c1057c579c9f",
   "metadata": {},
   "source": [
    "<h2>Apply function</h2>\n",
    "<h7>We use from 'apply' function when we want to do something on a column</h7>\n",
    "<h2>Lambda function</h2>\n",
    "<h7>A lambda function is a small anonymous function.</h7>\n",
    "\n",
    "<h7>A lambda function can take any number of arguments, but can only have one expression.</h7>"
   ]
  },
  {
   "cell_type": "code",
   "execution_count": null,
   "id": "ed7456ad-2b3a-496a-bdac-719d24b868c0",
   "metadata": {},
   "outputs": [],
   "source": [
    "iris = iris.transpose()\n",
    "iris"
   ]
  },
  {
   "cell_type": "code",
   "execution_count": null,
   "id": "46cddf5d-2db5-4b7d-b145-24909a237e7b",
   "metadata": {
    "scrolled": true
   },
   "outputs": [],
   "source": [
    "iris.sep_len = iris.sep_len.apply(lambda x : x * 100)\n",
    "iris.sep_len"
   ]
  },
  {
   "cell_type": "markdown",
   "id": "5b9c81cb-b606-407c-b500-146b4f434857",
   "metadata": {},
   "source": [
    "<h2>Copy from dataset</h2>"
   ]
  },
  {
   "cell_type": "code",
   "execution_count": null,
   "id": "b8ca5fd4-fad4-4a55-88ae-d3ec94ac9923",
   "metadata": {},
   "outputs": [],
   "source": [
    "iris_1 = iris.copy()     # id(iris_1) != id(iris)\n",
    "print(\"id(iris_1):\", id(iris_1))\n",
    "print('id(iris):', id(iris))\n"
   ]
  },
  {
   "cell_type": "markdown",
   "id": "d92da33f-26c1-4edd-aee1-2039c543ce7f",
   "metadata": {},
   "source": [
    "<h2>Change Type of values of a column</h2>"
   ]
  },
  {
   "cell_type": "code",
   "execution_count": null,
   "id": "4da66258-bd5f-4e41-8ff6-d2fceae4a0d3",
   "metadata": {},
   "outputs": [],
   "source": [
    "iris.info()"
   ]
  },
  {
   "cell_type": "code",
   "execution_count": null,
   "id": "098bc159-c1a2-486a-8e4f-0459d494f391",
   "metadata": {},
   "outputs": [],
   "source": [
    "iris.sep_len = iris.sep_len.astype(int)"
   ]
  },
  {
   "cell_type": "code",
   "execution_count": null,
   "id": "7ddf8a42-d152-444f-9b64-347a53297780",
   "metadata": {},
   "outputs": [],
   "source": [
    "iris.info()"
   ]
  },
  {
   "cell_type": "code",
   "execution_count": null,
   "id": "9e7fdfef-2ea7-4fe2-bfd0-8f66478db71a",
   "metadata": {},
   "outputs": [],
   "source": [
    "# note:\n",
    "# What is 'object' type?\n",
    "# In Python, the term “object” is quite the catch-all; including numbers, strings of characters, lists, functions\n",
    "# A Python object is essentially anything that you can assign to a variable."
   ]
  },
  {
   "cell_type": "code",
   "execution_count": null,
   "id": "7517edd3-0d12-4404-975f-a3c453d8cb38",
   "metadata": {
    "editable": true,
    "slideshow": {
     "slide_type": ""
    },
    "tags": []
   },
   "outputs": [],
   "source": [
    "iris.index   # index of all rows"
   ]
  },
  {
   "cell_type": "code",
   "execution_count": null,
   "id": "2c61ac7f-ae54-4bec-b91c-16bddbe82f89",
   "metadata": {
    "editable": true,
    "scrolled": true,
    "slideshow": {
     "slide_type": ""
    },
    "tags": []
   },
   "outputs": [],
   "source": [
    "iris"
   ]
  },
  {
   "cell_type": "code",
   "execution_count": null,
   "id": "5382557d-e6bf-4670-955d-517be181a47d",
   "metadata": {},
   "outputs": [],
   "source": [
    "iris.sep_len.idxmax()     # index of max value of a column"
   ]
  },
  {
   "cell_type": "code",
   "execution_count": null,
   "id": "5a77ad15-d659-4f95-b779-9c26863b9f4f",
   "metadata": {},
   "outputs": [],
   "source": [
    "iris.sep_len.idxmin()     # index of min value of a column"
   ]
  },
  {
   "cell_type": "code",
   "execution_count": null,
   "id": "f0144a2f-2624-4a7d-84d0-762976e23e0e",
   "metadata": {},
   "outputs": [],
   "source": [
    "iris[iris['sep_len'].index == (iris.sep_len.idxmin())]['sep_len']"
   ]
  },
  {
   "cell_type": "code",
   "execution_count": null,
   "id": "addea3ad-cd87-430d-9155-91eb7dcd1239",
   "metadata": {},
   "outputs": [],
   "source": [
    "iris[iris['sep_len'].index == (iris.sep_len.idxmax())]['sep_len']"
   ]
  },
  {
   "cell_type": "code",
   "execution_count": null,
   "id": "0da34ef5-86bd-48cc-960c-acb39681f9a1",
   "metadata": {},
   "outputs": [],
   "source": [
    "tita.dtypes     # Types of values of all columns"
   ]
  },
  {
   "cell_type": "markdown",
   "id": "e269951d-4817-406d-8af0-a81d3a78039d",
   "metadata": {},
   "source": [
    "<h2>Replace function</h2>"
   ]
  },
  {
   "cell_type": "code",
   "execution_count": null,
   "id": "aa8307a4-4b38-4d32-bdfd-d5aed5433ca1",
   "metadata": {},
   "outputs": [],
   "source": [
    "iris[iris.name == 'Iris-setosa']"
   ]
  },
  {
   "cell_type": "code",
   "execution_count": null,
   "id": "d3ba03ea-d731-467c-a7c9-cbe6a016c1e9",
   "metadata": {},
   "outputs": [],
   "source": [
    "iris.name.replace('Iris-setosa', 'Setosa', inplace = True)\n",
    "iris[iris.name == 'Iris-setosa']"
   ]
  },
  {
   "cell_type": "code",
   "execution_count": null,
   "id": "73f958f3-3bc3-49e0-9393-0f6b0e7f2fb7",
   "metadata": {},
   "outputs": [],
   "source": [
    "iris[iris.name == 'Setosa']"
   ]
  },
  {
   "cell_type": "code",
   "execution_count": null,
   "id": "48c5d5c9-5d08-4eaf-aec9-11a09b01131a",
   "metadata": {},
   "outputs": [],
   "source": [
    "tita = pd.read_excel('titanic3.xlsx')\n",
    "tita"
   ]
  },
  {
   "cell_type": "markdown",
   "id": "fbd9dbe3-91e5-4985-b720-3739de85dadd",
   "metadata": {},
   "source": [
    "<h2>GroupBy</h2>"
   ]
  },
  {
   "cell_type": "code",
   "execution_count": null,
   "id": "36c85ab2-a8aa-433e-87fb-c4ff4bc455df",
   "metadata": {},
   "outputs": [],
   "source": [
    "tita.groupby('sex').count()"
   ]
  },
  {
   "cell_type": "code",
   "execution_count": null,
   "id": "d069e0c2-9e3d-42b5-a8e8-4ede2d9d58e0",
   "metadata": {
    "scrolled": true
   },
   "outputs": [],
   "source": [
    "tita.groupby(['survived', 'sex']).count()"
   ]
  },
  {
   "cell_type": "code",
   "execution_count": null,
   "id": "8d583296-2bf2-4ae7-b916-5d2aa0ff10c7",
   "metadata": {},
   "outputs": [],
   "source": [
    "tita.groupby('sex').first()     # First row in group"
   ]
  },
  {
   "cell_type": "code",
   "execution_count": null,
   "id": "45a56d0e-d2de-4526-af4d-a248f80db996",
   "metadata": {},
   "outputs": [],
   "source": [
    "tita.groupby('sex').last()      # Last row in group"
   ]
  },
  {
   "cell_type": "markdown",
   "id": "8a3521d7-0beb-4171-9777-4d0aab6281a4",
   "metadata": {},
   "source": [
    "<h2>Aggregation and Grouping</h2>"
   ]
  },
  {
   "cell_type": "code",
   "execution_count": null,
   "id": "d284a8fb-9a51-4be7-8387-337d7d2f64ec",
   "metadata": {},
   "outputs": [],
   "source": [
    "tita.groupby(['sex', 'survived']).agg({'age' : ['max', 'min', 'sum', 'mean']})"
   ]
  },
  {
   "cell_type": "markdown",
   "id": "9c4efc05-b7d7-4957-8149-b32403cfea0c",
   "metadata": {},
   "source": [
    "<h2>Pivot_table function</h2>"
   ]
  },
  {
   "cell_type": "code",
   "execution_count": null,
   "id": "b0d25038-ae45-4c1f-a88a-f3cf70fa30a4",
   "metadata": {
    "editable": true,
    "scrolled": true,
    "slideshow": {
     "slide_type": ""
    },
    "tags": []
   },
   "outputs": [],
   "source": [
    "tita.pivot_table(index = 'name', columns = ['sex'], values = 'pclass')"
   ]
  },
  {
   "cell_type": "code",
   "execution_count": null,
   "id": "300853c1-9bc4-44f9-9c2a-16f0b44018e2",
   "metadata": {},
   "outputs": [],
   "source": [
    "tita.pivot_table(index = ['sex', 'survived', 'pclass'], values = 'age', aggfunc = {'max', 'min', 'sum', 'mean'})"
   ]
  },
  {
   "cell_type": "markdown",
   "id": "40993198-eea3-4056-a831-da2953bfd8e8",
   "metadata": {
    "editable": true,
    "slideshow": {
     "slide_type": ""
    },
    "tags": []
   },
   "source": [
    "<h2>Fillna function</h2>\n",
    "<h7>Fill Null/NaN cells</h7>"
   ]
  },
  {
   "cell_type": "code",
   "execution_count": null,
   "id": "a294e2fa-03a7-41b9-815c-3e6f53ac0893",
   "metadata": {
    "editable": true,
    "scrolled": true,
    "slideshow": {
     "slide_type": ""
    },
    "tags": []
   },
   "outputs": [],
   "source": [
    "tita.isna().sum()"
   ]
  },
  {
   "cell_type": "code",
   "execution_count": null,
   "id": "d0b2ddcb-8ab8-4e92-81f5-8b600e15474d",
   "metadata": {},
   "outputs": [],
   "source": [
    "tita.fillna({'age' : round(tita1.age.mean())}, inplace = True)     # Fill Null/NaN cells from a column with value = 30\n",
    "# Also you can use from 'bfill(back fill)' and 'ffill(forward fill)'\n",
    "tita.age"
   ]
  },
  {
   "cell_type": "code",
   "execution_count": null,
   "id": "a41fccb0-fe36-4c25-8224-b20a9c43fcdd",
   "metadata": {},
   "outputs": [],
   "source": [
    "tita.age.isna().sum()"
   ]
  },
  {
   "cell_type": "markdown",
   "id": "79884da2-ccdc-490a-ad27-13ba532d74d2",
   "metadata": {},
   "source": [
    "<h2>Time Series</h2>"
   ]
  },
  {
   "cell_type": "code",
   "execution_count": null,
   "id": "6693f686-4fd0-4d9a-bc2f-57178ee6497c",
   "metadata": {
    "editable": true,
    "slideshow": {
     "slide_type": ""
    },
    "tags": []
   },
   "outputs": [],
   "source": [
    "idx=pd.date_range(\"2018-01-01 00-00-00\", periods=20, freq=pd.offsets.Minute(3))\n",
    "value=np.random.rand(20)\n",
    "pd.DataFrame(value,index=idx)"
   ]
  },
  {
   "cell_type": "markdown",
   "id": "981ca8a7-1755-4fa8-a5e3-c0910a75689d",
   "metadata": {
    "editable": true,
    "slideshow": {
     "slide_type": ""
    },
    "tags": []
   },
   "source": [
    "<h2>Map function</h2>\n",
    "<h7>Map in Python is a function that works as an iterator to return a result after applying a function to every item of an iterable (tuple, lists, etc.)</h7>"
   ]
  },
  {
   "cell_type": "code",
   "execution_count": null,
   "id": "8fe5cdc0-9381-4969-a660-e4752b72f7ae",
   "metadata": {},
   "outputs": [],
   "source": [
    "def powertwo(number):\n",
    "    return number * number\n",
    "    \n",
    "list_nums = [1, 2, 3, 4, 5]\n",
    "print(list(map(powertwo, list_nums)))"
   ]
  },
  {
   "cell_type": "code",
   "execution_count": null,
   "id": "399b6cf8-667e-448e-b3d8-bb24096fae02",
   "metadata": {
    "editable": true,
    "slideshow": {
     "slide_type": ""
    },
    "tags": []
   },
   "outputs": [],
   "source": [
    "pd.__version__     # version of a library"
   ]
  },
  {
   "cell_type": "code",
   "execution_count": null,
   "id": "9ca5c663-e58b-4481-a6cf-08ff793e47a1",
   "metadata": {},
   "outputs": [],
   "source": []
  }
 ],
 "metadata": {
  "kernelspec": {
   "display_name": "Python 3 (ipykernel)",
   "language": "python",
   "name": "python3"
  },
  "language_info": {
   "codemirror_mode": {
    "name": "ipython",
    "version": 3
   },
   "file_extension": ".py",
   "mimetype": "text/x-python",
   "name": "python",
   "nbconvert_exporter": "python",
   "pygments_lexer": "ipython3",
   "version": "3.11.5"
  }
 },
 "nbformat": 4,
 "nbformat_minor": 5
}

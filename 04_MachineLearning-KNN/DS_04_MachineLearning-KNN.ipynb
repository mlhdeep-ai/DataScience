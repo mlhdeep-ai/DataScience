{
 "cells": [
  {
   "cell_type": "markdown",
   "id": "5a352244-8100-4d10-8ab0-2a446cd09c01",
   "metadata": {},
   "source": [
    "<h1>Part 04 : Machine Learning - KNN algorithm(K-Nearest Neighbour)</h1>\n",
    "<h5>Machine learning is a branch of artificial intelligence (AI) and computer science which focuses on the use of data and algorithms to imitate the way that humans learn, gradually improving its accuracy.</h5>\n",
    "<h7>The k-nearest neighbors (KNN) algorithm is a non-parametric, supervised learning classifier, which uses proximity to make classifications or predictions about the grouping of an individual data point. It is one of the popular and simplest classification and regression classifiers used in machine learning today.</h7>"
   ]
  },
  {
   "cell_type": "markdown",
   "id": "6b23235b-0c82-4d0f-bc3f-a1632ab79be2",
   "metadata": {},
   "source": [
    "<h2>Machine learning methods</h2>\n",
    "<h2>Supervised learning:</h2>\n",
    "<h7>It is defined by its use of labeled datasets to train algorithms to classify data or predict outcomes accurately.</h7>\n",
    "<h2>Unsupervised learning:</h2>\n",
    "<h7>It uses machine learning algorithms to analyze and cluster unlabeled datasets (subsets called clusters).</h7>\n",
    "<h2>Semi-supervised learning:</h2>\n",
    "<h7>It offers a happy medium between supervised and unsupervised learning. During training, it uses a smaller labeled data set to guide classification and feature extraction from a larger, unlabeled data set.</h7>\n",
    "<h2>Self-supervised learning</h2>\n",
    "<h2>Reinforcement learning:</h2>\n",
    "<h7>It is a machine learning model that is similar to supervised learning, but the algorithm isn’t trained using sample data. This model learns as it goes by using trial and error. A sequence of successful outcomes will be reinforced to develop the best recommendation or policy for a given problem.</h7>"
   ]
  },
  {
   "cell_type": "code",
   "execution_count": 2,
   "id": "9887ee6a-c213-4a70-97c5-ebb3980cddfb",
   "metadata": {},
   "outputs": [],
   "source": [
    "import pandas as pd\n",
    "import numpy as np"
   ]
  },
  {
   "cell_type": "code",
   "execution_count": 3,
   "id": "91a2217d-5446-44f7-8d65-9773088bd79e",
   "metadata": {
    "scrolled": true
   },
   "outputs": [
    {
     "data": {
      "text/html": [
       "<div>\n",
       "<style scoped>\n",
       "    .dataframe tbody tr th:only-of-type {\n",
       "        vertical-align: middle;\n",
       "    }\n",
       "\n",
       "    .dataframe tbody tr th {\n",
       "        vertical-align: top;\n",
       "    }\n",
       "\n",
       "    .dataframe thead th {\n",
       "        text-align: right;\n",
       "    }\n",
       "</style>\n",
       "<table border=\"1\" class=\"dataframe\">\n",
       "  <thead>\n",
       "    <tr style=\"text-align: right;\">\n",
       "      <th></th>\n",
       "      <th>Number of times pregnant</th>\n",
       "      <th>Plasma glucose concentration</th>\n",
       "      <th>Diastolic blood pressure</th>\n",
       "      <th>Triceps skin fold thickness</th>\n",
       "      <th>2-Hour serum insulin</th>\n",
       "      <th>Body mass index</th>\n",
       "      <th>Diabetes pedigree function</th>\n",
       "      <th>Age (years)</th>\n",
       "      <th>Class variable</th>\n",
       "    </tr>\n",
       "  </thead>\n",
       "  <tbody>\n",
       "    <tr>\n",
       "      <th>0</th>\n",
       "      <td>6</td>\n",
       "      <td>148</td>\n",
       "      <td>72</td>\n",
       "      <td>35</td>\n",
       "      <td>0</td>\n",
       "      <td>33.6</td>\n",
       "      <td>0.627</td>\n",
       "      <td>50</td>\n",
       "      <td>YES</td>\n",
       "    </tr>\n",
       "    <tr>\n",
       "      <th>1</th>\n",
       "      <td>1</td>\n",
       "      <td>85</td>\n",
       "      <td>66</td>\n",
       "      <td>29</td>\n",
       "      <td>0</td>\n",
       "      <td>26.6</td>\n",
       "      <td>0.351</td>\n",
       "      <td>31</td>\n",
       "      <td>NO</td>\n",
       "    </tr>\n",
       "    <tr>\n",
       "      <th>2</th>\n",
       "      <td>8</td>\n",
       "      <td>183</td>\n",
       "      <td>64</td>\n",
       "      <td>0</td>\n",
       "      <td>0</td>\n",
       "      <td>23.3</td>\n",
       "      <td>0.672</td>\n",
       "      <td>32</td>\n",
       "      <td>YES</td>\n",
       "    </tr>\n",
       "    <tr>\n",
       "      <th>3</th>\n",
       "      <td>1</td>\n",
       "      <td>89</td>\n",
       "      <td>66</td>\n",
       "      <td>23</td>\n",
       "      <td>94</td>\n",
       "      <td>28.1</td>\n",
       "      <td>0.167</td>\n",
       "      <td>21</td>\n",
       "      <td>NO</td>\n",
       "    </tr>\n",
       "    <tr>\n",
       "      <th>4</th>\n",
       "      <td>0</td>\n",
       "      <td>137</td>\n",
       "      <td>40</td>\n",
       "      <td>35</td>\n",
       "      <td>168</td>\n",
       "      <td>43.1</td>\n",
       "      <td>2.288</td>\n",
       "      <td>33</td>\n",
       "      <td>YES</td>\n",
       "    </tr>\n",
       "    <tr>\n",
       "      <th>...</th>\n",
       "      <td>...</td>\n",
       "      <td>...</td>\n",
       "      <td>...</td>\n",
       "      <td>...</td>\n",
       "      <td>...</td>\n",
       "      <td>...</td>\n",
       "      <td>...</td>\n",
       "      <td>...</td>\n",
       "      <td>...</td>\n",
       "    </tr>\n",
       "    <tr>\n",
       "      <th>763</th>\n",
       "      <td>10</td>\n",
       "      <td>101</td>\n",
       "      <td>76</td>\n",
       "      <td>48</td>\n",
       "      <td>180</td>\n",
       "      <td>32.9</td>\n",
       "      <td>0.171</td>\n",
       "      <td>63</td>\n",
       "      <td>NO</td>\n",
       "    </tr>\n",
       "    <tr>\n",
       "      <th>764</th>\n",
       "      <td>2</td>\n",
       "      <td>122</td>\n",
       "      <td>70</td>\n",
       "      <td>27</td>\n",
       "      <td>0</td>\n",
       "      <td>36.8</td>\n",
       "      <td>0.340</td>\n",
       "      <td>27</td>\n",
       "      <td>NO</td>\n",
       "    </tr>\n",
       "    <tr>\n",
       "      <th>765</th>\n",
       "      <td>5</td>\n",
       "      <td>121</td>\n",
       "      <td>72</td>\n",
       "      <td>23</td>\n",
       "      <td>112</td>\n",
       "      <td>26.2</td>\n",
       "      <td>0.245</td>\n",
       "      <td>30</td>\n",
       "      <td>NO</td>\n",
       "    </tr>\n",
       "    <tr>\n",
       "      <th>766</th>\n",
       "      <td>1</td>\n",
       "      <td>126</td>\n",
       "      <td>60</td>\n",
       "      <td>0</td>\n",
       "      <td>0</td>\n",
       "      <td>30.1</td>\n",
       "      <td>0.349</td>\n",
       "      <td>47</td>\n",
       "      <td>YES</td>\n",
       "    </tr>\n",
       "    <tr>\n",
       "      <th>767</th>\n",
       "      <td>1</td>\n",
       "      <td>93</td>\n",
       "      <td>70</td>\n",
       "      <td>31</td>\n",
       "      <td>0</td>\n",
       "      <td>30.4</td>\n",
       "      <td>0.315</td>\n",
       "      <td>23</td>\n",
       "      <td>NO</td>\n",
       "    </tr>\n",
       "  </tbody>\n",
       "</table>\n",
       "<p>768 rows × 9 columns</p>\n",
       "</div>"
      ],
      "text/plain": [
       "     Number of times pregnant  Plasma glucose concentration  \\\n",
       "0                           6                           148   \n",
       "1                           1                            85   \n",
       "2                           8                           183   \n",
       "3                           1                            89   \n",
       "4                           0                           137   \n",
       "..                        ...                           ...   \n",
       "763                        10                           101   \n",
       "764                         2                           122   \n",
       "765                         5                           121   \n",
       "766                         1                           126   \n",
       "767                         1                            93   \n",
       "\n",
       "     Diastolic blood pressure  Triceps skin fold thickness  \\\n",
       "0                          72                           35   \n",
       "1                          66                           29   \n",
       "2                          64                            0   \n",
       "3                          66                           23   \n",
       "4                          40                           35   \n",
       "..                        ...                          ...   \n",
       "763                        76                           48   \n",
       "764                        70                           27   \n",
       "765                        72                           23   \n",
       "766                        60                            0   \n",
       "767                        70                           31   \n",
       "\n",
       "     2-Hour serum insulin  Body mass index  Diabetes pedigree function  \\\n",
       "0                       0             33.6                       0.627   \n",
       "1                       0             26.6                       0.351   \n",
       "2                       0             23.3                       0.672   \n",
       "3                      94             28.1                       0.167   \n",
       "4                     168             43.1                       2.288   \n",
       "..                    ...              ...                         ...   \n",
       "763                   180             32.9                       0.171   \n",
       "764                     0             36.8                       0.340   \n",
       "765                   112             26.2                       0.245   \n",
       "766                     0             30.1                       0.349   \n",
       "767                     0             30.4                       0.315   \n",
       "\n",
       "     Age (years) Class variable  \n",
       "0             50            YES  \n",
       "1             31             NO  \n",
       "2             32            YES  \n",
       "3             21             NO  \n",
       "4             33            YES  \n",
       "..           ...            ...  \n",
       "763           63             NO  \n",
       "764           27             NO  \n",
       "765           30             NO  \n",
       "766           47            YES  \n",
       "767           23             NO  \n",
       "\n",
       "[768 rows x 9 columns]"
      ]
     },
     "execution_count": 3,
     "metadata": {},
     "output_type": "execute_result"
    }
   ],
   "source": [
    "dia = pd.read_csv('Diabetes.csv')\n",
    "dia"
   ]
  },
  {
   "cell_type": "code",
   "execution_count": 4,
   "id": "cf69240d-6c96-41c0-8b24-442a9b1501d4",
   "metadata": {
    "scrolled": true
   },
   "outputs": [
    {
     "data": {
      "text/html": [
       "<div>\n",
       "<style scoped>\n",
       "    .dataframe tbody tr th:only-of-type {\n",
       "        vertical-align: middle;\n",
       "    }\n",
       "\n",
       "    .dataframe tbody tr th {\n",
       "        vertical-align: top;\n",
       "    }\n",
       "\n",
       "    .dataframe thead th {\n",
       "        text-align: right;\n",
       "    }\n",
       "</style>\n",
       "<table border=\"1\" class=\"dataframe\">\n",
       "  <thead>\n",
       "    <tr style=\"text-align: right;\">\n",
       "      <th></th>\n",
       "      <th>num_times_preg</th>\n",
       "      <th>plasma_gluc_conct</th>\n",
       "      <th>diast_blood_pres</th>\n",
       "      <th>tric_skin_fold_thick</th>\n",
       "      <th>2h_serum_insul</th>\n",
       "      <th>bmi</th>\n",
       "      <th>diab_pedig_func</th>\n",
       "      <th>age</th>\n",
       "      <th>output</th>\n",
       "    </tr>\n",
       "  </thead>\n",
       "  <tbody>\n",
       "    <tr>\n",
       "      <th>0</th>\n",
       "      <td>6</td>\n",
       "      <td>148</td>\n",
       "      <td>72</td>\n",
       "      <td>35</td>\n",
       "      <td>0</td>\n",
       "      <td>33.6</td>\n",
       "      <td>0.627</td>\n",
       "      <td>50</td>\n",
       "      <td>YES</td>\n",
       "    </tr>\n",
       "    <tr>\n",
       "      <th>1</th>\n",
       "      <td>1</td>\n",
       "      <td>85</td>\n",
       "      <td>66</td>\n",
       "      <td>29</td>\n",
       "      <td>0</td>\n",
       "      <td>26.6</td>\n",
       "      <td>0.351</td>\n",
       "      <td>31</td>\n",
       "      <td>NO</td>\n",
       "    </tr>\n",
       "    <tr>\n",
       "      <th>2</th>\n",
       "      <td>8</td>\n",
       "      <td>183</td>\n",
       "      <td>64</td>\n",
       "      <td>0</td>\n",
       "      <td>0</td>\n",
       "      <td>23.3</td>\n",
       "      <td>0.672</td>\n",
       "      <td>32</td>\n",
       "      <td>YES</td>\n",
       "    </tr>\n",
       "    <tr>\n",
       "      <th>3</th>\n",
       "      <td>1</td>\n",
       "      <td>89</td>\n",
       "      <td>66</td>\n",
       "      <td>23</td>\n",
       "      <td>94</td>\n",
       "      <td>28.1</td>\n",
       "      <td>0.167</td>\n",
       "      <td>21</td>\n",
       "      <td>NO</td>\n",
       "    </tr>\n",
       "    <tr>\n",
       "      <th>4</th>\n",
       "      <td>0</td>\n",
       "      <td>137</td>\n",
       "      <td>40</td>\n",
       "      <td>35</td>\n",
       "      <td>168</td>\n",
       "      <td>43.1</td>\n",
       "      <td>2.288</td>\n",
       "      <td>33</td>\n",
       "      <td>YES</td>\n",
       "    </tr>\n",
       "    <tr>\n",
       "      <th>...</th>\n",
       "      <td>...</td>\n",
       "      <td>...</td>\n",
       "      <td>...</td>\n",
       "      <td>...</td>\n",
       "      <td>...</td>\n",
       "      <td>...</td>\n",
       "      <td>...</td>\n",
       "      <td>...</td>\n",
       "      <td>...</td>\n",
       "    </tr>\n",
       "    <tr>\n",
       "      <th>763</th>\n",
       "      <td>10</td>\n",
       "      <td>101</td>\n",
       "      <td>76</td>\n",
       "      <td>48</td>\n",
       "      <td>180</td>\n",
       "      <td>32.9</td>\n",
       "      <td>0.171</td>\n",
       "      <td>63</td>\n",
       "      <td>NO</td>\n",
       "    </tr>\n",
       "    <tr>\n",
       "      <th>764</th>\n",
       "      <td>2</td>\n",
       "      <td>122</td>\n",
       "      <td>70</td>\n",
       "      <td>27</td>\n",
       "      <td>0</td>\n",
       "      <td>36.8</td>\n",
       "      <td>0.340</td>\n",
       "      <td>27</td>\n",
       "      <td>NO</td>\n",
       "    </tr>\n",
       "    <tr>\n",
       "      <th>765</th>\n",
       "      <td>5</td>\n",
       "      <td>121</td>\n",
       "      <td>72</td>\n",
       "      <td>23</td>\n",
       "      <td>112</td>\n",
       "      <td>26.2</td>\n",
       "      <td>0.245</td>\n",
       "      <td>30</td>\n",
       "      <td>NO</td>\n",
       "    </tr>\n",
       "    <tr>\n",
       "      <th>766</th>\n",
       "      <td>1</td>\n",
       "      <td>126</td>\n",
       "      <td>60</td>\n",
       "      <td>0</td>\n",
       "      <td>0</td>\n",
       "      <td>30.1</td>\n",
       "      <td>0.349</td>\n",
       "      <td>47</td>\n",
       "      <td>YES</td>\n",
       "    </tr>\n",
       "    <tr>\n",
       "      <th>767</th>\n",
       "      <td>1</td>\n",
       "      <td>93</td>\n",
       "      <td>70</td>\n",
       "      <td>31</td>\n",
       "      <td>0</td>\n",
       "      <td>30.4</td>\n",
       "      <td>0.315</td>\n",
       "      <td>23</td>\n",
       "      <td>NO</td>\n",
       "    </tr>\n",
       "  </tbody>\n",
       "</table>\n",
       "<p>768 rows × 9 columns</p>\n",
       "</div>"
      ],
      "text/plain": [
       "     num_times_preg  plasma_gluc_conct  diast_blood_pres  \\\n",
       "0                 6                148                72   \n",
       "1                 1                 85                66   \n",
       "2                 8                183                64   \n",
       "3                 1                 89                66   \n",
       "4                 0                137                40   \n",
       "..              ...                ...               ...   \n",
       "763              10                101                76   \n",
       "764               2                122                70   \n",
       "765               5                121                72   \n",
       "766               1                126                60   \n",
       "767               1                 93                70   \n",
       "\n",
       "     tric_skin_fold_thick  2h_serum_insul   bmi  diab_pedig_func  age output  \n",
       "0                      35               0  33.6            0.627   50    YES  \n",
       "1                      29               0  26.6            0.351   31     NO  \n",
       "2                       0               0  23.3            0.672   32    YES  \n",
       "3                      23              94  28.1            0.167   21     NO  \n",
       "4                      35             168  43.1            2.288   33    YES  \n",
       "..                    ...             ...   ...              ...  ...    ...  \n",
       "763                    48             180  32.9            0.171   63     NO  \n",
       "764                    27               0  36.8            0.340   27     NO  \n",
       "765                    23             112  26.2            0.245   30     NO  \n",
       "766                     0               0  30.1            0.349   47    YES  \n",
       "767                    31               0  30.4            0.315   23     NO  \n",
       "\n",
       "[768 rows x 9 columns]"
      ]
     },
     "execution_count": 4,
     "metadata": {},
     "output_type": "execute_result"
    }
   ],
   "source": [
    "dia = dia.rename(columns = {' Number of times pregnant' : 'num_times_preg',' Plasma glucose concentration' : 'plasma_gluc_conct', ' Diastolic blood pressure' : 'diast_blood_pres', ' Triceps skin fold thickness' : 'tric_skin_fold_thick', ' 2-Hour serum insulin' : '2h_serum_insul', ' Body mass index' : 'bmi',\n",
    "                            ' Diabetes pedigree function' : 'diab_pedig_func', ' Age (years)' : 'age', ' Class variable' : 'output'})\n",
    "dia"
   ]
  },
  {
   "cell_type": "code",
   "execution_count": 5,
   "id": "8e7d9fdb-cf9a-408d-911b-4995a8751e99",
   "metadata": {},
   "outputs": [
    {
     "data": {
      "text/plain": [
       "array(['1', '0'], dtype=object)"
      ]
     },
     "execution_count": 5,
     "metadata": {},
     "output_type": "execute_result"
    }
   ],
   "source": [
    "dia.output = dia.output.str.replace('YES', '1')\n",
    "dia.output = dia.output.str.replace('NO', '0')\n",
    "\n",
    "dia.output.unique()"
   ]
  },
  {
   "cell_type": "markdown",
   "id": "a5fd813c-b810-4d12-bdd4-58b8384297d3",
   "metadata": {},
   "source": [
    "<h2>Scikit-learn library</h2>\n",
    "<h7>scikit-learn (also known as sklearn) is a free software machine learning library for the Python programming language. It features various classification, regression and clustering algorithms including support-vector machines, random forests, gradient boosting, k-means and DBSCAN, and is designed to interoperate with the Python numerical and scientific libraries NumPy and SciPy.</h7>"
   ]
  },
  {
   "cell_type": "markdown",
   "id": "6ed1af78-09e5-41f5-97b5-f2c96ca03bcd",
   "metadata": {},
   "source": [
    "<h2>sklearn.model_selection.train_test_split function</h2>\n",
    "<h7>The train_test_split function of the sklearn.model_selection package in Python splits arrays or matrices into random subsets for train and test data, respectively.</h7>"
   ]
  },
  {
   "cell_type": "markdown",
   "id": "0bfeafcb-0168-454a-83cc-ee3c51441d7f",
   "metadata": {},
   "source": [
    "<h2>sklearn.neighbors.KNeighborsClassifier</h2>\n",
    "<h7>Classifier implementing the k-nearest neighbors vote.</h7>"
   ]
  },
  {
   "cell_type": "markdown",
   "id": "367016e1-d03b-4d02-bf71-f9d4c7b9eb25",
   "metadata": {},
   "source": [
    "<h2>sklearn.neighbors.KNeighborsRegressor</h2>\n",
    "<h7>Regression based on k-nearest neighbors.</h7>"
   ]
  },
  {
   "cell_type": "markdown",
   "id": "5a135a62-e8d6-487b-99d9-3d296ad1fafd",
   "metadata": {},
   "source": [
    "<h2>sklearn.metrics.classification_report</h2>\n",
    "<h7>Build a text report showing the main classification metrics.</h7>"
   ]
  },
  {
   "cell_type": "markdown",
   "id": "193c7fe1-3364-4e9d-9d85-b6cd30d75780",
   "metadata": {},
   "source": [
    "<h2>sklearn.metrics.confusion_matrix</h2>\n",
    "<h7>Compute confusion matrix to evaluate the accuracy of a classification.</h7>"
   ]
  },
  {
   "cell_type": "code",
   "execution_count": 6,
   "id": "3d03678d-4b20-4f87-81a9-3bdf660e9bde",
   "metadata": {},
   "outputs": [],
   "source": [
    "import matplotlib.pyplot as plt     # For Visualization\n",
    "import sklearn     # Scikit-learn library for machine learning  \n",
    "from sklearn.model_selection import train_test_split     # For Split dataset\n",
    "from sklearn.neighbors import KNeighborsClassifier, KNeighborsRegressor     # For train\n",
    "from sklearn.metrics import classification_report, confusion_matrix     # For Performance analysis"
   ]
  },
  {
   "cell_type": "code",
   "execution_count": 7,
   "id": "09b0525f-2c6d-47eb-9393-1d6e177ce596",
   "metadata": {},
   "outputs": [],
   "source": [
    "# Normalization\n",
    "# dia.plasma_gluc_conct = dia.plasma_gluc_conct.apply(lambda x : (x - dia.plasma_gluc_conct.min()) / dia.plasma_gluc_conct.max())\n",
    "# dia.bmi = dia.bmi.apply(lambda x : (x - dia.bmi.min()) / dia.bmi.max())\n",
    "# dia.age = dia.age.apply(lambda x : (x - dia.age.min()) / dia.age.max())"
   ]
  },
  {
   "cell_type": "code",
   "execution_count": 8,
   "id": "f6356482-5891-4217-b817-08f0b4025d98",
   "metadata": {},
   "outputs": [
    {
     "data": {
      "text/plain": [
       "67.1"
      ]
     },
     "execution_count": 8,
     "metadata": {},
     "output_type": "execute_result"
    }
   ],
   "source": [
    "dia.bmi.max()"
   ]
  },
  {
   "cell_type": "code",
   "execution_count": 9,
   "id": "b7b2d2cc-ccc8-456e-a5bb-95debcdfa818",
   "metadata": {},
   "outputs": [
    {
     "name": "stdout",
     "output_type": "stream",
     "text": [
      "<class 'pandas.core.frame.DataFrame'>\n",
      "plasma_gluc_conct    0\n",
      "bmi                  0\n",
      "age                  0\n",
      "dtype: int64\n",
      "(768, 3)\n",
      "\n",
      "0\n"
     ]
    }
   ],
   "source": [
    "x = dia[['plasma_gluc_conct', 'bmi', 'age']]     #     x is 'Input', 'Feature', 'independent variable', ...\n",
    "print(type(x))\n",
    "print(x.isna().sum())\n",
    "print(x.shape)\n",
    "print()\n",
    "\n",
    "y = dia['output']     #    y is 'output', 'target', 'lable', 'dependent variable'\n",
    "print(y.isna().sum())"
   ]
  },
  {
   "cell_type": "code",
   "execution_count": 10,
   "id": "e33f08e7-99ae-4573-a22f-9790df1cc9a3",
   "metadata": {},
   "outputs": [
    {
     "name": "stdout",
     "output_type": "stream",
     "text": [
      "0      1\n",
      "1      0\n",
      "2      1\n",
      "3      0\n",
      "4      1\n",
      "      ..\n",
      "763    0\n",
      "764    0\n",
      "765    0\n",
      "766    1\n",
      "767    0\n",
      "Name: output, Length: 768, dtype: object\n"
     ]
    }
   ],
   "source": [
    "print(y)"
   ]
  },
  {
   "cell_type": "code",
   "execution_count": 14,
   "id": "d07534c7-e368-4e5b-8aca-9a13d81c898c",
   "metadata": {},
   "outputs": [
    {
     "name": "stdout",
     "output_type": "stream",
     "text": [
      "Accuracy in this model(knn): 82.468\n"
     ]
    }
   ],
   "source": [
    "# 1- Splitting data (80% for train and 20% for test)\n",
    "x_train, x_test, y_train, y_test = train_test_split(x, y, test_size = 0.2, random_state = 12121212, stratify = y) \n",
    "# 'random_state' is optional and it is for shuffle data....example: 323323, 23233, 12121212\n",
    "# 'stratify' cause data lables balances on'y' (n_lable1 = n_lable2)\n",
    "k = 21\n",
    "\n",
    "# 2- Create model for train\n",
    "knn = KNeighborsClassifier(metric = 'minkowski', n_neighbors = k)     # knn is a intelligence\n",
    "# Distance Metrics ==> 'minkowski', 'manhattan', 'euclidean', 'cosine', 'jaccard', 'hamming'\n",
    "\n",
    "# 3- send data to model \n",
    "knn.fit(x_train, y_train)   \n",
    "# y_pred = knn.predict(x_test.values)\n",
    "accuracy = knn.score(x_test, y_test) * 100\n",
    "print(\"Accuracy in this model(knn): %.3f\" % accuracy)"
   ]
  },
  {
   "cell_type": "markdown",
   "id": "47bd4b25-f437-44f3-ba89-b4a6d9439386",
   "metadata": {},
   "source": [
    "<h2>Model Optimizing (Increase accuracy)</h2>\n",
    "<h7>1- Increase data (records)</h7>\n",
    "    \n",
    "<h7>2- Change features (add or remove column(s))</h7>\n",
    "\n",
    "<h7>3- Change hyper paramaeters in model (e: k, metric, ...)</h7>"
   ]
  },
  {
   "cell_type": "code",
   "execution_count": 16,
   "id": "efa94c36-a87c-44a7-9875-10c17d2bc2f9",
   "metadata": {},
   "outputs": [
    {
     "name": "stdout",
     "output_type": "stream",
     "text": [
      "max_accuracy: 76.70\n",
      "k_good: 19\n"
     ]
    }
   ],
   "source": [
    "# Select best 'K' with a loop and 'cross_val_score' package\n",
    "from sklearn.model_selection import cross_val_score     # Evaluate a score by cross-validation\n",
    "k_score = []\n",
    "for k in range(3, 100, 2):\n",
    "    knn = KNeighborsClassifier(n_neighbors = k, metric= 'minkowski')     # knn is a intelligence\n",
    "    scores = cross_val_score(knn, x, y, cv = 10, scoring = 'accuracy')     #It averages.\n",
    "    # x : the input features to train the model. y : the output labels associated with input features. cv : the number of folds (1 piece for test other pieces for train).\n",
    "    k_score.append([k, scores.mean()])\n",
    "\n",
    "k_score_max = max(k_score[i][1] for i in range(len(k_score)))\n",
    "for i in range(len(k_score)):\n",
    "    if k_score[i][1] == k_score_max:\n",
    "        k_max = k_score[i][0]\n",
    "        break\n",
    "print(\"max_accuracy: %.2f\" % (k_score_max * 100))\n",
    "print(\"k_good:\", k_max) "
   ]
  },
  {
   "cell_type": "code",
   "execution_count": 13,
   "id": "8cdf0578-a53d-4ac7-a9e8-30fd2cf24203",
   "metadata": {},
   "outputs": [
    {
     "data": {
      "image/png": "[encoded data removed]",
      "text/plain": [
       "<Figure size 2000x500 with 1 Axes>"
      ]
     },
     "metadata": {},
     "output_type": "display_data"
    }
   ],
   "source": [
    "plt.figure(figsize=(20, 5))\n",
    "plt.plot([k_score[i][0] for i in range(len(k_score))], [k_score[i][1] for i in range(len(k_score))])\n",
    "plt.ylabel('scores')\n",
    "plt.xlabel('k')\n",
    "plt.xticks(range(1, 100, 2))\n",
    "plt.grid()\n",
    "plt.show()"
   ]
  },
  {
   "cell_type": "code",
   "execution_count": null,
   "id": "563e8fa7-ed17-41b5-8deb-eeafca317663",
   "metadata": {},
   "outputs": [],
   "source": []
  }
 ],
 "metadata": {
  "kernelspec": {
   "display_name": "Python 3 (ipykernel)",
   "language": "python",
   "name": "python3"
  },
  "language_info": {
   "codemirror_mode": {
    "name": "ipython",
    "version": 3
   },
   "file_extension": ".py",
   "mimetype": "text/x-python",
   "name": "python",
   "nbconvert_exporter": "python",
   "pygments_lexer": "ipython3",
   "version": "3.11.5"
  }
 },
 "nbformat": 4,
 "nbformat_minor": 5
}

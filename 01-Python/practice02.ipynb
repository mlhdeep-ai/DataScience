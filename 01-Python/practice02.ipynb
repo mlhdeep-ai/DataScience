{
 "cells": [
  {
   "cell_type": "code",
   "execution_count": 14,
   "id": "af4d2663-6d62-498d-8822-aac0b447bf2e",
   "metadata": {
    "tags": []
   },
   "outputs": [
    {
     "name": "stdin",
     "output_type": "stream",
     "text": [
      "Please enter your option (Rock = r, Paper = p, Scissors = s): r\n"
     ]
    },
    {
     "name": "stdout",
     "output_type": "stream",
     "text": [
      "You are Equal!\n",
      "\n"
     ]
    },
    {
     "name": "stdin",
     "output_type": "stream",
     "text": [
      "Please enter your option (Rock = r, Paper = p, Scissors = s): r\n"
     ]
    },
    {
     "name": "stdout",
     "output_type": "stream",
     "text": [
      "You: Rock and Machine: Paper ==> Machin Win!\n",
      "\n"
     ]
    },
    {
     "name": "stdin",
     "output_type": "stream",
     "text": [
      "Please enter your option (Rock = r, Paper = p, Scissors = s): r\n"
     ]
    },
    {
     "name": "stdout",
     "output_type": "stream",
     "text": [
      "You: Rock and Machine: Scissors ==> You win! :)\n",
      "\n"
     ]
    },
    {
     "name": "stdin",
     "output_type": "stream",
     "text": [
      "Please enter your option (Rock = r, Paper = p, Scissors = s): p\n"
     ]
    },
    {
     "name": "stdout",
     "output_type": "stream",
     "text": [
      "You are Equal!\n",
      "\n"
     ]
    },
    {
     "name": "stdin",
     "output_type": "stream",
     "text": [
      "Please enter your option (Rock = r, Paper = p, Scissors = s): p\n"
     ]
    },
    {
     "name": "stdout",
     "output_type": "stream",
     "text": [
      "You: Paper and Mahcine: Rock ==> You win! :)\n",
      "\n"
     ]
    }
   ],
   "source": [
    "# Rock, Paper, Scissors Game!\n",
    "# Rock = 1, Paper = 2, Scissors = 3\n",
    "\n",
    "import random as rd\n",
    "\n",
    "for i in range(5):\n",
    "    machine_opt = rd.randint(1, 3)\n",
    "    human_opt = input(\"Please enter your option (Rock = r, Paper = p, Scissors = s):\")\n",
    "    if human_opt == 'r': human_opt = 1\n",
    "    elif human_opt == 'p': human_opt = 2\n",
    "    elif human_opt == 's': human_opt = 3\n",
    "    else:\n",
    "        print(\"Your option is wrong! Please try again.\")\n",
    "        continue\n",
    "    \n",
    "    if machine_opt == human_opt:        \n",
    "        print(\"You are Equal!\")\n",
    "        \n",
    "    if human_opt == 1:\n",
    "        if machine_opt == 2:\n",
    "            print(\"You: Rock and Machine: Paper ==> Machin Win!\")\n",
    "        elif machine_opt == 3:\n",
    "            print(\"You: Rock and Machine: Scissors ==> You win! :)\")        \n",
    "    elif human_opt == 2:\n",
    "        if machine_opt == 1:\n",
    "            print(\"You: Paper and Mahcine: Rock ==> You win! :)\")\n",
    "        elif machine_opt == 3:\n",
    "            print(\"You: Paper and Machine: Scissors ==> Machin Win!\")\n",
    "    elif human_opt == 3:\n",
    "        if machine_opt == 1:\n",
    "            print(\"You: Scissors and Machine: Rock ==> Machin Win!\")\n",
    "        elif machine_opt == 2:\n",
    "            print(\"You: Scissors and Machine: Paper ==> You win! :)\")\n",
    "            \n",
    "    print()"
   ]
  },
  {
   "cell_type": "code",
   "execution_count": null,
   "id": "000ba4bc-1cf0-4d31-9de3-c899e5b0a19c",
   "metadata": {},
   "outputs": [],
   "source": []
  }
 ],
 "metadata": {
  "kernelspec": {
   "display_name": "Python 3 (ipykernel)",
   "language": "python",
   "name": "python3"
  },
  "language_info": {
   "codemirror_mode": {
    "name": "ipython",
    "version": 3
   },
   "file_extension": ".py",
   "mimetype": "text/x-python",
   "name": "python",
   "nbconvert_exporter": "python",
   "pygments_lexer": "ipython3",
   "version": "3.11.5"
  }
 },
 "nbformat": 4,
 "nbformat_minor": 5
}

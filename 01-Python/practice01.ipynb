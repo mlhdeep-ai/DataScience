{
 "cells": [
  {
   "cell_type": "code",
   "execution_count": 15,
   "id": "bd91ee48-dbd2-4fea-a009-a1ac3be3e1bf",
   "metadata": {
    "tags": []
   },
   "outputs": [
    {
     "name": "stdin",
     "output_type": "stream",
     "text": [
      "Please enter your Weight(kg) and Height(m): 85 1.83\n"
     ]
    },
    {
     "name": "stdout",
     "output_type": "stream",
     "text": [
      "BMI: 25.381469 ==> Result: Overweight\n"
     ]
    }
   ],
   "source": [
    "# Calculate the BMI index of people and declare the result!\n",
    "weight, height = map(float, input(\"Please enter your Weight(kg) and Height(m):\").split())\n",
    "bmi = weight / (height * height)\n",
    "#print(bmi)\n",
    "if bmi < 16:\n",
    "    print(\"BMI: %f ==> Result: Severe Thinness!\" % bmi)\n",
    "elif bmi >= 16 and bmi < 17:\n",
    "    print(\"BMI: %f ==> Result: Moderate Thinnes!\" % bmi)\n",
    "elif bmi >= 17 and bmi < 18.5:\n",
    "    print(\"BMI: %f ==> Result: Mild Thinness!\" % bmi)\n",
    "elif bmi >= 18.5 and bmi < 25:\n",
    "    print(\"BMI: %f ==> Result: Normal!\" % bmi)\n",
    "elif bmi >= 25 and bmi < 30:\n",
    "    print(\"BMI: %f ==> Result: Overweight\" % bmi)\n",
    "elif bmi >= 30 and bmi < 35:\n",
    "    print(\"BMI: %f ==> Result: Obese Class I\" % bmi)\n",
    "elif bmi >= 35 and bmi < 40:\n",
    "    print(\"BMI: %f ==> Result: Obese Obese Class II\" % bmi)\n",
    "elif bmi >= 40:\n",
    "    print(\"BMI: %f ==> Result: Obese Class III I\" % bmi)"
   ]
  },
  {
   "cell_type": "code",
   "execution_count": null,
   "id": "5ecbf35e-48d2-4752-899e-e13cf77c44f4",
   "metadata": {},
   "outputs": [],
   "source": []
  }
 ],
 "metadata": {
  "kernelspec": {
   "display_name": "Python 3 (ipykernel)",
   "language": "python",
   "name": "python3"
  },
  "language_info": {
   "codemirror_mode": {
    "name": "ipython",
    "version": 3
   },
   "file_extension": ".py",
   "mimetype": "text/x-python",
   "name": "python",
   "nbconvert_exporter": "python",
   "pygments_lexer": "ipython3",
   "version": "3.11.5"
  }
 },
 "nbformat": 4,
 "nbformat_minor": 5
}

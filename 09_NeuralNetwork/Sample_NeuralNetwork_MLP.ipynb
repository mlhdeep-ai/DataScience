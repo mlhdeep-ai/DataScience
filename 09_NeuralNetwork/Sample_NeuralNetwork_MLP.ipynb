{
 "cells": [
  {
   "cell_type": "markdown",
   "id": "42018a7a-c2c9-4486-bc8c-9b2914d9cf0c",
   "metadata": {},
   "source": [
    "<h1>Part 09 : Neural Network - MLP</h1>"
   ]
  },
  {
   "cell_type": "code",
   "execution_count": 156,
   "id": "47bbf266-3844-4174-a435-a8338c4c32ba",
   "metadata": {},
   "outputs": [],
   "source": [
    "import numpy as np\n",
    "import pandas as pd\n",
    "from sklearn.model_selection import train_test_split\n",
    "from sklearn.neural_network import MLPClassifier\n",
    "import matplotlib.pyplot as plt\n",
    "import cv2\n",
    "import glob as gb\n",
    "from sklearn.metrics import classification_report, confusion_matrix, ConfusionMatrixDisplay\n",
    "import seaborn as sb"
   ]
  },
  {
   "cell_type": "code",
   "execution_count": 45,
   "id": "d04bf02d-f994-4be4-9e8c-8f1b1a1ff983",
   "metadata": {},
   "outputs": [],
   "source": [
    "img = cv2.imread('Hoda 0-9\\9_970.bmp')    # Persian handwritten numbers"
   ]
  },
  {
   "cell_type": "code",
   "execution_count": 46,
   "id": "f48a8afb-cc5a-442c-8cc7-a4e6a6b01618",
   "metadata": {},
   "outputs": [
    {
     "data": {
      "text/plain": [
       "(117, 47, 3)"
      ]
     },
     "execution_count": 46,
     "metadata": {},
     "output_type": "execute_result"
    }
   ],
   "source": [
    "img.shape"
   ]
  },
  {
   "cell_type": "code",
   "execution_count": 47,
   "id": "9c19356d-7e4c-48c9-ab6d-a3238ba1799d",
   "metadata": {},
   "outputs": [
    {
     "data": {
      "text/plain": [
       "array([[[255, 255, 255],\n",
       "        [255, 255, 255],\n",
       "        [255, 255, 255],\n",
       "        ...,\n",
       "        [255, 255, 255],\n",
       "        [255, 255, 255],\n",
       "        [255, 255, 255]],\n",
       "\n",
       "       [[255, 255, 255],\n",
       "        [255, 255, 255],\n",
       "        [255, 255, 255],\n",
       "        ...,\n",
       "        [255, 255, 255],\n",
       "        [255, 255, 255],\n",
       "        [255, 255, 255]],\n",
       "\n",
       "       [[255, 255, 255],\n",
       "        [255, 255, 255],\n",
       "        [255, 255, 255],\n",
       "        ...,\n",
       "        [255, 255, 255],\n",
       "        [255, 255, 255],\n",
       "        [255, 255, 255]],\n",
       "\n",
       "       ...,\n",
       "\n",
       "       [[255, 255, 255],\n",
       "        [255, 255, 255],\n",
       "        [255, 255, 255],\n",
       "        ...,\n",
       "        [  0,   0,   0],\n",
       "        [255, 255, 255],\n",
       "        [255, 255, 255]],\n",
       "\n",
       "       [[255, 255, 255],\n",
       "        [255, 255, 255],\n",
       "        [255, 255, 255],\n",
       "        ...,\n",
       "        [  0,   0,   0],\n",
       "        [255, 255, 255],\n",
       "        [255, 255, 255]],\n",
       "\n",
       "       [[255, 255, 255],\n",
       "        [255, 255, 255],\n",
       "        [255, 255, 255],\n",
       "        ...,\n",
       "        [255, 255, 255],\n",
       "        [255, 255, 255],\n",
       "        [255, 255, 255]]], dtype=uint8)"
      ]
     },
     "execution_count": 47,
     "metadata": {},
     "output_type": "execute_result"
    }
   ],
   "source": [
    "img"
   ]
  },
  {
   "cell_type": "code",
   "execution_count": 48,
   "id": "84582fde-74ef-4f7d-b551-10c8f8e27eed",
   "metadata": {},
   "outputs": [
    {
     "data": {
      "text/plain": [
       "array([[255, 255, 255],\n",
       "       [255, 255, 255],\n",
       "       [255, 255, 255],\n",
       "       [255, 255, 255],\n",
       "       [255, 255, 255],\n",
       "       [255, 255, 255],\n",
       "       [255, 255, 255],\n",
       "       [255, 255, 255],\n",
       "       [255, 255, 255],\n",
       "       [255, 255, 255],\n",
       "       [255, 255, 255],\n",
       "       [255, 255, 255],\n",
       "       [255, 255, 255],\n",
       "       [255, 255, 255],\n",
       "       [255, 255, 255],\n",
       "       [  0,   0,   0],\n",
       "       [  0,   0,   0],\n",
       "       [  0,   0,   0],\n",
       "       [  0,   0,   0],\n",
       "       [  0,   0,   0],\n",
       "       [  0,   0,   0],\n",
       "       [  0,   0,   0],\n",
       "       [255, 255, 255],\n",
       "       [255, 255, 255],\n",
       "       [  0,   0,   0],\n",
       "       [255, 255, 255],\n",
       "       [255, 255, 255],\n",
       "       [255, 255, 255],\n",
       "       [255, 255, 255],\n",
       "       [255, 255, 255],\n",
       "       [255, 255, 255],\n",
       "       [255, 255, 255],\n",
       "       [255, 255, 255],\n",
       "       [255, 255, 255],\n",
       "       [255, 255, 255],\n",
       "       [255, 255, 255],\n",
       "       [255, 255, 255],\n",
       "       [255, 255, 255],\n",
       "       [255, 255, 255],\n",
       "       [255, 255, 255],\n",
       "       [255, 255, 255],\n",
       "       [255, 255, 255],\n",
       "       [255, 255, 255],\n",
       "       [255, 255, 255],\n",
       "       [255, 255, 255],\n",
       "       [255, 255, 255],\n",
       "       [255, 255, 255]], dtype=uint8)"
      ]
     },
     "execution_count": 48,
     "metadata": {},
     "output_type": "execute_result"
    }
   ],
   "source": [
    "img[0]"
   ]
  },
  {
   "cell_type": "code",
   "execution_count": 49,
   "id": "d9e02c17-bfaf-4f02-8195-fa2763d1d181",
   "metadata": {},
   "outputs": [
    {
     "data": {
      "text/plain": [
       "(47, 3)"
      ]
     },
     "execution_count": 49,
     "metadata": {},
     "output_type": "execute_result"
    }
   ],
   "source": [
    "img[0].shape"
   ]
  },
  {
   "cell_type": "code",
   "execution_count": 50,
   "id": "a3966a58-caa2-4bc5-98fd-3e777a2c5480",
   "metadata": {},
   "outputs": [
    {
     "data": {
      "text/plain": [
       "array([255, 255, 255], dtype=uint8)"
      ]
     },
     "execution_count": 50,
     "metadata": {},
     "output_type": "execute_result"
    }
   ],
   "source": [
    "img[0][0]     # White point"
   ]
  },
  {
   "cell_type": "code",
   "execution_count": 51,
   "id": "5c7e21de-dce2-495c-bc94-c762888635f0",
   "metadata": {},
   "outputs": [
    {
     "data": {
      "text/plain": [
       "array([0, 0, 0], dtype=uint8)"
      ]
     },
     "execution_count": 51,
     "metadata": {},
     "output_type": "execute_result"
    }
   ],
   "source": [
    "img[0][15]     # Black point"
   ]
  },
  {
   "cell_type": "code",
   "execution_count": 52,
   "id": "5533ddd5-be76-4d25-bbad-1beb9e86d5b4",
   "metadata": {},
   "outputs": [
    {
     "data": {
      "text/plain": [
       "array([255, 255, 255], dtype=uint8)"
      ]
     },
     "execution_count": 52,
     "metadata": {},
     "output_type": "execute_result"
    }
   ],
   "source": [
    "img[0][46]     # White point"
   ]
  },
  {
   "cell_type": "code",
   "execution_count": 56,
   "id": "6c8d70f1-47b9-495f-b877-ec6e03ad8361",
   "metadata": {},
   "outputs": [],
   "source": [
    "img = img.ravel()     # Convert an image to a vector"
   ]
  },
  {
   "cell_type": "code",
   "execution_count": 57,
   "id": "d1e14cba-2b55-4338-9988-f9efd15307f7",
   "metadata": {},
   "outputs": [
    {
     "data": {
      "text/plain": [
       "array([255, 255, 255, ..., 255, 255, 255], dtype=uint8)"
      ]
     },
     "execution_count": 57,
     "metadata": {},
     "output_type": "execute_result"
    }
   ],
   "source": [
    "img"
   ]
  },
  {
   "cell_type": "code",
   "execution_count": 58,
   "id": "57f2e14f-1d1a-46e0-8bab-b303f775ada6",
   "metadata": {},
   "outputs": [
    {
     "data": {
      "text/plain": [
       "(16497,)"
      ]
     },
     "execution_count": 58,
     "metadata": {},
     "output_type": "execute_result"
    }
   ],
   "source": [
    "img.ravel().shape     # (117 * 47 * 3)"
   ]
  },
  {
   "cell_type": "markdown",
   "id": "41202cd2-cdbe-40f3-beac-cb752421eee0",
   "metadata": {},
   "source": [
    "## Histogram Plot\n",
    "##### Abundance plot (Display the number of each sample)"
   ]
  },
  {
   "cell_type": "code",
   "execution_count": 13,
   "id": "78f7bfef-a689-42bb-8dec-b7eaeec95394",
   "metadata": {},
   "outputs": [
    {
     "data": {
      "image/png": "[encoded data removed]",
      "text/plain": [
       "<Figure size 1000x500 with 1 Axes>"
      ]
     },
     "metadata": {},
     "output_type": "display_data"
    }
   ],
   "source": [
    "plt.figure(figsize = (10, 5))\n",
    "plt.hist(img.ravel(), bins = 255, range = [0, 255], color = 'red')\n",
    "plt.grid()\n",
    "plt.show()"
   ]
  },
  {
   "cell_type": "code",
   "execution_count": 61,
   "id": "64f8a50d-07a0-41bf-92b4-ff79e346ab29",
   "metadata": {},
   "outputs": [
    {
     "name": "stdout",
     "output_type": "stream",
     "text": [
      "['Hoda 0-9\\\\9_968.bmp', 'Hoda 0-9\\\\9_970.bmp', 'Hoda 0-9\\\\9_972.bmp', 'Hoda 0-9\\\\9_989.bmp']\n"
     ]
    }
   ],
   "source": [
    "img_path = gb.glob('Hoda 0-9/*.bmp')\n",
    "print(img_path[-5 : -1])"
   ]
  },
  {
   "cell_type": "code",
   "execution_count": 62,
   "id": "be7f0aa3-cd87-4e14-87a0-b6360438eff8",
   "metadata": {},
   "outputs": [
    {
     "data": {
      "text/plain": [
       "1698"
      ]
     },
     "execution_count": 62,
     "metadata": {},
     "output_type": "execute_result"
    }
   ],
   "source": [
    "len(img_path)"
   ]
  },
  {
   "cell_type": "code",
   "execution_count": 63,
   "id": "3714d01c-6f9c-478b-b5a6-28be0280085e",
   "metadata": {},
   "outputs": [
    {
     "name": "stdout",
     "output_type": "stream",
     "text": [
      "Pic path: Hoda 0-9\\0_1007.bmp\n"
     ]
    }
   ],
   "source": [
    "# Show Pics\n",
    "for p in img_path:\n",
    "    print('Pic path:', p)\n",
    "    img = cv2.imread(p, 0)\n",
    "    img_win_name = 'Picture'\n",
    "    cv2.imshow(img_win_name, cv2.resize(img, dsize = (300, 300)))\n",
    "    cv2.setWindowProperty(img_win_name, cv2.WND_PROP_TOPMOST, 1)\n",
    "\n",
    "    ascii_code = cv2.waitKey()\n",
    "    if int(ascii_code) == 113:\n",
    "        break\n",
    "cv2.destroyAllWindows()"
   ]
  },
  {
   "cell_type": "code",
   "execution_count": 65,
   "id": "5cba0972-2f8e-41a3-89e4-afbd715cf2ac",
   "metadata": {
    "scrolled": true
   },
   "outputs": [],
   "source": [
    "# Create Dataset\n",
    "# Feature Extraction\n",
    "x = []     # Features\n",
    "y = []     # Target\n",
    "for p in img_path:\n",
    "    img = cv2.imread(p, 0)\n",
    "    img = cv2.resize(img, dsize = (10, 10))\n",
    "   \n",
    "    features = np.reshape(img, newshape = (100,))     # This indicates that you want to reshape the array into a 1-dimensional array with a length of 100 elements.\n",
    "    # reshape() instead of ravel() \n",
    "   \n",
    "    indx = p.find('_')    \n",
    "    label = int(p[indx - 1])\n",
    "    x.append(features)\n",
    "    y.append(label)"
   ]
  },
  {
   "cell_type": "code",
   "execution_count": 67,
   "id": "ebf3197d-842a-4d3c-8755-083355b008b8",
   "metadata": {},
   "outputs": [
    {
     "data": {
      "text/plain": [
       "1698"
      ]
     },
     "execution_count": 67,
     "metadata": {},
     "output_type": "execute_result"
    }
   ],
   "source": [
    "len(x)"
   ]
  },
  {
   "cell_type": "code",
   "execution_count": 68,
   "id": "f81ffd15-a0de-49de-9bba-db4590cbba91",
   "metadata": {},
   "outputs": [
    {
     "data": {
      "text/plain": [
       "1698"
      ]
     },
     "execution_count": 68,
     "metadata": {},
     "output_type": "execute_result"
    }
   ],
   "source": [
    "len(y)"
   ]
  },
  {
   "cell_type": "code",
   "execution_count": 69,
   "id": "ade52aec-2958-4014-aafe-566b50083b44",
   "metadata": {},
   "outputs": [
    {
     "data": {
      "text/plain": [
       "array([255, 255, 217, 179,  89,  89, 179, 217, 255, 255, 255,  26,  13,\n",
       "         0,   0,   0,   0,  13, 140, 255, 128,   0,   0,   0,   0,   0,\n",
       "         0,   0,   0, 191, 115,   0,  13, 140, 140, 140,  13,   0,   0,\n",
       "       115,   0,   0, 127, 255, 255, 255, 217,   0,   0,   0,   0,   0,\n",
       "       127, 255, 255, 217,  89,   0,   0, 127,   0,   0, 127, 255, 255,\n",
       "        13,   0,   0,   0, 127,   0,   0,   0,   0,   0,   0,   0,   0,\n",
       "        64, 255, 140,  26,   0,   0,   0,   0,   0,   0, 140, 255, 255,\n",
       "       255,  89,   0,   0,   0,  89, 179, 255, 255], dtype=uint8)"
      ]
     },
     "execution_count": 69,
     "metadata": {},
     "output_type": "execute_result"
    }
   ],
   "source": [
    "x[10]"
   ]
  },
  {
   "cell_type": "code",
   "execution_count": 70,
   "id": "ed672a5a-b87a-4d4b-aedd-c9a53e569c72",
   "metadata": {},
   "outputs": [
    {
     "data": {
      "text/plain": [
       "(100,)"
      ]
     },
     "execution_count": 70,
     "metadata": {},
     "output_type": "execute_result"
    }
   ],
   "source": [
    "x[10].shape"
   ]
  },
  {
   "cell_type": "code",
   "execution_count": 71,
   "id": "2de8b426-412f-4eb1-91d5-3aac321dadae",
   "metadata": {},
   "outputs": [
    {
     "data": {
      "text/plain": [
       "0"
      ]
     },
     "execution_count": 71,
     "metadata": {},
     "output_type": "execute_result"
    }
   ],
   "source": [
    "y[10]"
   ]
  },
  {
   "cell_type": "code",
   "execution_count": 72,
   "id": "182145da-5a4a-41e3-a958-22615dd9eede",
   "metadata": {},
   "outputs": [
    {
     "data": {
      "text/plain": [
       "{0, 1, 2, 3, 4, 5, 6, 7, 8, 9}"
      ]
     },
     "execution_count": 72,
     "metadata": {},
     "output_type": "execute_result"
    }
   ],
   "source": [
    "set(y)     # A set is an unordered collection of unique elements"
   ]
  },
  {
   "cell_type": "code",
   "execution_count": 76,
   "id": "a2b86f2e-a354-417c-b75f-693782224dc3",
   "metadata": {},
   "outputs": [],
   "source": [
    "# Split data\n",
    "x_train, x_test, y_train, y_test = train_test_split(x, y, test_size = 0.2, stratify = y, random_state = 100)"
   ]
  },
  {
   "cell_type": "code",
   "execution_count": 78,
   "id": "6ea885a3-41f5-4b1e-be82-3998333e7547",
   "metadata": {},
   "outputs": [
    {
     "data": {
      "text/plain": [
       "1358"
      ]
     },
     "execution_count": 78,
     "metadata": {},
     "output_type": "execute_result"
    }
   ],
   "source": [
    "len(x_train)"
   ]
  },
  {
   "cell_type": "code",
   "execution_count": 79,
   "id": "a6fd0f70-d204-42e7-bf64-df3c00eb54f3",
   "metadata": {},
   "outputs": [
    {
     "data": {
      "text/plain": [
       "1358"
      ]
     },
     "execution_count": 79,
     "metadata": {},
     "output_type": "execute_result"
    }
   ],
   "source": [
    "len(y_train)"
   ]
  },
  {
   "cell_type": "code",
   "execution_count": 80,
   "id": "b37f8b92-5b0b-42f2-a0aa-09a2869c0d1d",
   "metadata": {},
   "outputs": [
    {
     "data": {
      "text/plain": [
       "340"
      ]
     },
     "execution_count": 80,
     "metadata": {},
     "output_type": "execute_result"
    }
   ],
   "source": [
    "len(x_test)"
   ]
  },
  {
   "cell_type": "code",
   "execution_count": 81,
   "id": "602aa521-2e85-4adb-8005-44b12c61fb27",
   "metadata": {},
   "outputs": [
    {
     "data": {
      "text/plain": [
       "340"
      ]
     },
     "execution_count": 81,
     "metadata": {},
     "output_type": "execute_result"
    }
   ],
   "source": [
    "len(y_test)"
   ]
  },
  {
   "cell_type": "markdown",
   "id": "9dba0aec-02f5-4554-be12-4749d67e21ab",
   "metadata": {},
   "source": [
    "## Modeling Neural Network (MLP Classifier)"
   ]
  },
  {
   "cell_type": "code",
   "execution_count": 127,
   "id": "1d001831-a1fd-4698-9b14-fb8b024945ec",
   "metadata": {},
   "outputs": [
    {
     "name": "stdout",
     "output_type": "stream",
     "text": [
      "\n",
      "Score on Train data: 99.92636229749633\n",
      "Score on Test data: 86.47058823529412\n",
      "\n",
      "Y_Score: [[1.91441395e-04 5.79974237e-03 5.23919492e-02 ... 7.53718895e-02\n",
      "  7.03028135e-03 3.25158680e-02]\n",
      " [1.94112838e-04 8.66648745e-05 2.02899901e-04 ... 9.95731725e-01\n",
      "  7.13494950e-04 3.52367144e-05]\n",
      " [1.15992702e-03 9.97431205e-01 8.58286258e-04 ... 8.93567235e-06\n",
      "  4.78530927e-05 4.23340789e-06]\n",
      " ...\n",
      " [9.99307541e-01 3.03715301e-04 7.34480434e-06 ... 1.60221579e-04\n",
      "  7.27202215e-05 9.34482354e-07]\n",
      " [2.03086923e-04 3.64944728e-05 5.73662507e-06 ... 5.94851548e-05\n",
      "  8.01367835e-04 1.68252755e-05]\n",
      " [2.34418737e-05 2.15715563e-04 3.81293177e-03 ... 1.10779704e-04\n",
      "  2.23449867e-03 9.56114788e-01]]\n"
     ]
    }
   ],
   "source": [
    "mlp = MLPClassifier(hidden_layer_sizes=(90, 40),\n",
    "                   max_iter = 700,           # Epoch : A combination of one sycle of feed-forward and back propagation phase\n",
    "                   activation = 'logistic',  # Activation Function\n",
    "                   batch_size = 500,         # Num of data for move to RAM for train\n",
    "                   verbose = False,          # Show Log\n",
    "                   shuffle = True)\n",
    "mlp.fit(x_train, y_train)\n",
    "y_pred = mlp.predict(x_test)\n",
    "y_score = mlp.predict_proba(x_test)\n",
    "\n",
    "print('\\nScore on Train data:', mlp.score(x_train, y_train) * 100)\n",
    "print('Score on Test data:', mlp.score(x_test, y_test) * 100)\n",
    "print('\\nY_Score:', y_score)"
   ]
  },
  {
   "cell_type": "markdown",
   "id": "20e7f267-6e56-4b7d-ac2c-4680e7b4b50e",
   "metadata": {},
   "source": [
    "## Probability of Predicting each label"
   ]
  },
  {
   "cell_type": "code",
   "execution_count": 128,
   "id": "3b0250fd-4c71-443b-848c-12e3fcb4b463",
   "metadata": {},
   "outputs": [],
   "source": [
    "df_pred_xtest = pd.DataFrame(mlp.predict(x_test))\n",
    "df_pred_prob_xtest = pd.DataFrame(mlp.predict_proba(x_test))"
   ]
  },
  {
   "cell_type": "code",
   "execution_count": 129,
   "id": "8bed6e09-a0c2-4197-b525-03eb9dddacfa",
   "metadata": {},
   "outputs": [
    {
     "data": {
      "text/plain": [
       "array([3, 7, 1, 4, 8, 1, 1, 9, 4, 4, 5, 4, 5, 4, 9, 7, 0, 7, 7, 3, 3, 3,\n",
       "       7, 6, 7, 0, 5, 1, 9, 6, 6, 6, 9, 7, 0, 7, 9, 5, 3, 3, 9, 8, 8, 1,\n",
       "       2, 4, 8, 6, 2, 8, 8, 5, 4, 8, 5, 2, 0, 7, 8, 5, 3, 3, 8, 1, 7, 1,\n",
       "       0, 0, 7, 5, 0, 8, 7, 4, 5, 2, 6, 4, 6, 9, 5, 0, 9, 0, 8, 4, 5, 2,\n",
       "       3, 5, 4, 6, 9, 8, 9, 0, 4, 0, 9, 3, 6, 9, 0, 3, 1, 5, 1, 3, 8, 4,\n",
       "       1, 0, 3, 3, 9, 2, 4, 2, 5, 2, 4, 9, 9, 1, 0, 5, 5, 0, 9, 2, 7, 5,\n",
       "       6, 7, 8, 0, 1, 2, 0, 1, 6, 8, 8, 7, 7, 1, 3, 9, 4, 1, 7, 0, 7, 3,\n",
       "       2, 5, 7, 4, 8, 5, 6, 4, 1, 6, 6, 4, 8, 8, 7, 0, 6, 2, 8, 1, 2, 5,\n",
       "       2, 4, 1, 2, 2, 1, 6, 2, 9, 0, 9, 6, 8, 1, 5, 3, 3, 3, 7, 2, 6, 9,\n",
       "       5, 3, 1, 4, 2, 0, 7, 3, 3, 2, 5, 2, 8, 2, 3, 9, 7, 5, 3, 3, 1, 1,\n",
       "       9, 9, 0, 7, 3, 2, 1, 3, 8, 6, 1, 8, 9, 7, 8, 4, 0, 6, 8, 8, 0, 7,\n",
       "       1, 8, 9, 1, 9, 7, 5, 0, 1, 6, 3, 8, 6, 3, 4, 6, 4, 3, 5, 0, 4, 4,\n",
       "       4, 9, 8, 4, 4, 4, 5, 6, 3, 3, 0, 2, 3, 6, 8, 0, 3, 6, 7, 2, 7, 0,\n",
       "       1, 9, 1, 4, 4, 5, 3, 6, 5, 3, 3, 5, 8, 7, 0, 2, 1, 6, 4, 7, 7, 7,\n",
       "       7, 1, 0, 8, 0, 8, 7, 2, 1, 8, 8, 5, 6, 5, 1, 4, 7, 3, 1, 9, 2, 9,\n",
       "       8, 4, 7, 4, 0, 7, 3, 0, 5, 9])"
      ]
     },
     "execution_count": 129,
     "metadata": {},
     "output_type": "execute_result"
    }
   ],
   "source": [
    "mlp.predict(x_test)"
   ]
  },
  {
   "cell_type": "code",
   "execution_count": 112,
   "id": "1335c775-e78b-4b03-8652-28c7bbf37be1",
   "metadata": {},
   "outputs": [
    {
     "data": {
      "text/plain": [
       "(340,)"
      ]
     },
     "execution_count": 112,
     "metadata": {},
     "output_type": "execute_result"
    }
   ],
   "source": [
    "mlp.predict(x_test).shape"
   ]
  },
  {
   "cell_type": "code",
   "execution_count": 111,
   "id": "2ef9763e-73e3-493c-af6c-ea4354e495b8",
   "metadata": {},
   "outputs": [
    {
     "data": {
      "text/plain": [
       "array([[3.99711093e-04, 2.76541206e-03, 2.94889019e-03, ...,\n",
       "        1.47348542e-01, 1.15328514e-02, 2.97757221e-02],\n",
       "       [1.73819923e-04, 3.04690787e-05, 1.63141215e-05, ...,\n",
       "        9.97689939e-01, 1.15890469e-04, 1.94059375e-05],\n",
       "       [9.17655530e-04, 9.93775102e-01, 3.21593672e-03, ...,\n",
       "        5.03068767e-06, 3.72318612e-04, 7.89650914e-04],\n",
       "       ...,\n",
       "       [9.98933406e-01, 2.62984562e-04, 3.70289396e-06, ...,\n",
       "        4.87834595e-05, 2.73893788e-05, 1.94558380e-05],\n",
       "       [3.44059419e-03, 3.42940389e-04, 6.69794414e-06, ...,\n",
       "        4.47640961e-04, 4.63815164e-04, 6.84344956e-06],\n",
       "       [7.23564986e-04, 1.09313238e-02, 6.48297311e-03, ...,\n",
       "        1.86082916e-04, 2.19049246e-03, 9.55239270e-01]])"
      ]
     },
     "execution_count": 111,
     "metadata": {},
     "output_type": "execute_result"
    }
   ],
   "source": [
    "mlp.predict_proba(x_test)"
   ]
  },
  {
   "cell_type": "code",
   "execution_count": 135,
   "id": "f19f9cb1-ff91-4637-b827-21d5b9836f01",
   "metadata": {},
   "outputs": [
    {
     "data": {
      "text/plain": [
       "(340, 10)"
      ]
     },
     "execution_count": 135,
     "metadata": {},
     "output_type": "execute_result"
    }
   ],
   "source": [
    "mlp.predict_proba(x_test).shape"
   ]
  },
  {
   "cell_type": "code",
   "execution_count": 136,
   "id": "1d091617-b045-480d-acaf-57e64babb2b8",
   "metadata": {},
   "outputs": [
    {
     "data": {
      "text/html": [
       "<div>\n",
       "<style scoped>\n",
       "    .dataframe tbody tr th:only-of-type {\n",
       "        vertical-align: middle;\n",
       "    }\n",
       "\n",
       "    .dataframe tbody tr th {\n",
       "        vertical-align: top;\n",
       "    }\n",
       "\n",
       "    .dataframe thead th {\n",
       "        text-align: right;\n",
       "    }\n",
       "</style>\n",
       "<table border=\"1\" class=\"dataframe\">\n",
       "  <thead>\n",
       "    <tr style=\"text-align: right;\">\n",
       "      <th></th>\n",
       "      <th>0</th>\n",
       "    </tr>\n",
       "  </thead>\n",
       "  <tbody>\n",
       "    <tr>\n",
       "      <th>0</th>\n",
       "      <td>3</td>\n",
       "    </tr>\n",
       "    <tr>\n",
       "      <th>1</th>\n",
       "      <td>7</td>\n",
       "    </tr>\n",
       "    <tr>\n",
       "      <th>2</th>\n",
       "      <td>1</td>\n",
       "    </tr>\n",
       "    <tr>\n",
       "      <th>3</th>\n",
       "      <td>4</td>\n",
       "    </tr>\n",
       "    <tr>\n",
       "      <th>4</th>\n",
       "      <td>8</td>\n",
       "    </tr>\n",
       "    <tr>\n",
       "      <th>...</th>\n",
       "      <td>...</td>\n",
       "    </tr>\n",
       "    <tr>\n",
       "      <th>335</th>\n",
       "      <td>7</td>\n",
       "    </tr>\n",
       "    <tr>\n",
       "      <th>336</th>\n",
       "      <td>3</td>\n",
       "    </tr>\n",
       "    <tr>\n",
       "      <th>337</th>\n",
       "      <td>0</td>\n",
       "    </tr>\n",
       "    <tr>\n",
       "      <th>338</th>\n",
       "      <td>5</td>\n",
       "    </tr>\n",
       "    <tr>\n",
       "      <th>339</th>\n",
       "      <td>9</td>\n",
       "    </tr>\n",
       "  </tbody>\n",
       "</table>\n",
       "<p>340 rows × 1 columns</p>\n",
       "</div>"
      ],
      "text/plain": [
       "     0\n",
       "0    3\n",
       "1    7\n",
       "2    1\n",
       "3    4\n",
       "4    8\n",
       "..  ..\n",
       "335  7\n",
       "336  3\n",
       "337  0\n",
       "338  5\n",
       "339  9\n",
       "\n",
       "[340 rows x 1 columns]"
      ]
     },
     "execution_count": 136,
     "metadata": {},
     "output_type": "execute_result"
    }
   ],
   "source": [
    "df_pred_xtest"
   ]
  },
  {
   "cell_type": "code",
   "execution_count": 137,
   "id": "00fc0b1a-edd3-47ca-8537-36c50b8ef031",
   "metadata": {},
   "outputs": [
    {
     "data": {
      "text/plain": [
       "RangeIndex(start=0, stop=1, step=1)"
      ]
     },
     "execution_count": 137,
     "metadata": {},
     "output_type": "execute_result"
    }
   ],
   "source": [
    "df_pred_xtest.columns"
   ]
  },
  {
   "cell_type": "code",
   "execution_count": 138,
   "id": "40f1e24c-6b33-4523-bbd9-1720c1ba39d6",
   "metadata": {},
   "outputs": [
    {
     "data": {
      "text/html": [
       "<div>\n",
       "<style scoped>\n",
       "    .dataframe tbody tr th:only-of-type {\n",
       "        vertical-align: middle;\n",
       "    }\n",
       "\n",
       "    .dataframe tbody tr th {\n",
       "        vertical-align: top;\n",
       "    }\n",
       "\n",
       "    .dataframe thead th {\n",
       "        text-align: right;\n",
       "    }\n",
       "</style>\n",
       "<table border=\"1\" class=\"dataframe\">\n",
       "  <thead>\n",
       "    <tr style=\"text-align: right;\">\n",
       "      <th></th>\n",
       "      <th>0</th>\n",
       "      <th>1</th>\n",
       "      <th>2</th>\n",
       "      <th>3</th>\n",
       "      <th>4</th>\n",
       "      <th>5</th>\n",
       "      <th>6</th>\n",
       "      <th>7</th>\n",
       "      <th>8</th>\n",
       "      <th>9</th>\n",
       "    </tr>\n",
       "  </thead>\n",
       "  <tbody>\n",
       "    <tr>\n",
       "      <th>0</th>\n",
       "      <td>0.000191</td>\n",
       "      <td>0.005800</td>\n",
       "      <td>0.052392</td>\n",
       "      <td>5.449591e-01</td>\n",
       "      <td>0.008927</td>\n",
       "      <td>0.004122</td>\n",
       "      <td>2.686905e-01</td>\n",
       "      <td>0.075372</td>\n",
       "      <td>0.007030</td>\n",
       "      <td>3.251587e-02</td>\n",
       "    </tr>\n",
       "    <tr>\n",
       "      <th>1</th>\n",
       "      <td>0.000194</td>\n",
       "      <td>0.000087</td>\n",
       "      <td>0.000203</td>\n",
       "      <td>8.821487e-04</td>\n",
       "      <td>0.000051</td>\n",
       "      <td>0.000972</td>\n",
       "      <td>1.130350e-03</td>\n",
       "      <td>0.995732</td>\n",
       "      <td>0.000713</td>\n",
       "      <td>3.523671e-05</td>\n",
       "    </tr>\n",
       "    <tr>\n",
       "      <th>2</th>\n",
       "      <td>0.001160</td>\n",
       "      <td>0.997431</td>\n",
       "      <td>0.000858</td>\n",
       "      <td>3.177165e-05</td>\n",
       "      <td>0.000078</td>\n",
       "      <td>0.000043</td>\n",
       "      <td>3.367481e-04</td>\n",
       "      <td>0.000009</td>\n",
       "      <td>0.000048</td>\n",
       "      <td>4.233408e-06</td>\n",
       "    </tr>\n",
       "    <tr>\n",
       "      <th>3</th>\n",
       "      <td>0.001380</td>\n",
       "      <td>0.000193</td>\n",
       "      <td>0.026223</td>\n",
       "      <td>4.911276e-02</td>\n",
       "      <td>0.920756</td>\n",
       "      <td>0.000365</td>\n",
       "      <td>5.759247e-05</td>\n",
       "      <td>0.000783</td>\n",
       "      <td>0.000200</td>\n",
       "      <td>9.290049e-04</td>\n",
       "    </tr>\n",
       "    <tr>\n",
       "      <th>4</th>\n",
       "      <td>0.000173</td>\n",
       "      <td>0.000068</td>\n",
       "      <td>0.000006</td>\n",
       "      <td>5.928269e-07</td>\n",
       "      <td>0.000148</td>\n",
       "      <td>0.000747</td>\n",
       "      <td>3.399756e-05</td>\n",
       "      <td>0.000123</td>\n",
       "      <td>0.998620</td>\n",
       "      <td>7.886385e-05</td>\n",
       "    </tr>\n",
       "    <tr>\n",
       "      <th>...</th>\n",
       "      <td>...</td>\n",
       "      <td>...</td>\n",
       "      <td>...</td>\n",
       "      <td>...</td>\n",
       "      <td>...</td>\n",
       "      <td>...</td>\n",
       "      <td>...</td>\n",
       "      <td>...</td>\n",
       "      <td>...</td>\n",
       "      <td>...</td>\n",
       "    </tr>\n",
       "    <tr>\n",
       "      <th>335</th>\n",
       "      <td>0.005086</td>\n",
       "      <td>0.000236</td>\n",
       "      <td>0.000383</td>\n",
       "      <td>7.670828e-05</td>\n",
       "      <td>0.000081</td>\n",
       "      <td>0.000382</td>\n",
       "      <td>1.633563e-04</td>\n",
       "      <td>0.991939</td>\n",
       "      <td>0.001647</td>\n",
       "      <td>5.471294e-06</td>\n",
       "    </tr>\n",
       "    <tr>\n",
       "      <th>336</th>\n",
       "      <td>0.007846</td>\n",
       "      <td>0.003053</td>\n",
       "      <td>0.378771</td>\n",
       "      <td>5.494800e-01</td>\n",
       "      <td>0.058980</td>\n",
       "      <td>0.000271</td>\n",
       "      <td>1.240176e-04</td>\n",
       "      <td>0.001237</td>\n",
       "      <td>0.000009</td>\n",
       "      <td>2.292632e-04</td>\n",
       "    </tr>\n",
       "    <tr>\n",
       "      <th>337</th>\n",
       "      <td>0.999308</td>\n",
       "      <td>0.000304</td>\n",
       "      <td>0.000007</td>\n",
       "      <td>1.698123e-05</td>\n",
       "      <td>0.000043</td>\n",
       "      <td>0.000087</td>\n",
       "      <td>3.939406e-07</td>\n",
       "      <td>0.000160</td>\n",
       "      <td>0.000073</td>\n",
       "      <td>9.344824e-07</td>\n",
       "    </tr>\n",
       "    <tr>\n",
       "      <th>338</th>\n",
       "      <td>0.000203</td>\n",
       "      <td>0.000036</td>\n",
       "      <td>0.000006</td>\n",
       "      <td>8.958501e-05</td>\n",
       "      <td>0.000215</td>\n",
       "      <td>0.998571</td>\n",
       "      <td>6.294047e-07</td>\n",
       "      <td>0.000059</td>\n",
       "      <td>0.000801</td>\n",
       "      <td>1.682528e-05</td>\n",
       "    </tr>\n",
       "    <tr>\n",
       "      <th>339</th>\n",
       "      <td>0.000023</td>\n",
       "      <td>0.000216</td>\n",
       "      <td>0.003813</td>\n",
       "      <td>4.780232e-03</td>\n",
       "      <td>0.006719</td>\n",
       "      <td>0.000635</td>\n",
       "      <td>2.535353e-02</td>\n",
       "      <td>0.000111</td>\n",
       "      <td>0.002234</td>\n",
       "      <td>9.561148e-01</td>\n",
       "    </tr>\n",
       "  </tbody>\n",
       "</table>\n",
       "<p>340 rows × 10 columns</p>\n",
       "</div>"
      ],
      "text/plain": [
       "            0         1         2             3         4         5  \\\n",
       "0    0.000191  0.005800  0.052392  5.449591e-01  0.008927  0.004122   \n",
       "1    0.000194  0.000087  0.000203  8.821487e-04  0.000051  0.000972   \n",
       "2    0.001160  0.997431  0.000858  3.177165e-05  0.000078  0.000043   \n",
       "3    0.001380  0.000193  0.026223  4.911276e-02  0.920756  0.000365   \n",
       "4    0.000173  0.000068  0.000006  5.928269e-07  0.000148  0.000747   \n",
       "..        ...       ...       ...           ...       ...       ...   \n",
       "335  0.005086  0.000236  0.000383  7.670828e-05  0.000081  0.000382   \n",
       "336  0.007846  0.003053  0.378771  5.494800e-01  0.058980  0.000271   \n",
       "337  0.999308  0.000304  0.000007  1.698123e-05  0.000043  0.000087   \n",
       "338  0.000203  0.000036  0.000006  8.958501e-05  0.000215  0.998571   \n",
       "339  0.000023  0.000216  0.003813  4.780232e-03  0.006719  0.000635   \n",
       "\n",
       "                6         7         8             9  \n",
       "0    2.686905e-01  0.075372  0.007030  3.251587e-02  \n",
       "1    1.130350e-03  0.995732  0.000713  3.523671e-05  \n",
       "2    3.367481e-04  0.000009  0.000048  4.233408e-06  \n",
       "3    5.759247e-05  0.000783  0.000200  9.290049e-04  \n",
       "4    3.399756e-05  0.000123  0.998620  7.886385e-05  \n",
       "..            ...       ...       ...           ...  \n",
       "335  1.633563e-04  0.991939  0.001647  5.471294e-06  \n",
       "336  1.240176e-04  0.001237  0.000009  2.292632e-04  \n",
       "337  3.939406e-07  0.000160  0.000073  9.344824e-07  \n",
       "338  6.294047e-07  0.000059  0.000801  1.682528e-05  \n",
       "339  2.535353e-02  0.000111  0.002234  9.561148e-01  \n",
       "\n",
       "[340 rows x 10 columns]"
      ]
     },
     "execution_count": 138,
     "metadata": {},
     "output_type": "execute_result"
    }
   ],
   "source": [
    "df_pred_prob_xtest"
   ]
  },
  {
   "cell_type": "code",
   "execution_count": 139,
   "id": "ef7dd37f-0427-4ae1-8c33-65541a2728fd",
   "metadata": {},
   "outputs": [
    {
     "data": {
      "text/plain": [
       "RangeIndex(start=0, stop=10, step=1)"
      ]
     },
     "execution_count": 139,
     "metadata": {},
     "output_type": "execute_result"
    }
   ],
   "source": [
    "df_pred_prob_xtest.columns"
   ]
  },
  {
   "cell_type": "code",
   "execution_count": 143,
   "id": "f67319dc-b370-4d1d-a59d-c044955e0ea6",
   "metadata": {},
   "outputs": [],
   "source": [
    "predicted_prob = pd.concat([df_pred_xtest, df_pred_prob_xtest], axis = 1)"
   ]
  },
  {
   "cell_type": "code",
   "execution_count": 144,
   "id": "67da9242-5043-42dd-9a0b-fa695086ae80",
   "metadata": {},
   "outputs": [
    {
     "data": {
      "text/plain": [
       "Index([0, 0, 1, 2, 3, 4, 5, 6, 7, 8, 9], dtype='int64')"
      ]
     },
     "execution_count": 144,
     "metadata": {},
     "output_type": "execute_result"
    }
   ],
   "source": [
    "predicted_prob.columns"
   ]
  },
  {
   "cell_type": "code",
   "execution_count": 145,
   "id": "6640710d-f3ae-4659-bc36-787b33814bb9",
   "metadata": {},
   "outputs": [],
   "source": [
    "predicted_prob.columns = ['Predicted', 0, 1, 2, 3, 4, 5, 6, 7, 8, 9]"
   ]
  },
  {
   "cell_type": "code",
   "execution_count": 146,
   "id": "095b1243-1855-4c47-ad73-167d94756e48",
   "metadata": {},
   "outputs": [
    {
     "data": {
      "text/html": [
       "<div>\n",
       "<style scoped>\n",
       "    .dataframe tbody tr th:only-of-type {\n",
       "        vertical-align: middle;\n",
       "    }\n",
       "\n",
       "    .dataframe tbody tr th {\n",
       "        vertical-align: top;\n",
       "    }\n",
       "\n",
       "    .dataframe thead th {\n",
       "        text-align: right;\n",
       "    }\n",
       "</style>\n",
       "<table border=\"1\" class=\"dataframe\">\n",
       "  <thead>\n",
       "    <tr style=\"text-align: right;\">\n",
       "      <th></th>\n",
       "      <th>Predicted</th>\n",
       "      <th>0</th>\n",
       "      <th>1</th>\n",
       "      <th>2</th>\n",
       "      <th>3</th>\n",
       "      <th>4</th>\n",
       "      <th>5</th>\n",
       "      <th>6</th>\n",
       "      <th>7</th>\n",
       "      <th>8</th>\n",
       "      <th>9</th>\n",
       "    </tr>\n",
       "  </thead>\n",
       "  <tbody>\n",
       "    <tr>\n",
       "      <th>0</th>\n",
       "      <td>3</td>\n",
       "      <td>0.000191</td>\n",
       "      <td>0.005800</td>\n",
       "      <td>0.052392</td>\n",
       "      <td>5.449591e-01</td>\n",
       "      <td>0.008927</td>\n",
       "      <td>0.004122</td>\n",
       "      <td>0.268691</td>\n",
       "      <td>0.075372</td>\n",
       "      <td>0.007030</td>\n",
       "      <td>0.032516</td>\n",
       "    </tr>\n",
       "    <tr>\n",
       "      <th>1</th>\n",
       "      <td>7</td>\n",
       "      <td>0.000194</td>\n",
       "      <td>0.000087</td>\n",
       "      <td>0.000203</td>\n",
       "      <td>8.821487e-04</td>\n",
       "      <td>0.000051</td>\n",
       "      <td>0.000972</td>\n",
       "      <td>0.001130</td>\n",
       "      <td>0.995732</td>\n",
       "      <td>0.000713</td>\n",
       "      <td>0.000035</td>\n",
       "    </tr>\n",
       "    <tr>\n",
       "      <th>2</th>\n",
       "      <td>1</td>\n",
       "      <td>0.001160</td>\n",
       "      <td>0.997431</td>\n",
       "      <td>0.000858</td>\n",
       "      <td>3.177165e-05</td>\n",
       "      <td>0.000078</td>\n",
       "      <td>0.000043</td>\n",
       "      <td>0.000337</td>\n",
       "      <td>0.000009</td>\n",
       "      <td>0.000048</td>\n",
       "      <td>0.000004</td>\n",
       "    </tr>\n",
       "    <tr>\n",
       "      <th>3</th>\n",
       "      <td>4</td>\n",
       "      <td>0.001380</td>\n",
       "      <td>0.000193</td>\n",
       "      <td>0.026223</td>\n",
       "      <td>4.911276e-02</td>\n",
       "      <td>0.920756</td>\n",
       "      <td>0.000365</td>\n",
       "      <td>0.000058</td>\n",
       "      <td>0.000783</td>\n",
       "      <td>0.000200</td>\n",
       "      <td>0.000929</td>\n",
       "    </tr>\n",
       "    <tr>\n",
       "      <th>4</th>\n",
       "      <td>8</td>\n",
       "      <td>0.000173</td>\n",
       "      <td>0.000068</td>\n",
       "      <td>0.000006</td>\n",
       "      <td>5.928269e-07</td>\n",
       "      <td>0.000148</td>\n",
       "      <td>0.000747</td>\n",
       "      <td>0.000034</td>\n",
       "      <td>0.000123</td>\n",
       "      <td>0.998620</td>\n",
       "      <td>0.000079</td>\n",
       "    </tr>\n",
       "  </tbody>\n",
       "</table>\n",
       "</div>"
      ],
      "text/plain": [
       "   Predicted         0         1         2             3         4         5  \\\n",
       "0          3  0.000191  0.005800  0.052392  5.449591e-01  0.008927  0.004122   \n",
       "1          7  0.000194  0.000087  0.000203  8.821487e-04  0.000051  0.000972   \n",
       "2          1  0.001160  0.997431  0.000858  3.177165e-05  0.000078  0.000043   \n",
       "3          4  0.001380  0.000193  0.026223  4.911276e-02  0.920756  0.000365   \n",
       "4          8  0.000173  0.000068  0.000006  5.928269e-07  0.000148  0.000747   \n",
       "\n",
       "          6         7         8         9  \n",
       "0  0.268691  0.075372  0.007030  0.032516  \n",
       "1  0.001130  0.995732  0.000713  0.000035  \n",
       "2  0.000337  0.000009  0.000048  0.000004  \n",
       "3  0.000058  0.000783  0.000200  0.000929  \n",
       "4  0.000034  0.000123  0.998620  0.000079  "
      ]
     },
     "execution_count": 146,
     "metadata": {},
     "output_type": "execute_result"
    }
   ],
   "source": [
    "predicted_prob.head()"
   ]
  },
  {
   "cell_type": "code",
   "execution_count": 147,
   "id": "2703a373-2741-4be5-b657-053c7575e077",
   "metadata": {
    "collapsed": true,
    "jupyter": {
     "outputs_hidden": true
    }
   },
   "outputs": [
    {
     "name": "stdout",
     "output_type": "stream",
     "text": [
      "Multi-layer Perceptron classifier.\n",
      "\n",
      "    This model optimizes the log-loss function using LBFGS or stochastic\n",
      "    gradient descent.\n",
      "\n",
      "    .. versionadded:: 0.18\n",
      "\n",
      "    Parameters\n",
      "    ----------\n",
      "    hidden_layer_sizes : array-like of shape(n_layers - 2,), default=(100,)\n",
      "        The ith element represents the number of neurons in the ith\n",
      "        hidden layer.\n",
      "\n",
      "    activation : {'identity', 'logistic', 'tanh', 'relu'}, default='relu'\n",
      "        Activation function for the hidden layer.\n",
      "\n",
      "        - 'identity', no-op activation, useful to implement linear bottleneck,\n",
      "          returns f(x) = x\n",
      "\n",
      "        - 'logistic', the logistic sigmoid function,\n",
      "          returns f(x) = 1 / (1 + exp(-x)).\n",
      "\n",
      "        - 'tanh', the hyperbolic tan function,\n",
      "          returns f(x) = tanh(x).\n",
      "\n",
      "        - 'relu', the rectified linear unit function,\n",
      "          returns f(x) = max(0, x)\n",
      "\n",
      "    solver : {'lbfgs', 'sgd', 'adam'}, default='adam'\n",
      "        The solver for weight optimization.\n",
      "\n",
      "        - 'lbfgs' is an optimizer in the family of quasi-Newton methods.\n",
      "\n",
      "        - 'sgd' refers to stochastic gradient descent.\n",
      "\n",
      "        - 'adam' refers to a stochastic gradient-based optimizer proposed\n",
      "          by Kingma, Diederik, and Jimmy Ba\n",
      "\n",
      "        Note: The default solver 'adam' works pretty well on relatively\n",
      "        large datasets (with thousands of training samples or more) in terms of\n",
      "        both training time and validation score.\n",
      "        For small datasets, however, 'lbfgs' can converge faster and perform\n",
      "        better.\n",
      "\n",
      "    alpha : float, default=0.0001\n",
      "        Strength of the L2 regularization term. The L2 regularization term\n",
      "        is divided by the sample size when added to the loss.\n",
      "\n",
      "    batch_size : int, default='auto'\n",
      "        Size of minibatches for stochastic optimizers.\n",
      "        If the solver is 'lbfgs', the classifier will not use minibatch.\n",
      "        When set to \"auto\", `batch_size=min(200, n_samples)`.\n",
      "\n",
      "    learning_rate : {'constant', 'invscaling', 'adaptive'}, default='constant'\n",
      "        Learning rate schedule for weight updates.\n",
      "\n",
      "        - 'constant' is a constant learning rate given by\n",
      "          'learning_rate_init'.\n",
      "\n",
      "        - 'invscaling' gradually decreases the learning rate at each\n",
      "          time step 't' using an inverse scaling exponent of 'power_t'.\n",
      "          effective_learning_rate = learning_rate_init / pow(t, power_t)\n",
      "\n",
      "        - 'adaptive' keeps the learning rate constant to\n",
      "          'learning_rate_init' as long as training loss keeps decreasing.\n",
      "          Each time two consecutive epochs fail to decrease training loss by at\n",
      "          least tol, or fail to increase validation score by at least tol if\n",
      "          'early_stopping' is on, the current learning rate is divided by 5.\n",
      "\n",
      "        Only used when ``solver='sgd'``.\n",
      "\n",
      "    learning_rate_init : float, default=0.001\n",
      "        The initial learning rate used. It controls the step-size\n",
      "        in updating the weights. Only used when solver='sgd' or 'adam'.\n",
      "\n",
      "    power_t : float, default=0.5\n",
      "        The exponent for inverse scaling learning rate.\n",
      "        It is used in updating effective learning rate when the learning_rate\n",
      "        is set to 'invscaling'. Only used when solver='sgd'.\n",
      "\n",
      "    max_iter : int, default=200\n",
      "        Maximum number of iterations. The solver iterates until convergence\n",
      "        (determined by 'tol') or this number of iterations. For stochastic\n",
      "        solvers ('sgd', 'adam'), note that this determines the number of epochs\n",
      "        (how many times each data point will be used), not the number of\n",
      "        gradient steps.\n",
      "\n",
      "    shuffle : bool, default=True\n",
      "        Whether to shuffle samples in each iteration. Only used when\n",
      "        solver='sgd' or 'adam'.\n",
      "\n",
      "    random_state : int, RandomState instance, default=None\n",
      "        Determines random number generation for weights and bias\n",
      "        initialization, train-test split if early stopping is used, and batch\n",
      "        sampling when solver='sgd' or 'adam'.\n",
      "        Pass an int for reproducible results across multiple function calls.\n",
      "        See :term:`Glossary <random_state>`.\n",
      "\n",
      "    tol : float, default=1e-4\n",
      "        Tolerance for the optimization. When the loss or score is not improving\n",
      "        by at least ``tol`` for ``n_iter_no_change`` consecutive iterations,\n",
      "        unless ``learning_rate`` is set to 'adaptive', convergence is\n",
      "        considered to be reached and training stops.\n",
      "\n",
      "    verbose : bool, default=False\n",
      "        Whether to print progress messages to stdout.\n",
      "\n",
      "    warm_start : bool, default=False\n",
      "        When set to True, reuse the solution of the previous\n",
      "        call to fit as initialization, otherwise, just erase the\n",
      "        previous solution. See :term:`the Glossary <warm_start>`.\n",
      "\n",
      "    momentum : float, default=0.9\n",
      "        Momentum for gradient descent update. Should be between 0 and 1. Only\n",
      "        used when solver='sgd'.\n",
      "\n",
      "    nesterovs_momentum : bool, default=True\n",
      "        Whether to use Nesterov's momentum. Only used when solver='sgd' and\n",
      "        momentum > 0.\n",
      "\n",
      "    early_stopping : bool, default=False\n",
      "        Whether to use early stopping to terminate training when validation\n",
      "        score is not improving. If set to true, it will automatically set\n",
      "        aside 10% of training data as validation and terminate training when\n",
      "        validation score is not improving by at least ``tol`` for\n",
      "        ``n_iter_no_change`` consecutive epochs. The split is stratified,\n",
      "        except in a multilabel setting.\n",
      "        If early stopping is False, then the training stops when the training\n",
      "        loss does not improve by more than tol for n_iter_no_change consecutive\n",
      "        passes over the training set.\n",
      "        Only effective when solver='sgd' or 'adam'.\n",
      "\n",
      "    validation_fraction : float, default=0.1\n",
      "        The proportion of training data to set aside as validation set for\n",
      "        early stopping. Must be between 0 and 1.\n",
      "        Only used if early_stopping is True.\n",
      "\n",
      "    beta_1 : float, default=0.9\n",
      "        Exponential decay rate for estimates of first moment vector in adam,\n",
      "        should be in [0, 1). Only used when solver='adam'.\n",
      "\n",
      "    beta_2 : float, default=0.999\n",
      "        Exponential decay rate for estimates of second moment vector in adam,\n",
      "        should be in [0, 1). Only used when solver='adam'.\n",
      "\n",
      "    epsilon : float, default=1e-8\n",
      "        Value for numerical stability in adam. Only used when solver='adam'.\n",
      "\n",
      "    n_iter_no_change : int, default=10\n",
      "        Maximum number of epochs to not meet ``tol`` improvement.\n",
      "        Only effective when solver='sgd' or 'adam'.\n",
      "\n",
      "        .. versionadded:: 0.20\n",
      "\n",
      "    max_fun : int, default=15000\n",
      "        Only used when solver='lbfgs'. Maximum number of loss function calls.\n",
      "        The solver iterates until convergence (determined by 'tol'), number\n",
      "        of iterations reaches max_iter, or this number of loss function calls.\n",
      "        Note that number of loss function calls will be greater than or equal\n",
      "        to the number of iterations for the `MLPClassifier`.\n",
      "\n",
      "        .. versionadded:: 0.22\n",
      "\n",
      "    Attributes\n",
      "    ----------\n",
      "    classes_ : ndarray or list of ndarray of shape (n_classes,)\n",
      "        Class labels for each output.\n",
      "\n",
      "    loss_ : float\n",
      "        The current loss computed with the loss function.\n",
      "\n",
      "    best_loss_ : float or None\n",
      "        The minimum loss reached by the solver throughout fitting.\n",
      "        If `early_stopping=True`, this attribute is set to `None`. Refer to\n",
      "        the `best_validation_score_` fitted attribute instead.\n",
      "\n",
      "    loss_curve_ : list of shape (`n_iter_`,)\n",
      "        The ith element in the list represents the loss at the ith iteration.\n",
      "\n",
      "    validation_scores_ : list of shape (`n_iter_`,) or None\n",
      "        The score at each iteration on a held-out validation set. The score\n",
      "        reported is the accuracy score. Only available if `early_stopping=True`,\n",
      "        otherwise the attribute is set to `None`.\n",
      "\n",
      "    best_validation_score_ : float or None\n",
      "        The best validation score (i.e. accuracy score) that triggered the\n",
      "        early stopping. Only available if `early_stopping=True`, otherwise the\n",
      "        attribute is set to `None`.\n",
      "\n",
      "    t_ : int\n",
      "        The number of training samples seen by the solver during fitting.\n",
      "\n",
      "    coefs_ : list of shape (n_layers - 1,)\n",
      "        The ith element in the list represents the weight matrix corresponding\n",
      "        to layer i.\n",
      "\n",
      "    intercepts_ : list of shape (n_layers - 1,)\n",
      "        The ith element in the list represents the bias vector corresponding to\n",
      "        layer i + 1.\n",
      "\n",
      "    n_features_in_ : int\n",
      "        Number of features seen during :term:`fit`.\n",
      "\n",
      "        .. versionadded:: 0.24\n",
      "\n",
      "    feature_names_in_ : ndarray of shape (`n_features_in_`,)\n",
      "        Names of features seen during :term:`fit`. Defined only when `X`\n",
      "        has feature names that are all strings.\n",
      "\n",
      "        .. versionadded:: 1.0\n",
      "\n",
      "    n_iter_ : int\n",
      "        The number of iterations the solver has run.\n",
      "\n",
      "    n_layers_ : int\n",
      "        Number of layers.\n",
      "\n",
      "    n_outputs_ : int\n",
      "        Number of outputs.\n",
      "\n",
      "    out_activation_ : str\n",
      "        Name of the output activation function.\n",
      "\n",
      "    See Also\n",
      "    --------\n",
      "    MLPRegressor : Multi-layer Perceptron regressor.\n",
      "    BernoulliRBM : Bernoulli Restricted Boltzmann Machine (RBM).\n",
      "\n",
      "    Notes\n",
      "    -----\n",
      "    MLPClassifier trains iteratively since at each time step\n",
      "    the partial derivatives of the loss function with respect to the model\n",
      "    parameters are computed to update the parameters.\n",
      "\n",
      "    It can also have a regularization term added to the loss function\n",
      "    that shrinks model parameters to prevent overfitting.\n",
      "\n",
      "    This implementation works with data represented as dense numpy arrays or\n",
      "    sparse scipy arrays of floating point values.\n",
      "\n",
      "    References\n",
      "    ----------\n",
      "    Hinton, Geoffrey E. \"Connectionist learning procedures.\"\n",
      "    Artificial intelligence 40.1 (1989): 185-234.\n",
      "\n",
      "    Glorot, Xavier, and Yoshua Bengio.\n",
      "    \"Understanding the difficulty of training deep feedforward neural networks.\"\n",
      "    International Conference on Artificial Intelligence and Statistics. 2010.\n",
      "\n",
      "    :arxiv:`He, Kaiming, et al (2015). \"Delving deep into rectifiers:\n",
      "    Surpassing human-level performance on imagenet classification.\" <1502.01852>`\n",
      "\n",
      "    :arxiv:`Kingma, Diederik, and Jimmy Ba (2014)\n",
      "    \"Adam: A method for stochastic optimization.\" <1412.6980>`\n",
      "\n",
      "    Examples\n",
      "    --------\n",
      "    >>> from sklearn.neural_network import MLPClassifier\n",
      "    >>> from sklearn.datasets import make_classification\n",
      "    >>> from sklearn.model_selection import train_test_split\n",
      "    >>> X, y = make_classification(n_samples=100, random_state=1)\n",
      "    >>> X_train, X_test, y_train, y_test = train_test_split(X, y, stratify=y,\n",
      "    ...                                                     random_state=1)\n",
      "    >>> clf = MLPClassifier(random_state=1, max_iter=300).fit(X_train, y_train)\n",
      "    >>> clf.predict_proba(X_test[:1])\n",
      "    array([[0.038..., 0.961...]])\n",
      "    >>> clf.predict(X_test[:5, :])\n",
      "    array([1, 0, 1, 0, 1])\n",
      "    >>> clf.score(X_test, y_test)\n",
      "    0.8...\n",
      "    \n"
     ]
    }
   ],
   "source": [
    "print(MLPClassifier.__doc__)"
   ]
  },
  {
   "cell_type": "markdown",
   "id": "6df49b8b-1619-4938-b8db-f56c06e54b8c",
   "metadata": {},
   "source": [
    "## Confusion matrix"
   ]
  },
  {
   "cell_type": "code",
   "execution_count": 148,
   "id": "358d33ad-960f-4fec-85c2-c535da6b3135",
   "metadata": {},
   "outputs": [
    {
     "data": {
      "text/plain": [
       "array([[32,  2,  0,  0,  0,  1,  0,  0,  0,  0],\n",
       "       [ 1, 31,  0,  0,  1,  0,  0,  1,  0,  0],\n",
       "       [ 0,  0, 22,  6,  2,  0,  0,  2,  1,  0],\n",
       "       [ 0,  0,  0, 31,  2,  1,  0,  0,  0,  0],\n",
       "       [ 0,  1,  4,  1, 26,  0,  0,  1,  1,  1],\n",
       "       [ 1,  0,  1,  0,  1, 30,  0,  0,  1,  0],\n",
       "       [ 0,  1,  1,  0,  4,  0, 27,  1,  0,  1],\n",
       "       [ 0,  0,  0,  0,  0,  1,  0, 33,  0,  0],\n",
       "       [ 0,  0,  0,  0,  0,  0,  1,  0, 33,  0],\n",
       "       [ 0,  0,  0,  1,  0,  0,  1,  0,  1, 29]], dtype=int64)"
      ]
     },
     "execution_count": 148,
     "metadata": {},
     "output_type": "execute_result"
    }
   ],
   "source": [
    "confusion_matrix(y_test, y_pred)"
   ]
  },
  {
   "cell_type": "code",
   "execution_count": 149,
   "id": "ca9619f3-f691-4b3e-8e52-af370a75e14e",
   "metadata": {},
   "outputs": [
    {
     "data": {
      "image/png": "[encoded data removed]",
      "text/plain": [
       "<Figure size 640x480 with 2 Axes>"
      ]
     },
     "metadata": {},
     "output_type": "display_data"
    }
   ],
   "source": [
    "# Get the Confusion matrix\n",
    "cm = confusion_matrix(y_test, y_pred)\n",
    "\n",
    "# Display the Confusion matrix\n",
    "disp = ConfusionMatrixDisplay(confusion_matrix = cm, display_labels = mlp.classes_)\n",
    "disp.plot()\n",
    "plt.show()"
   ]
  },
  {
   "cell_type": "markdown",
   "id": "d42556e6-87d1-415d-bff8-7a602fbd90dc",
   "metadata": {},
   "source": [
    "## Classification_report"
   ]
  },
  {
   "cell_type": "code",
   "execution_count": 150,
   "id": "3a70e6a7-3eb6-4fca-bd89-8b66cad8aaf1",
   "metadata": {},
   "outputs": [],
   "source": [
    "clf_report = classification_report(y_test, y_pred)\n",
    "labels = np.arange(10)"
   ]
  },
  {
   "cell_type": "code",
   "execution_count": 151,
   "id": "e1172511-7de8-4e7f-bb50-2a9fa05eb130",
   "metadata": {},
   "outputs": [
    {
     "data": {
      "text/plain": [
       "array([0, 1, 2, 3, 4, 5, 6, 7, 8, 9])"
      ]
     },
     "execution_count": 151,
     "metadata": {},
     "output_type": "execute_result"
    }
   ],
   "source": [
    "labels"
   ]
  },
  {
   "cell_type": "code",
   "execution_count": 152,
   "id": "a92c104d-b7b9-4de0-9c52-ce9ff245ee97",
   "metadata": {},
   "outputs": [
    {
     "data": {
      "text/plain": [
       "['0', '1', '2', '3', '4', '5', '6', '7', '8', '9']"
      ]
     },
     "execution_count": 152,
     "metadata": {},
     "output_type": "execute_result"
    }
   ],
   "source": [
    "target_names = list('0123456789')\n",
    "target_names"
   ]
  },
  {
   "cell_type": "code",
   "execution_count": 153,
   "id": "3066fb93-fb5c-4a2b-9724-b07e15b40212",
   "metadata": {},
   "outputs": [],
   "source": [
    "clf_report_heat = classification_report(y_test, y_pred, labels = labels, target_names = target_names, output_dict = True)"
   ]
  },
  {
   "cell_type": "code",
   "execution_count": 157,
   "id": "7e69acf5-4c47-4354-b7ab-1c10e9935078",
   "metadata": {},
   "outputs": [
    {
     "name": "stdout",
     "output_type": "stream",
     "text": [
      "              precision    recall  f1-score   support\n",
      "\n",
      "           0       0.94      0.91      0.93        35\n",
      "           1       0.89      0.91      0.90        34\n",
      "           2       0.79      0.67      0.72        33\n",
      "           3       0.79      0.91      0.85        34\n",
      "           4       0.72      0.74      0.73        35\n",
      "           5       0.91      0.88      0.90        34\n",
      "           6       0.93      0.77      0.84        35\n",
      "           7       0.87      0.97      0.92        34\n",
      "           8       0.89      0.97      0.93        34\n",
      "           9       0.94      0.91      0.92        32\n",
      "\n",
      "    accuracy                           0.86       340\n",
      "   macro avg       0.87      0.86      0.86       340\n",
      "weighted avg       0.87      0.86      0.86       340\n",
      "\n"
     ]
    }
   ],
   "source": [
    "print(clf_report)"
   ]
  },
  {
   "cell_type": "code",
   "execution_count": 161,
   "id": "c0761f5f-2e8b-469e-b0c1-2303748ab325",
   "metadata": {},
   "outputs": [
    {
     "name": "stdout",
     "output_type": "stream",
     "text": [
      "{'0': {'precision': 0.9411764705882353, 'recall': 0.9142857142857143, 'f1-score': 0.927536231884058, 'support': 35.0}, '1': {'precision': 0.8857142857142857, 'recall': 0.9117647058823529, 'f1-score': 0.8985507246376812, 'support': 34.0}, '2': {'precision': 0.7857142857142857, 'recall': 0.6666666666666666, 'f1-score': 0.7213114754098361, 'support': 33.0}, '3': {'precision': 0.7948717948717948, 'recall': 0.9117647058823529, 'f1-score': 0.8493150684931506, 'support': 34.0}, '4': {'precision': 0.7222222222222222, 'recall': 0.7428571428571429, 'f1-score': 0.7323943661971831, 'support': 35.0}, '5': {'precision': 0.9090909090909091, 'recall': 0.8823529411764706, 'f1-score': 0.8955223880597015, 'support': 34.0}, '6': {'precision': 0.9310344827586207, 'recall': 0.7714285714285715, 'f1-score': 0.84375, 'support': 35.0}, '7': {'precision': 0.868421052631579, 'recall': 0.9705882352941176, 'f1-score': 0.9166666666666666, 'support': 34.0}, '8': {'precision': 0.8918918918918919, 'recall': 0.9705882352941176, 'f1-score': 0.9295774647887324, 'support': 34.0}, '9': {'precision': 0.9354838709677419, 'recall': 0.90625, 'f1-score': 0.9206349206349206, 'support': 32.0}, 'accuracy': 0.8647058823529412, 'macro avg': {'precision': 0.8665621266451566, 'recall': 0.8648546918767508, 'f1-score': 0.863525930677193, 'support': 340.0}, 'weighted avg': {'precision': 0.8663790417860958, 'recall': 0.8647058823529412, 'f1-score': 0.8633526932695507, 'support': 340.0}}\n"
     ]
    }
   ],
   "source": [
    "print(clf_report_heat)"
   ]
  },
  {
   "cell_type": "code",
   "execution_count": 177,
   "id": "35621c25-5016-4d03-8c8e-eda2cbc5ae25",
   "metadata": {
    "scrolled": true
   },
   "outputs": [
    {
     "data": {
      "text/html": [
       "<div>\n",
       "<style scoped>\n",
       "    .dataframe tbody tr th:only-of-type {\n",
       "        vertical-align: middle;\n",
       "    }\n",
       "\n",
       "    .dataframe tbody tr th {\n",
       "        vertical-align: top;\n",
       "    }\n",
       "\n",
       "    .dataframe thead th {\n",
       "        text-align: right;\n",
       "    }\n",
       "</style>\n",
       "<table border=\"1\" class=\"dataframe\">\n",
       "  <thead>\n",
       "    <tr style=\"text-align: right;\">\n",
       "      <th></th>\n",
       "      <th>0</th>\n",
       "      <th>1</th>\n",
       "      <th>2</th>\n",
       "      <th>3</th>\n",
       "      <th>4</th>\n",
       "      <th>5</th>\n",
       "      <th>6</th>\n",
       "      <th>7</th>\n",
       "      <th>8</th>\n",
       "      <th>9</th>\n",
       "      <th>accuracy</th>\n",
       "      <th>macro avg</th>\n",
       "      <th>weighted avg</th>\n",
       "    </tr>\n",
       "  </thead>\n",
       "  <tbody>\n",
       "    <tr>\n",
       "      <th>precision</th>\n",
       "      <td>0.941176</td>\n",
       "      <td>0.885714</td>\n",
       "      <td>0.785714</td>\n",
       "      <td>0.794872</td>\n",
       "      <td>0.722222</td>\n",
       "      <td>0.909091</td>\n",
       "      <td>0.931034</td>\n",
       "      <td>0.868421</td>\n",
       "      <td>0.891892</td>\n",
       "      <td>0.935484</td>\n",
       "      <td>0.864706</td>\n",
       "      <td>0.866562</td>\n",
       "      <td>0.866379</td>\n",
       "    </tr>\n",
       "    <tr>\n",
       "      <th>recall</th>\n",
       "      <td>0.914286</td>\n",
       "      <td>0.911765</td>\n",
       "      <td>0.666667</td>\n",
       "      <td>0.911765</td>\n",
       "      <td>0.742857</td>\n",
       "      <td>0.882353</td>\n",
       "      <td>0.771429</td>\n",
       "      <td>0.970588</td>\n",
       "      <td>0.970588</td>\n",
       "      <td>0.906250</td>\n",
       "      <td>0.864706</td>\n",
       "      <td>0.864855</td>\n",
       "      <td>0.864706</td>\n",
       "    </tr>\n",
       "    <tr>\n",
       "      <th>f1-score</th>\n",
       "      <td>0.927536</td>\n",
       "      <td>0.898551</td>\n",
       "      <td>0.721311</td>\n",
       "      <td>0.849315</td>\n",
       "      <td>0.732394</td>\n",
       "      <td>0.895522</td>\n",
       "      <td>0.843750</td>\n",
       "      <td>0.916667</td>\n",
       "      <td>0.929577</td>\n",
       "      <td>0.920635</td>\n",
       "      <td>0.864706</td>\n",
       "      <td>0.863526</td>\n",
       "      <td>0.863353</td>\n",
       "    </tr>\n",
       "    <tr>\n",
       "      <th>support</th>\n",
       "      <td>35.000000</td>\n",
       "      <td>34.000000</td>\n",
       "      <td>33.000000</td>\n",
       "      <td>34.000000</td>\n",
       "      <td>35.000000</td>\n",
       "      <td>34.000000</td>\n",
       "      <td>35.000000</td>\n",
       "      <td>34.000000</td>\n",
       "      <td>34.000000</td>\n",
       "      <td>32.000000</td>\n",
       "      <td>0.864706</td>\n",
       "      <td>340.000000</td>\n",
       "      <td>340.000000</td>\n",
       "    </tr>\n",
       "  </tbody>\n",
       "</table>\n",
       "</div>"
      ],
      "text/plain": [
       "                   0          1          2          3          4          5  \\\n",
       "precision   0.941176   0.885714   0.785714   0.794872   0.722222   0.909091   \n",
       "recall      0.914286   0.911765   0.666667   0.911765   0.742857   0.882353   \n",
       "f1-score    0.927536   0.898551   0.721311   0.849315   0.732394   0.895522   \n",
       "support    35.000000  34.000000  33.000000  34.000000  35.000000  34.000000   \n",
       "\n",
       "                   6          7          8          9  accuracy   macro avg  \\\n",
       "precision   0.931034   0.868421   0.891892   0.935484  0.864706    0.866562   \n",
       "recall      0.771429   0.970588   0.970588   0.906250  0.864706    0.864855   \n",
       "f1-score    0.843750   0.916667   0.929577   0.920635  0.864706    0.863526   \n",
       "support    35.000000  34.000000  34.000000  32.000000  0.864706  340.000000   \n",
       "\n",
       "           weighted avg  \n",
       "precision      0.866379  \n",
       "recall         0.864706  \n",
       "f1-score       0.863353  \n",
       "support      340.000000  "
      ]
     },
     "execution_count": 177,
     "metadata": {},
     "output_type": "execute_result"
    }
   ],
   "source": [
    "pd.DataFrame(clf_report_heat)\n",
    "# pd.DataFrame() : A DataFrame is a 2-dimensional labeled data structure with columns of potentially different types"
   ]
  },
  {
   "cell_type": "code",
   "execution_count": 179,
   "id": "dec34fcf-bd6b-4bf6-8a35-8a5b7f6771c6",
   "metadata": {
    "scrolled": true
   },
   "outputs": [
    {
     "data": {
      "text/html": [
       "<div>\n",
       "<style scoped>\n",
       "    .dataframe tbody tr th:only-of-type {\n",
       "        vertical-align: middle;\n",
       "    }\n",
       "\n",
       "    .dataframe tbody tr th {\n",
       "        vertical-align: top;\n",
       "    }\n",
       "\n",
       "    .dataframe thead th {\n",
       "        text-align: right;\n",
       "    }\n",
       "</style>\n",
       "<table border=\"1\" class=\"dataframe\">\n",
       "  <thead>\n",
       "    <tr style=\"text-align: right;\">\n",
       "      <th></th>\n",
       "      <th>0</th>\n",
       "      <th>1</th>\n",
       "      <th>2</th>\n",
       "      <th>3</th>\n",
       "      <th>4</th>\n",
       "      <th>5</th>\n",
       "      <th>6</th>\n",
       "      <th>7</th>\n",
       "      <th>8</th>\n",
       "      <th>9</th>\n",
       "      <th>accuracy</th>\n",
       "      <th>macro avg</th>\n",
       "      <th>weighted avg</th>\n",
       "    </tr>\n",
       "  </thead>\n",
       "  <tbody>\n",
       "    <tr>\n",
       "      <th>precision</th>\n",
       "      <td>0.941176</td>\n",
       "      <td>0.885714</td>\n",
       "      <td>0.785714</td>\n",
       "      <td>0.794872</td>\n",
       "      <td>0.722222</td>\n",
       "      <td>0.909091</td>\n",
       "      <td>0.931034</td>\n",
       "      <td>0.868421</td>\n",
       "      <td>0.891892</td>\n",
       "      <td>0.935484</td>\n",
       "      <td>0.864706</td>\n",
       "      <td>0.866562</td>\n",
       "      <td>0.866379</td>\n",
       "    </tr>\n",
       "    <tr>\n",
       "      <th>recall</th>\n",
       "      <td>0.914286</td>\n",
       "      <td>0.911765</td>\n",
       "      <td>0.666667</td>\n",
       "      <td>0.911765</td>\n",
       "      <td>0.742857</td>\n",
       "      <td>0.882353</td>\n",
       "      <td>0.771429</td>\n",
       "      <td>0.970588</td>\n",
       "      <td>0.970588</td>\n",
       "      <td>0.906250</td>\n",
       "      <td>0.864706</td>\n",
       "      <td>0.864855</td>\n",
       "      <td>0.864706</td>\n",
       "    </tr>\n",
       "    <tr>\n",
       "      <th>f1-score</th>\n",
       "      <td>0.927536</td>\n",
       "      <td>0.898551</td>\n",
       "      <td>0.721311</td>\n",
       "      <td>0.849315</td>\n",
       "      <td>0.732394</td>\n",
       "      <td>0.895522</td>\n",
       "      <td>0.843750</td>\n",
       "      <td>0.916667</td>\n",
       "      <td>0.929577</td>\n",
       "      <td>0.920635</td>\n",
       "      <td>0.864706</td>\n",
       "      <td>0.863526</td>\n",
       "      <td>0.863353</td>\n",
       "    </tr>\n",
       "  </tbody>\n",
       "</table>\n",
       "</div>"
      ],
      "text/plain": [
       "                  0         1         2         3         4         5  \\\n",
       "precision  0.941176  0.885714  0.785714  0.794872  0.722222  0.909091   \n",
       "recall     0.914286  0.911765  0.666667  0.911765  0.742857  0.882353   \n",
       "f1-score   0.927536  0.898551  0.721311  0.849315  0.732394  0.895522   \n",
       "\n",
       "                  6         7         8         9  accuracy  macro avg  \\\n",
       "precision  0.931034  0.868421  0.891892  0.935484  0.864706   0.866562   \n",
       "recall     0.771429  0.970588  0.970588  0.906250  0.864706   0.864855   \n",
       "f1-score   0.843750  0.916667  0.929577  0.920635  0.864706   0.863526   \n",
       "\n",
       "           weighted avg  \n",
       "precision      0.866379  \n",
       "recall         0.864706  \n",
       "f1-score       0.863353  "
      ]
     },
     "execution_count": 179,
     "metadata": {},
     "output_type": "execute_result"
    }
   ],
   "source": [
    "pd.DataFrame(clf_report_heat).iloc[:-1, :]\n",
    "#  This is using Pandas' integer-location based indexing to select all rows up to the second-to-last row ([:-1]) and all columns (:).\n",
    "# It seems like the last row is being excluded, perhaps because it contains overall summary statistics that are not relevant for the heatmap."
   ]
  },
  {
   "cell_type": "code",
   "execution_count": 180,
   "id": "37a4efea-ce89-4917-9585-5e941121a75e",
   "metadata": {},
   "outputs": [
    {
     "data": {
      "text/html": [
       "<div>\n",
       "<style scoped>\n",
       "    .dataframe tbody tr th:only-of-type {\n",
       "        vertical-align: middle;\n",
       "    }\n",
       "\n",
       "    .dataframe tbody tr th {\n",
       "        vertical-align: top;\n",
       "    }\n",
       "\n",
       "    .dataframe thead th {\n",
       "        text-align: right;\n",
       "    }\n",
       "</style>\n",
       "<table border=\"1\" class=\"dataframe\">\n",
       "  <thead>\n",
       "    <tr style=\"text-align: right;\">\n",
       "      <th></th>\n",
       "      <th>precision</th>\n",
       "      <th>recall</th>\n",
       "      <th>f1-score</th>\n",
       "    </tr>\n",
       "  </thead>\n",
       "  <tbody>\n",
       "    <tr>\n",
       "      <th>0</th>\n",
       "      <td>0.941176</td>\n",
       "      <td>0.914286</td>\n",
       "      <td>0.927536</td>\n",
       "    </tr>\n",
       "    <tr>\n",
       "      <th>1</th>\n",
       "      <td>0.885714</td>\n",
       "      <td>0.911765</td>\n",
       "      <td>0.898551</td>\n",
       "    </tr>\n",
       "    <tr>\n",
       "      <th>2</th>\n",
       "      <td>0.785714</td>\n",
       "      <td>0.666667</td>\n",
       "      <td>0.721311</td>\n",
       "    </tr>\n",
       "    <tr>\n",
       "      <th>3</th>\n",
       "      <td>0.794872</td>\n",
       "      <td>0.911765</td>\n",
       "      <td>0.849315</td>\n",
       "    </tr>\n",
       "    <tr>\n",
       "      <th>4</th>\n",
       "      <td>0.722222</td>\n",
       "      <td>0.742857</td>\n",
       "      <td>0.732394</td>\n",
       "    </tr>\n",
       "    <tr>\n",
       "      <th>5</th>\n",
       "      <td>0.909091</td>\n",
       "      <td>0.882353</td>\n",
       "      <td>0.895522</td>\n",
       "    </tr>\n",
       "    <tr>\n",
       "      <th>6</th>\n",
       "      <td>0.931034</td>\n",
       "      <td>0.771429</td>\n",
       "      <td>0.843750</td>\n",
       "    </tr>\n",
       "    <tr>\n",
       "      <th>7</th>\n",
       "      <td>0.868421</td>\n",
       "      <td>0.970588</td>\n",
       "      <td>0.916667</td>\n",
       "    </tr>\n",
       "    <tr>\n",
       "      <th>8</th>\n",
       "      <td>0.891892</td>\n",
       "      <td>0.970588</td>\n",
       "      <td>0.929577</td>\n",
       "    </tr>\n",
       "    <tr>\n",
       "      <th>9</th>\n",
       "      <td>0.935484</td>\n",
       "      <td>0.906250</td>\n",
       "      <td>0.920635</td>\n",
       "    </tr>\n",
       "    <tr>\n",
       "      <th>accuracy</th>\n",
       "      <td>0.864706</td>\n",
       "      <td>0.864706</td>\n",
       "      <td>0.864706</td>\n",
       "    </tr>\n",
       "    <tr>\n",
       "      <th>macro avg</th>\n",
       "      <td>0.866562</td>\n",
       "      <td>0.864855</td>\n",
       "      <td>0.863526</td>\n",
       "    </tr>\n",
       "    <tr>\n",
       "      <th>weighted avg</th>\n",
       "      <td>0.866379</td>\n",
       "      <td>0.864706</td>\n",
       "      <td>0.863353</td>\n",
       "    </tr>\n",
       "  </tbody>\n",
       "</table>\n",
       "</div>"
      ],
      "text/plain": [
       "              precision    recall  f1-score\n",
       "0              0.941176  0.914286  0.927536\n",
       "1              0.885714  0.911765  0.898551\n",
       "2              0.785714  0.666667  0.721311\n",
       "3              0.794872  0.911765  0.849315\n",
       "4              0.722222  0.742857  0.732394\n",
       "5              0.909091  0.882353  0.895522\n",
       "6              0.931034  0.771429  0.843750\n",
       "7              0.868421  0.970588  0.916667\n",
       "8              0.891892  0.970588  0.929577\n",
       "9              0.935484  0.906250  0.920635\n",
       "accuracy       0.864706  0.864706  0.864706\n",
       "macro avg      0.866562  0.864855  0.863526\n",
       "weighted avg   0.866379  0.864706  0.863353"
      ]
     },
     "execution_count": 180,
     "metadata": {},
     "output_type": "execute_result"
    }
   ],
   "source": [
    "pd.DataFrame(clf_report_heat).iloc[:-1, :].T\n",
    "# This is used to transpose the DataFrame, swapping rows and columns"
   ]
  },
  {
   "cell_type": "code",
   "execution_count": 171,
   "id": "d00c4fc3-73fe-4c00-b74f-d168b124591f",
   "metadata": {},
   "outputs": [
    {
     "data": {
      "text/plain": [
       "<Axes: >"
      ]
     },
     "execution_count": 171,
     "metadata": {},
     "output_type": "execute_result"
    },
    {
     "data": {
      "image/png": "[encoded data removed]",
      "text/plain": [
       "<Figure size 640x480 with 2 Axes>"
      ]
     },
     "metadata": {},
     "output_type": "display_data"
    }
   ],
   "source": [
    "sb.heatmap(pd.DataFrame(clf_report_heat).iloc[:-1, :].T, annot = True)"
   ]
  },
  {
   "cell_type": "code",
   "execution_count": null,
   "id": "cad21d37-e1c4-4e1a-a1c4-bf9b245879d5",
   "metadata": {},
   "outputs": [],
   "source": []
  }
 ],
 "metadata": {
  "kernelspec": {
   "display_name": "Python 3 (ipykernel)",
   "language": "python",
   "name": "python3"
  },
  "language_info": {
   "codemirror_mode": {
    "name": "ipython",
    "version": 3
   },
   "file_extension": ".py",
   "mimetype": "text/x-python",
   "name": "python",
   "nbconvert_exporter": "python",
   "pygments_lexer": "ipython3",
   "version": "3.11.5"
  }
 },
 "nbformat": 4,
 "nbformat_minor": 5
}

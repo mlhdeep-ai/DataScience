{
 "cells": [
  {
   "cell_type": "markdown",
   "id": "ca9a2ae7-d03c-4214-90d6-db2496b6a0cb",
   "metadata": {},
   "source": [
    "## Sample_2 of Neural Network - MLP Regressor\n",
    "##### Problem : Determining the price of the Pride car in the Divar data set"
   ]
  },
  {
   "cell_type": "code",
   "execution_count": 1,
   "id": "67e0d4e3-4e25-4b06-ac45-359654a44703",
   "metadata": {},
   "outputs": [],
   "source": [
    "import numpy as np\n",
    "import pandas as pd\n",
    "import seaborn as sb\n",
    "import matplotlib.pyplot as plt\n",
    "from sklearn.model_selection import train_test_split\n",
    "from sklearn.neural_network import MLPRegressor\n",
    "import sklearn.metrics as metrics\n",
    "from sklearn.preprocessing import StandardScaler"
   ]
  },
  {
   "cell_type": "code",
   "execution_count": null,
   "id": "2fb719d9-ff6c-45a0-884c-6a6866148082",
   "metadata": {},
   "outputs": [],
   "source": []
  },
  {
   "cell_type": "code",
   "execution_count": null,
   "id": "b5f23998-0a4e-4964-af93-e60b7b0ce185",
   "metadata": {},
   "outputs": [],
   "source": []
  }
 ],
 "metadata": {
  "kernelspec": {
   "display_name": "Python 3 (ipykernel)",
   "language": "python",
   "name": "python3"
  },
  "language_info": {
   "codemirror_mode": {
    "name": "ipython",
    "version": 3
   },
   "file_extension": ".py",
   "mimetype": "text/x-python",
   "name": "python",
   "nbconvert_exporter": "python",
   "pygments_lexer": "ipython3",
   "version": "3.11.5"
  }
 },
 "nbformat": 4,
 "nbformat_minor": 5
}

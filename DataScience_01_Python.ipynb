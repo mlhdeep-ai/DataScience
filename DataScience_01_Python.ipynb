{
 "cells": [
  {
   "cell_type": "markdown",
   "id": "cf0c32d9-df44-4ae9-b146-a6f65b6aeba2",
   "metadata": {},
   "source": [
    "<h1>Session 01 : Basic Python_01 :)</h1>"
   ]
  },
  {
   "cell_type": "markdown",
   "id": "a0d0c23a-47c1-4f6c-8b7a-45e93b5359cb",
   "metadata": {},
   "source": [
    "<h2>Add library/package</h2>"
   ]
  },
  {
   "cell_type": "code",
   "execution_count": 3,
   "id": "ab8901f5-c3f7-4724-aeb5-76eecc5a9b69",
   "metadata": {},
   "outputs": [],
   "source": [
    "import math     # Add an package or library of Python"
   ]
  },
  {
   "cell_type": "code",
   "execution_count": 4,
   "id": "dbdd4eba-97e7-4bc5-9c91-1e33cdd30018",
   "metadata": {},
   "outputs": [
    {
     "data": {
      "text/plain": [
       "3.141592653589793"
      ]
     },
     "execution_count": 4,
     "metadata": {},
     "output_type": "execute_result"
    }
   ],
   "source": [
    "math.pi     # show p number with math library"
   ]
  },
  {
   "cell_type": "code",
   "execution_count": 5,
   "id": "a2583d53-0377-4632-8c71-83e21685a90b",
   "metadata": {},
   "outputs": [
    {
     "data": {
      "text/plain": [
       "5.0"
      ]
     },
     "execution_count": 5,
     "metadata": {},
     "output_type": "execute_result"
    }
   ],
   "source": [
    "math.sqrt(25) # show sqrt of a number with math library"
   ]
  },
  {
   "cell_type": "code",
   "execution_count": 8,
   "id": "6181628b-3e84-40f1-ba2c-464b5560cf53",
   "metadata": {},
   "outputs": [],
   "source": [
    "from math import pi, sqrt     # Add just one or more sub library of main library"
   ]
  },
  {
   "cell_type": "code",
   "execution_count": 9,
   "id": "c9b99d54-ae45-4162-badb-89d7f91620cd",
   "metadata": {},
   "outputs": [
    {
     "data": {
      "text/plain": [
       "3.141592653589793"
      ]
     },
     "execution_count": 9,
     "metadata": {},
     "output_type": "execute_result"
    }
   ],
   "source": [
    "pi     # Call just sub library "
   ]
  },
  {
   "cell_type": "code",
   "execution_count": 10,
   "id": "a6f1f9d5-792e-4a99-b9b0-6efc221de969",
   "metadata": {},
   "outputs": [
    {
     "data": {
      "text/plain": [
       "5.0"
      ]
     },
     "execution_count": 10,
     "metadata": {},
     "output_type": "execute_result"
    }
   ],
   "source": [
    "sqrt(25)"
   ]
  },
  {
   "cell_type": "markdown",
   "id": "65beff56-e4e3-4a8e-b139-356029822ae8",
   "metadata": {},
   "source": [
    "<h2>Variables & Operators</h2>"
   ]
  },
  {
   "cell_type": "code",
   "execution_count": 13,
   "id": "2967c316-43b2-4b43-8139-3f014b16c362",
   "metadata": {},
   "outputs": [],
   "source": [
    "string_var = \"Python\"\n",
    "num_var = 100\n",
    "bool_var = True\n",
    "no_value_var = None"
   ]
  },
  {
   "cell_type": "code",
   "execution_count": 14,
   "id": "6db56d3e-a209-4973-a110-ff59a4f98f10",
   "metadata": {},
   "outputs": [
    {
     "name": "stdout",
     "output_type": "stream",
     "text": [
      "My name is Malihe, I have been working for myself for 10 years\n"
     ]
    }
   ],
   "source": [
    "# format function in String\n",
    "name = \"Malihe\"\n",
    "years = 10\n",
    "print(\"My name is {}, I have been working for myself for {} years\".format(name, years))"
   ]
  },
  {
   "cell_type": "code",
   "execution_count": 15,
   "id": "48cd16aa-6d62-485f-b902-967568fdf9a4",
   "metadata": {},
   "outputs": [
    {
     "name": "stdin",
     "output_type": "stream",
     "text": [
      "Enter a number: 20\n"
     ]
    },
    {
     "name": "stdout",
     "output_type": "stream",
     "text": [
      "<class 'str'>\n",
      "<class 'int'>\n",
      "2000\n"
     ]
    }
   ],
   "source": [
    "x = input('Enter a number:')     # Get value(s) from user\n",
    "print(type(x))     # Show Type of value\n",
    "x = int(x)     # Change type of value(casting)\n",
    "print(type(x))\n",
    "\n",
    "x = x * 100\n",
    "print(x)"
   ]
  },
  {
   "cell_type": "markdown",
   "id": "a751e48d-d5b2-43b5-b8d4-3e4d702f91c5",
   "metadata": {},
   "source": [
    "<h2>Data Types iterative (List , String, Dictionary and Tuple)</h2>"
   ]
  },
  {
   "cell_type": "code",
   "execution_count": 57,
   "id": "c8221fb7-73da-4e10-82a1-bf09b3d4a19c",
   "metadata": {
    "collapsed": true,
    "jupyter": {
     "outputs_hidden": true,
     "source_hidden": true
    }
   },
   "outputs": [
    {
     "name": "stdout",
     "output_type": "stream",
     "text": [
      "str1: I love Artificial Intelligence \n",
      "\n",
      "List1[0]: Sara\n",
      "List2[-1]: ['Sara', 10, 2.5]\n",
      "List3[0]: [(1, -1), (2, -2), (3, -3)]\n",
      "Tuple1[0]: 1\n",
      "Tuple2[1]: [10, 20, 'Sara', ['Sara', 10, 2.5]]\n",
      "Dictionary1['Name']: Malihe\n",
      "str1[0]: I\n",
      "List3: [[(1, -1), (2, -2), (3, -3)], [(1, -1), (2, -2), (3, -3)], [(1, -1), (2, -2), (3, -3)]]\n"
     ]
    }
   ],
   "source": [
    "list1 = ['Sara', 10, 2.5]\n",
    "list2 = [10, 20, 'Sara', list1]\n",
    "list3 = [[(1, -1) , (2, -2), (3, -3)] ,\n",
    "         [(1, -1) , (2, -2) , (3, -3)] , \n",
    "         [(1, -1) , (2, -2) , (3, -3)]]\n",
    "\n",
    "tuple1 = (1, 2 , 3)\n",
    "tuple2 = (30, list2, 'Amir')\n",
    "\n",
    "dict1 = {'Name' : 'Malihe', 'Age' : 31, 'Love' : 'AI'}\n",
    "\n",
    "str1 = \"I love Artificial Intelligence\"\n",
    "\n",
    "print(\"list1:\", list1)\n",
    "print(\"list2:\", list2)\n",
    "print(\"list3:\", list3)\n",
    "\n",
    "print(\"List1[0]:\", list1[0])\n",
    "print(\"List2[-1]:\", list2[-1])\n",
    "print(\"List3[0]:\", list3[0])\n",
    "print(\"Tuple1[0]:\", tuple1[0])\n",
    "print(\"Tuple2[1]:\", tuple2[1])\n",
    "print(\"Dictionary1['Name']:\", dict1['Name'])\n",
    "print(\"str1[0]:\", str1[0])\n",
    "\n",
    "print('List3:', list3)"
   ]
  },
  {
   "cell_type": "code",
   "execution_count": 59,
   "id": "6225733d-ddda-4c68-b143-713fc422b690",
   "metadata": {
    "collapsed": true,
    "jupyter": {
     "outputs_hidden": true,
     "source_hidden": true
    }
   },
   "outputs": [
    {
     "name": "stdout",
     "output_type": "stream",
     "text": [
      "Primary List_1: [1, 3, 2, 4, 2, 5, 2]\n",
      "List_1.append(6): [1, 3, 2, 4, 2, 5, 2, 6]\n",
      "List_1.insert(1, 'Malihe'): [1, 'Malihe', 3, 2, 4, 2, 5, 2, 6]\n",
      "List_2: [300, 200, 100]\n",
      "List_1.extend(list_2): [1, 'Malihe', 3, 2, 4, 2, 5, 2, 6, 300, 200, 100] \n",
      "\n",
      "List_3 = list_1.copy(): [1, 'Malihe', 3, 2, 4, 2, 5, 2, 6, 300, 200, 100]\n",
      "Id(list_1): 483052454016\n",
      "Id(list_2): 483048986496\n",
      "List_4 = list_1: [1, 'Malihe', 3, 2, 4, 2, 5, 2, 6, 300, 200, 100]\n",
      "Id(list_1): 483052454016\n",
      "Id(list_4): 483052454016 \n",
      "\n",
      "List_1: [1, 'Malihe', 3, 2, 4, 2, 5, 2, 6, 300, 200, 100]\n",
      "Count of value:2 in list_1 is 3 \n",
      "Index of value:2 in list_1 is 3 \n",
      "\n",
      "list_1[1]:'Malihe' was deleted!\n",
      "and now list_1: [1, 3, 2, 4, 2, 5, 2, 6, 300, 200, 100]\n",
      "value:1 was removed!\n",
      "and now list_1: [3, 2, 4, 2, 5, 2, 6, 300, 200, 100] \n",
      "\n",
      "Reverse list_1: [100, 200, 300, 6, 2, 5, 2, 4, 2, 3] \n",
      "\n",
      "Sort list_1: [2, 2, 2, 3, 4, 5, 6, 100, 200, 300] \n",
      "\n",
      "Clear list_1: [] \n",
      "\n"
     ]
    }
   ],
   "source": [
    "# List Methods\n",
    "list_1 = [1, 3, 2, 4, 2, 5, 2]\n",
    "print(\"Primary List_1:\", list_1)\n",
    "list_1.append(6)\n",
    "print(\"List_1.append(6):\", list_1)\n",
    "list_1.insert(1, 'Malihe')     # Insert(index, value)\n",
    "print(\"List_1.insert(1, 'Malihe'):\", list_1)\n",
    "list_2 = [300, 200, 100]\n",
    "print(\"List_2:\", list_2)\n",
    "list_1.extend(list_2)\n",
    "print(\"List_1.extend(list_2):\", list_1, \"\\n\")\n",
    "\n",
    "list_3 = list_1.copy()\n",
    "# In Copy, id(list_1) != id(list_2)\n",
    "print(\"List_3 = list_1.copy():\", list_3)\n",
    "print(\"Id(list_1):\", id(list_1))\n",
    "print(\"Id(list_2):\", id(list_2)) \n",
    "\n",
    "list_4 = list_1\n",
    "# In Equality, id(list_1) = id(list_2)\n",
    "print(\"List_4 = list_1:\", list_4)\n",
    "print(\"Id(list_1):\", id(list_1))\n",
    "print(\"Id(list_4):\", id(list_4), \"\\n\")\n",
    "\n",
    "print(\"List_1:\", list_1)\n",
    "value_1 = 2\n",
    "n = list_1.count(value_1)     # Count(value)\n",
    "print(\"Count of value:%i in list_1 is %i \" % (value_1, n))\n",
    "\n",
    "index_1 = list_1.index(value_1)\n",
    "print(\"Index of value:%i in list_1 is %i\" % (value_1, index_1), \"\\n\")     # First index of value in list\n",
    "\n",
    "indx_pop = 1\n",
    "val_pop = list_1.pop(indx_pop)      # pop(index) : return and delete value of index\n",
    "print(\"list_1[1]:'%s' was deleted!\" % val_pop)\n",
    "print(\"and now list_1:\", list_1)\n",
    "\n",
    "val_remove = 1\n",
    "list_1.remove(val_remove)     # removed(value) : Removes the first item with the specified value\n",
    "print(\"value:%i was removed!\" % val_remove)\n",
    "print(\"and now list_1:\", list_1, \"\\n\")\n",
    "\n",
    "list_1.reverse()\n",
    "print(\"Reverse list_1:\", list_1, \"\\n\")\n",
    "\n",
    "list_1.sort()\n",
    "print(\"Sort list_1:\", list_1, '\\n')\n",
    "\n",
    "list_1.clear()\n",
    "print(\"Clear list_1:\", list_1, \"\\n\")"
   ]
  },
  {
   "cell_type": "code",
   "execution_count": 61,
   "id": "de7a9f2c-45ba-4efb-aeba-46d0c6a2931c",
   "metadata": {
    "jupyter": {
     "source_hidden": true
    }
   },
   "outputs": [
    {
     "name": "stdout",
     "output_type": "stream",
     "text": [
      "2\n",
      "[1, 2, 3]\n",
      "[1, 2, 3, 4, 5, 6, 7, 8, 9]\n",
      "9\n",
      "[1, 2, 3, 4, 5, 6, 7]\n",
      "[9, 8, 7, 6, 5, 4, 3, 2, 1]\n"
     ]
    }
   ],
   "source": [
    "# Slice of list\n",
    "list1 = [1, 2, 3, 4, 5, 6 , 7, 8, 9]\n",
    "print(list1[1])\n",
    "print(list1[0 : 3])     # show list from index: 0 to index: 2\n",
    "print(list1[:])     # show all list\n",
    "print(list1[-1])     # show a cell of list from end\n",
    "print(list1[:-2])     # show list from first to the last 2 cells\n",
    "print([list1[x] for x in range(len(list1) -1 , -1, -1)])     # show list from end to first"
   ]
  },
  {
   "cell_type": "code",
   "execution_count": 63,
   "id": "4497ac52-60cb-4ae2-9795-3aa8cbe6b44a",
   "metadata": {
    "collapsed": true,
    "jupyter": {
     "outputs_hidden": true,
     "source_hidden": true
    }
   },
   "outputs": [
    {
     "name": "stdout",
     "output_type": "stream",
     "text": [
      "Str_1: i am malihe. I love AI \n",
      "\n",
      "capitalize() ==> I am malihe. i love ai \n",
      "\n",
      "casefold() ==> i am malihe. i love ai \n",
      "\n",
      "Count of 'i': 4 \n",
      "\n",
      "True \n",
      "\n",
      "Str_2: I am a datascientist\n",
      "find('data') ==> First index: 7\n",
      "index('data') ==>  7 \n",
      "\n",
      "datascientist\n",
      "str_2.islower(): False\n",
      "str_2.isupper(): False \n",
      "\n",
      "join() ==>  I am a datascientist \n",
      "\n",
      "replace() ==> I am a AI Engineer \n",
      "\n",
      "First phrase: Ali is a student.Mina is a teacher.Sara is a driver\n",
      "lst(splited): ['Ali is a student', 'Mina is a teacher', 'Sara is a driver']\n",
      "lst[1]: Mina is a teacher\n",
      "lst[1].replace(): Mina is a datascientist\n",
      "Final phrase: Ali is a student.Mina is a datascientist.Sara is a driver \n",
      "\n"
     ]
    }
   ],
   "source": [
    "# Strings\n",
    "str_1 = 'i am malihe. I love AI'\n",
    "print(\"Str_1:\", str_1, \"\\n\")\n",
    "\n",
    "str_1 = str_1.capitalize()\n",
    "print(\"capitalize() ==>\", str_1, '\\n')     # Converts the first character to upper case and others to lower\n",
    "\n",
    "str_1 = str_1.casefold()\n",
    "print(\"casefold() ==>\", str_1, '\\n')     # Converts string into lower case\n",
    "\n",
    "print(\"Count of 'i':\", str_1.count(\"i\"), '\\n')\n",
    "\n",
    "print(str_1.endswith(\"ai\"), '\\n')\n",
    "\n",
    "str_2 = \"I am a datascientist\"\n",
    "print(\"Str_2:\", str_2)\n",
    "print(\"find('data') ==> First index:\", str_2.find(\"data\"))     # Searches the string for a specified value and returns the position of where it was found\n",
    "print(\"index('data') ==> \", str_2.index('data'), '\\n')     # # Searches the string for a specified value and returns the position of where it was found\n",
    "\n",
    "#slice\n",
    "index_1 = str_2.find('data')\n",
    "print(str_2[index_1 : ])\n",
    "\n",
    "print(\"str_2.islower():\", str_2.islower())\n",
    "print(\"str_2.isupper():\", str_2.isupper(), '\\n')\n",
    "\n",
    "lst_1 = ['I', 'am', 'a', 'datascientist']\n",
    "str_3 = \" \".join(lst_1)\n",
    "print(\"join() ==> \", str_3, '\\n')\n",
    "\n",
    "str_3 = str_3.replace('datascientist', 'AI Engineer')\n",
    "print(\"replace() ==>\", str_3, '\\n')\n",
    "\n",
    "# split & replace & join\n",
    "phrase = \"Ali is a student.Mina is a teacher.Sara is a driver\"\n",
    "print(\"First phrase:\", phrase)\n",
    "lst = phrase.split('.')\n",
    "print(\"lst(splited):\", lst)\n",
    "print('lst[1]:', lst[1])\n",
    "lst[1] = lst[1].replace('teacher', 'datascientist')\n",
    "print('lst[1].replace():', lst[1])\n",
    "phrase = '.'.join(lst)\n",
    "print(\"Final phrase:\", phrase, '\\n')"
   ]
  },
  {
   "cell_type": "code",
   "execution_count": 66,
   "id": "61a8fecd-985e-44a4-a5cd-47980e10eaf0",
   "metadata": {},
   "outputs": [
    {
     "name": "stdout",
     "output_type": "stream",
     "text": [
      "dict_1: [('name', 'Malihe'), ('age', 31), ('job', 'AI'), ('interest', '')]\n",
      "keys: ['name', 'age', 'job', 'interest']\n",
      "values: ['Malihe', 31, 'AI', ''] \n",
      "\n",
      "dict_1(updated): [('name', 'Malihe'), ('age', 31), ('job', 'AI'), ('interest', 'cosmology')] \n",
      "\n",
      "dict_2: [('A', 100), ('B', 100), ('C', 100)] \n",
      "\n",
      "dict_3: [('num1', 100), ('num2', 200), ('num3', 300)] \n",
      "\n",
      "dict_3.num3: 300 \n",
      "\n",
      "num2(pop): 200\n",
      "dict_3 after pop ==> {'num1': 100, 'num3': 300}\n"
     ]
    }
   ],
   "source": [
    "# Dictionary\n",
    "\n",
    "dict_1 = {'name' : 'Malihe', 'age' : 31, 'job' : 'AI', 'interest' : ''}\n",
    "print(\"dict_1:\", list(dict_1.items()))\n",
    "print(\"keys:\", list(dict_1.keys()))\n",
    "print(\"values:\", list(dict_1.values()), '\\n')\n",
    "\n",
    "dict_1.update({'interest' : 'cosmology'})\n",
    "print('dict_1(updated):', list(dict_1.items()), '\\n')\n",
    "\n",
    "# Create a dictionary(method 1)\n",
    "lst_keys = ['A', 'B', 'C']\n",
    "value = 100\n",
    "dict_2 = dict.fromkeys(lst_keys, value)\n",
    "print('dict_2:', list(dict_2.items()), '\\n')\n",
    "\n",
    "# Create a dictionary(method 2)\n",
    "lst_keys = ['num1', 'num2', 'num3']\n",
    "lst_values = [100, 200, 300]\n",
    "dict_3 = dict(zip(lst_keys, lst_values))\n",
    "\n",
    "# Create a dictionary(method 3)\n",
    "lst_keys = ['num1', 'num2', 'num3']\n",
    "lst_values = [100, 200, 300]\n",
    "dict_3 = {k : v for k, v in zip(lst_keys, lst_values)}\n",
    "\n",
    "print('dict_3:', list(dict_3.items()), '\\n')\n",
    "\n",
    "print(\"dict_3.num3:\", dict_3.get('num3'), '\\n')\n",
    "num2_del = dict_3.pop('num2')\n",
    "print(\"num2(pop):\", num2_del)\n",
    "print(\"dict_3 after pop ==>\", dict_3)"
   ]
  },
  {
   "cell_type": "markdown",
   "id": "b82df686-1712-4224-9c33-6b99593776d9",
   "metadata": {},
   "source": [
    "<h2>Conditions</h2>"
   ]
  },
  {
   "cell_type": "code",
   "execution_count": 21,
   "id": "b2c9ad1f-4c02-4448-9609-4311567f8d91",
   "metadata": {},
   "outputs": [
    {
     "name": "stdout",
     "output_type": "stream",
     "text": [
      "12 divisible by 2 and 3\n"
     ]
    }
   ],
   "source": [
    "x = 12\n",
    "if x % 2 == 0 and x % 3 == 0:\n",
    "    print('%i divisible by 2 and 3' % x)"
   ]
  },
  {
   "cell_type": "code",
   "execution_count": 19,
   "id": "b8a47e1d-26ea-4d4f-8752-f4da6121022b",
   "metadata": {},
   "outputs": [
    {
     "name": "stdout",
     "output_type": "stream",
     "text": [
      "Yes, You are okay for driving!\n"
     ]
    }
   ],
   "source": [
    "x = 18\n",
    "if (x == 18) | (x == 19):\n",
    "    print(\"Yes, You are okay for driving!\")"
   ]
  },
  {
   "cell_type": "code",
   "execution_count": 20,
   "id": "91a3baba-b1e9-4874-8274-3ee28b427718",
   "metadata": {},
   "outputs": [
    {
     "name": "stdout",
     "output_type": "stream",
     "text": [
      "OK\n"
     ]
    }
   ],
   "source": [
    "a = 10\n",
    "b = 20\n",
    "if a != b:\n",
    "    print(\"OK\")"
   ]
  },
  {
   "cell_type": "code",
   "execution_count": 21,
   "id": "6aeae38d-fcf7-4341-b76a-910d21540302",
   "metadata": {},
   "outputs": [
    {
     "name": "stdout",
     "output_type": "stream",
     "text": [
      "Exist!\n"
     ]
    }
   ],
   "source": [
    "list_names = ['Sara', 'Mina', 'Parsa']\n",
    "if \"Mina\" in list_names:\n",
    "    print(\"Exist!\")\n",
    "else:\n",
    "    print(\"Not Exist!\")"
   ]
  },
  {
   "cell_type": "code",
   "execution_count": 22,
   "id": "0adc1108-c77c-4b29-8f35-f31e23ef2242",
   "metadata": {},
   "outputs": [
    {
     "name": "stdout",
     "output_type": "stream",
     "text": [
      "For success, I  try try try \n"
     ]
    }
   ],
   "source": [
    "print(\"For success, I \", \"try \" * 3)"
   ]
  },
  {
   "cell_type": "code",
   "execution_count": 23,
   "id": "19f59fd5-b080-433f-8d7a-46e7b7f492a2",
   "metadata": {},
   "outputs": [
    {
     "name": "stdout",
     "output_type": "stream",
     "text": [
      "My name is Sara and I am 20 years old.\n"
     ]
    }
   ],
   "source": [
    "# Multiple Assignment\n",
    "name, age = \"Sara\", 20\n",
    "print(f\"My name is {name} and I am {age} years old.\")"
   ]
  },
  {
   "cell_type": "code",
   "execution_count": 24,
   "id": "745f25a7-1ed5-47ce-859a-0d77f0159849",
   "metadata": {},
   "outputs": [
    {
     "name": "stdout",
     "output_type": "stream",
     "text": [
      "Before swap ==> a: 10 and b: 20\n",
      "After swap ==> a: 20 and b: 10\n"
     ]
    }
   ],
   "source": [
    "# Swap 2 variable\n",
    "a, b = 10, 20\n",
    "print(f\"Before swap ==> a: {a} and b: {b}\")\n",
    "a, b = b, a\n",
    "print(f\"After swap ==> a: {a} and b: {b}\")"
   ]
  },
  {
   "cell_type": "markdown",
   "id": "9cfd4964-4205-4261-9fb5-429e168b3b8f",
   "metadata": {},
   "source": [
    "<h2>Random library</h2>"
   ]
  },
  {
   "cell_type": "code",
   "execution_count": 24,
   "id": "b3bdf45f-5e90-412a-ab94-5060ae36e409",
   "metadata": {
    "jupyter": {
     "source_hidden": true
    }
   },
   "outputs": [
    {
     "name": "stdout",
     "output_type": "stream",
     "text": [
      "8\n"
     ]
    }
   ],
   "source": [
    "import random as r\n",
    "print(r.randint(1, 10))     # show a random number between 1 to 10"
   ]
  },
  {
   "cell_type": "code",
   "execution_count": 45,
   "id": "828ad8be-3e6d-4521-9b04-5c0b3b958882",
   "metadata": {
    "jupyter": {
     "source_hidden": true
    }
   },
   "outputs": [
    {
     "name": "stdout",
     "output_type": "stream",
     "text": [
      "[0.06587859023514431, 0.22902215434012307]\n",
      "[4, 2, 2, 4, 2, 7, 5, 2, 4, 3]\n"
     ]
    }
   ],
   "source": [
    "# show list of random numberes\n",
    "print([r.random(), r.random()])     # random numberes between 0 and 1\n",
    "print([r.randint(1, 10) for i in range(10)])     # random numberes between 1 and 10"
   ]
  },
  {
   "cell_type": "code",
   "execution_count": 46,
   "id": "0e022026-15b4-4872-b6ed-6ef3dc1ebf2f",
   "metadata": {
    "jupyter": {
     "source_hidden": true
    }
   },
   "outputs": [
    {
     "name": "stdout",
     "output_type": "stream",
     "text": [
      "['R']\n"
     ]
    }
   ],
   "source": [
    "# Choice function in random\n",
    "import random as rd\n",
    "choices = ['R', 'P', 'S']\n",
    "machine_choice = rd.choices(choices)\n",
    "print(machine_choice)"
   ]
  },
  {
   "cell_type": "code",
   "execution_count": 27,
   "id": "6b54a6b5-b2e9-4d75-bb97-a65f545046f9",
   "metadata": {
    "jupyter": {
     "source_hidden": true
    }
   },
   "outputs": [
    {
     "name": "stdout",
     "output_type": "stream",
     "text": [
      "Primary List: [1, 2, 3, 4, 5]\n",
      "List After shuffle [4, 1, 3, 5, 2]\n"
     ]
    }
   ],
   "source": [
    "# Shuffle func\n",
    "from random import shuffle\n",
    "lst = [1, 2, 3, 4, 5]\n",
    "print(\"Primary List:\", lst)\n",
    "shuffle(lst)     # Direct effect on the function\n",
    "print(\"List After shuffle\", lst)"
   ]
  },
  {
   "cell_type": "markdown",
   "id": "47e365a5-e5f1-48ab-ab59-b6d0e609d439",
   "metadata": {},
   "source": [
    "<h2>Define funcion</h2>"
   ]
  },
  {
   "cell_type": "code",
   "execution_count": 28,
   "id": "81bdc685-9964-4e0c-b1ac-f94db110107e",
   "metadata": {
    "jupyter": {
     "source_hidden": true
    }
   },
   "outputs": [
    {
     "name": "stdin",
     "output_type": "stream",
     "text": [
      "Please enter your age: 31\n"
     ]
    },
    {
     "name": "stdout",
     "output_type": "stream",
     "text": [
      "You can drive.\n"
     ]
    }
   ],
   "source": [
    "def driving_permit(age):\n",
    "    if age >= 18:\n",
    "        return True\n",
    "    else:\n",
    "        return False\n",
    "\n",
    "age = input(\"Please enter your age:\")\n",
    "age = float(age)\n",
    "if driving_permit(age):\n",
    "    print(\"You can drive.\")\n",
    "else:\n",
    "    print(\"You cannot drive, Because your age is below 18!\")"
   ]
  },
  {
   "cell_type": "code",
   "execution_count": 29,
   "id": "2166f14e-c52c-4da6-a770-cf2be1880791",
   "metadata": {
    "jupyter": {
     "source_hidden": true
    }
   },
   "outputs": [],
   "source": [
    "# Comment about functions and personal utility file: \n",
    "\n",
    "# You can write your all functions in a file with the suffix \".py\" (For example: \"utility.py\"), \n",
    "#   and put it at next to main Code.\n",
    "#   So you can call every function in your main code by \"import\" it.\n",
    "\n",
    "# For example:\n",
    "#   import utility as ut\n",
    "#   age = input(\"Please enter your age:\")\n",
    "#   age = float(age)\n",
    "#   ut.driving_permit(age)\n",
    "\n",
    "#   or\n",
    "#   from utility import driving_permit\n",
    "#   ...\n",
    "#   driving_permit(age)"
   ]
  },
  {
   "cell_type": "markdown",
   "id": "df52602d-820a-4dc5-a289-d25a90a8fb44",
   "metadata": {},
   "source": [
    "<h2>Map & Lambda funcions</h2>"
   ]
  },
  {
   "cell_type": "code",
   "execution_count": 31,
   "id": "a0f12fc8-88b8-4a7a-a320-3e5f3451459f",
   "metadata": {
    "jupyter": {
     "source_hidden": true
    }
   },
   "outputs": [
    {
     "name": "stdout",
     "output_type": "stream",
     "text": [
      "[1, 4, 9, 16, 25, 100]\n"
     ]
    },
    {
     "name": "stdin",
     "output_type": "stream",
     "text": [
      "Enter two numbers: 5 12\n"
     ]
    },
    {
     "name": "stdout",
     "output_type": "stream",
     "text": [
      "a: 5 and b: 12\n"
     ]
    }
   ],
   "source": [
    "# map & lambda functions\n",
    "list_1 = [1, 2, 3, 4, 5, -10]\n",
    "print(list(map(lambda x: x * x, list_1)))     # Print \"x * x\" that x take from a list\n",
    "a, b = map(int, input('Enter 2 numbers:').split())     # Getting 2 numbers with space from each other and convert to \"int\" type.\n",
    "print(\"a: %i and b: %i\" % (a, b))\n",
    "\n",
    "# lambda: A lambda function is a small anonymous function.\n",
    "#   A lambda function can take any number of arguments, but can only have one expression.\n",
    "\n",
    "# map: Map in Python is a function that works as an iterator to return a result after applying a function to \n",
    "#  every item of an iterable (tuple, lists, etc.). It is used when you want to apply a single transformation\n",
    "#  function to all the iterable elements. The iterable and function are passed as arguments to the map in Python."
   ]
  },
  {
   "cell_type": "code",
   "execution_count": 33,
   "id": "b448cdd2-9bc1-4ae9-8e09-6698f5de26d3",
   "metadata": {},
   "outputs": [
    {
     "name": "stdout",
     "output_type": "stream",
     "text": [
      "[1, 3, 5, 7, 9]\n"
     ]
    }
   ],
   "source": [
    "print(list(range(1, 10, 2)))     # print list of numbers in range of 1 to 10 by step: 2"
   ]
  },
  {
   "cell_type": "markdown",
   "id": "948c58e6-33c8-4e49-8e5b-f8b6f9d2d33d",
   "metadata": {},
   "source": [
    "<h2>Loop (For/ While/ ...)</h2>"
   ]
  },
  {
   "cell_type": "code",
   "execution_count": 64,
   "id": "633f08b5-cefc-4e4c-9e6c-3cc9e4e963ca",
   "metadata": {
    "collapsed": true,
    "jupyter": {
     "outputs_hidden": true,
     "source_hidden": true
    }
   },
   "outputs": [
    {
     "name": "stdout",
     "output_type": "stream",
     "text": [
      "number: 1\n",
      "number: 2\n",
      "number: 3\n",
      "number: 4\n",
      "number: 5\n",
      "number: 6\n",
      "number: 7\n",
      "number: 8\n",
      "number: 9\n",
      "number: 10\n"
     ]
    }
   ],
   "source": [
    "n = 1\n",
    "while n < 11:\n",
    "    print(\"number: %i\" % n)\n",
    "    n += 1"
   ]
  },
  {
   "cell_type": "code",
   "execution_count": 34,
   "id": "ccd9d21d-e2ea-4c4c-8ed1-4e59b12a102b",
   "metadata": {
    "collapsed": true,
    "jupyter": {
     "outputs_hidden": true
    }
   },
   "outputs": [
    {
     "name": "stdout",
     "output_type": "stream",
     "text": [
      "number: 1\n",
      "number: 2\n",
      "number: 3\n",
      "number: 4\n",
      "number: 5\n",
      "number: 6\n",
      "number: 7\n",
      "number: 8\n",
      "number: 9\n",
      "number: 10\n"
     ]
    }
   ],
   "source": [
    "for i in range(1, 11):\n",
    "    print(\"number:\",i)"
   ]
  },
  {
   "cell_type": "markdown",
   "id": "62119562-2d9c-4832-8787-8fa27c247ac1",
   "metadata": {},
   "source": [
    "<h2>Numpy library</h2>"
   ]
  },
  {
   "cell_type": "code",
   "execution_count": 35,
   "id": "55e8e21a-3243-4477-b6c0-9f2a2a88bdd8",
   "metadata": {},
   "outputs": [],
   "source": [
    "import numpy as np"
   ]
  },
  {
   "cell_type": "code",
   "execution_count": 43,
   "id": "82be934d-4e61-45a8-bfaf-9ffa431a723a",
   "metadata": {},
   "outputs": [
    {
     "name": "stdout",
     "output_type": "stream",
     "text": [
      "List_1: [1, 2, 3, 4, 5]\n",
      "List_2: [3, 4, 5, 6, 7] \n",
      "\n",
      "array_1: [1 2 3 4 5]\n",
      "(array_1) + 2 ==> [3 4 5 6 7]\n",
      "array_1[0]: 3\n"
     ]
    }
   ],
   "source": [
    "list_1 = [1, 2, 3, 4, 5]\n",
    "list_2 = [x + 2 for x in list_1]\n",
    "print(\"List_1:\", list_1)\n",
    "print(\"List_2:\", list_2, '\\n')\n",
    "\n",
    "array_1 = np.array(list_1)\n",
    "print(\"array_1:\", array_1)\n",
    "array_1 += 2\n",
    "print(\"(array_1) + 2 ==>\",array_1)\n",
    "print('array_1[0]:', array_1[0])"
   ]
  },
  {
   "cell_type": "markdown",
   "id": "261033d8-c733-4748-a9c7-3dcb783c64b9",
   "metadata": {},
   "source": [
    "<h2>Time</h2>"
   ]
  },
  {
   "cell_type": "code",
   "execution_count": 87,
   "id": "b5a33474-cc12-427d-b7a3-b19e2f0249df",
   "metadata": {},
   "outputs": [
    {
     "name": "stdout",
     "output_type": "stream",
     "text": [
      "CPU times: total: 15.6 ms\n",
      "Wall time: 19 ms\n"
     ]
    }
   ],
   "source": [
    "%%time      \n",
    "# Show duration time of run commands of below\n",
    "for i in range(100000):\n",
    "    continue"
   ]
  },
  {
   "cell_type": "code",
   "execution_count": 49,
   "id": "f0fc30fb-623a-4b83-bc4c-e339538d1328",
   "metadata": {
    "jupyter": {
     "source_hidden": true
    }
   },
   "outputs": [
    {
     "name": "stdout",
     "output_type": "stream",
     "text": [
      "Time Stamp: 1708591178.3493862\n",
      "Date Time: 2024-02-22 12:09:38.349386\n"
     ]
    }
   ],
   "source": [
    "# time function\n",
    "import time\n",
    "import datetime\n",
    "time_stamp  = time.time()\n",
    "print(\"Time Stamp:\", time_stamp)\n",
    "date_time = datetime.datetime.fromtimestamp(time_stamp)\n",
    "print(\"Date Time:\", date_time)"
   ]
  },
  {
   "cell_type": "markdown",
   "id": "d57c9089-5c49-4b1f-9647-fa7019fd432f",
   "metadata": {},
   "source": [
    "<h2>Beep function</h2>"
   ]
  },
  {
   "cell_type": "code",
   "execution_count": 58,
   "id": "9abbaff9-8367-4fa4-aed7-15a11365f97a",
   "metadata": {},
   "outputs": [],
   "source": [
    "import winsound\n",
    "# winsound.Beep(1000, 300)     # Beep (Frequency, timeDuration)\n",
    "winsound.Beep(1000, 500)"
   ]
  },
  {
   "cell_type": "code",
   "execution_count": null,
   "id": "ca678b27-140c-4ca3-b65b-1a68077aadbe",
   "metadata": {},
   "outputs": [],
   "source": []
  }
 ],
 "metadata": {
  "kernelspec": {
   "display_name": "Python 3 (ipykernel)",
   "language": "python",
   "name": "python3"
  },
  "language_info": {
   "codemirror_mode": {
    "name": "ipython",
    "version": 3
   },
   "file_extension": ".py",
   "mimetype": "text/x-python",
   "name": "python",
   "nbconvert_exporter": "python",
   "pygments_lexer": "ipython3",
   "version": "3.11.5"
  }
 },
 "nbformat": 4,
 "nbformat_minor": 5
}

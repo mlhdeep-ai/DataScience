{
 "cells": [
  {
   "cell_type": "code",
   "execution_count": 143,
   "id": "79104d5b-3d2a-47a5-a5ea-6c121681750e",
   "metadata": {
    "tags": []
   },
   "outputs": [
    {
     "name": "stdin",
     "output_type": "stream",
     "text": [
      "Please enter Name, Old job and New job: Malihe teacher DataScientist\n"
     ]
    },
    {
     "name": "stdout",
     "output_type": "stream",
     "text": [
      "*First Sentences: Ali is a driver.Sara is a programmer.Mina is a dentist.Malihe is a teacher.Mahan is a manager.Mohsen is a student.\n",
      "Edited Sentences: Ali is a driver.Sara is a programmer.Mina is a dentist.Malihe is a DataScientist.Mahan is a manager.Mohsen is a student.\n"
     ]
    }
   ],
   "source": [
    "#///////////////////////////////////////////////////////////// The First Method /////////////////////////////////////////////////////////////\n",
    "def editjobbyname(sentence, name, oldjob, newjob):\n",
    "    lst = sentence.split('.')\n",
    "    for i in range(len(lst)):    \n",
    "        # if lst[i].find(name) == 0:  \n",
    "        if name in lst[i]:\n",
    "            lst[i] = lst[i].replace(oldjob, newjob)\n",
    "            break\n",
    "    else:\n",
    "        print(\"Name: %s isn't in list\" % name)\n",
    "    sentence = '.'.join(lst)\n",
    "    return sentence\n",
    "\n",
    "\n",
    "sentence_first = \"Ali is a driver.Sara is a programmer.Mina is a dentist.Malihe is a teacher.Mahan is a manager.Mohsen is a student.\"\n",
    "name, oldjob, newjob = input(\"Please enter Name, Old job and New job:\").split()\n",
    "sentence_edited = editjobbyname(sentence, name, oldjob, newjob)\n",
    "print(\"*First Sentences:\", sentence_first) \n",
    "print(\"Edited Sentences:\", sentence_edited)"
   ]
  },
  {
   "cell_type": "code",
   "execution_count": null,
   "id": "0517be8b-7084-42db-b590-8f0f590560e7",
   "metadata": {
    "tags": []
   },
   "outputs": [],
   "source": [
    "#///////////////////////////////////////////////////////////// The Second Method /////////////////////////////////////////////////////////////\n",
    "def editjobbyname(sentence, name, newjob):\n",
    "    lst = sentence.split('.')\n",
    "    lst2 = [lst[i].split() for i in range(len(lst))]\n",
    "\n",
    "    for i in range(len(lst2) - 1):\n",
    "        if lst2[i][0] == name:\n",
    "            lst2[i][3] = newjob  \n",
    "\n",
    "    for i in range(len(lst2)):\n",
    "        lst2[i] = ' '.join(lst2[i])\n",
    "    sentence = '.'.join(lst2)\n",
    "    return sentence\n",
    "\n",
    "\n",
    "sentence_first = \"Ali is a driver.Sara is a programmer.Mina is a dentist.Malihe is a teacher.Mahan is a manager.Mohsen is a student.\"\n",
    "name, newjob = input(\"Please enter Name and New job:\").split()\n",
    "sentence_edited = editjobbyname(sentence, name, newjob)\n",
    "print(\"*First Sentences:\", sentence_first) \n",
    "print(\"Edited Sentences:\", sentence_edited)"
   ]
  },
  {
   "cell_type": "code",
   "execution_count": null,
   "id": "ff33c1ba-2fb0-41a9-a02f-b5f9e6ebfb51",
   "metadata": {},
   "outputs": [],
   "source": []
  }
 ],
 "metadata": {
  "kernelspec": {
   "display_name": "Python 3 (ipykernel)",
   "language": "python",
   "name": "python3"
  },
  "language_info": {
   "codemirror_mode": {
    "name": "ipython",
    "version": 3
   },
   "file_extension": ".py",
   "mimetype": "text/x-python",
   "name": "python",
   "nbconvert_exporter": "python",
   "pygments_lexer": "ipython3",
   "version": "3.11.5"
  }
 },
 "nbformat": 4,
 "nbformat_minor": 5
}

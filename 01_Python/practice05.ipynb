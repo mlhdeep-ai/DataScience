{
 "cells": [
  {
   "cell_type": "code",
   "execution_count": 39,
   "id": "d4393cc1-6224-4ced-8c09-1ac2851de06f",
   "metadata": {
    "tags": []
   },
   "outputs": [
    {
     "name": "stdin",
     "output_type": "stream",
     "text": [
      "Please enter your option (Rock = r, Paper = p, Scissors = s): r\n",
      "Please enter your option (Rock = r, Paper = p, Scissors = s): r\n",
      "Please enter your option (Rock = r, Paper = p, Scissors = s): p\n",
      "Please enter your option (Rock = r, Paper = p, Scissors = s): s\n",
      "Please enter your option (Rock = r, Paper = p, Scissors = s): d\n"
     ]
    },
    {
     "name": "stdout",
     "output_type": "stream",
     "text": [
      "Your option is wrong! Please try again.\n"
     ]
    },
    {
     "name": "stdin",
     "output_type": "stream",
     "text": [
      "Please enter your option (Rock = r, Paper = p, Scissors = s): s\n",
      "Please enter your option (Rock = r, Paper = p, Scissors = s): p\n",
      "Please enter your option (Rock = r, Paper = p, Scissors = s): s\n",
      "Please enter your option (Rock = r, Paper = p, Scissors = s): r\n",
      "Please enter your option (Rock = r, Paper = p, Scissors = s): s\n"
     ]
    },
    {
     "name": "stdout",
     "output_type": "stream",
     "text": [
      "\n",
      "   index user_opt machine_opt   winner\n",
      "0      1        R           R    Equal\n",
      "1      2        R           S     User\n",
      "2      3        P           P    Equal\n",
      "3      4        S           R  Machine\n",
      "4      6        S           R  Machine\n",
      "5      7        P           P    Equal\n",
      "6      8        S           S    Equal\n",
      "7      9        R           S     User\n",
      "8     10        S           S    Equal\n",
      "--------------------------------------------------------\n",
      "User is equal to Machine\n"
     ]
    }
   ],
   "source": [
    "# Rock, Paper, Scissors Game!\n",
    "# Rock = 1, Paper = 2, Scissors = 3\n",
    "\n",
    "import random as rd\n",
    "import pandas as pd\n",
    "\n",
    "max_timegame = 10\n",
    "lst_index = list()\n",
    "lst_useropt = list()\n",
    "lst_machineopt = list()\n",
    "lst_winner = list()\n",
    "\n",
    "for i in range(max_timegame):\n",
    "    machine_opt = rd.randint(1, 3)\n",
    "    user_opt = input(\"Please enter your option (Rock = r, Paper = p, Scissors = s):\")\n",
    "    if user_opt == 'r': user_opt = 1\n",
    "    elif user_opt == 'p': user_opt = 2\n",
    "    elif user_opt == 's': user_opt = 3\n",
    "    else:\n",
    "        print(\"Your option is wrong! Please try again.\")\n",
    "        continue\n",
    "    \n",
    "    if machine_opt == user_opt:        \n",
    "        winner = \"Equal\"\n",
    "        # print(\"You are Equal!\")        \n",
    "    \n",
    "    if user_opt == 1:\n",
    "        if machine_opt == 2:\n",
    "            winner = \"Machine\"\n",
    "            # print(\"You: Rock and Machine: Paper ==> Machin Win!\")\n",
    "        elif machine_opt == 3:\n",
    "            winner = \"User\"\n",
    "            # print(\"You: Rock and Machine: Scissors ==> You win! :)\")        \n",
    "    elif user_opt == 2:\n",
    "        if machine_opt == 1:\n",
    "            winner = \"User\"\n",
    "            # print(\"You: Paper and Mahcine: Rock ==> You win! :)\")\n",
    "        elif machine_opt == 3:\n",
    "            winner = \"Machine\"\n",
    "            # print(\"You: Paper and Machine: Scissors ==> Machin Win!\")\n",
    "    elif user_opt == 3:\n",
    "        if machine_opt == 1:\n",
    "            winner = \"Machine\"\n",
    "            # print(\"You: Scissors and Machine: Rock ==> Machin Win!\")\n",
    "        elif machine_opt == 2:\n",
    "            winner = \"User\"\n",
    "            # print(\"You: Scissors and Machine: Paper ==> You win! :)\")\n",
    "    \n",
    "    if user_opt == 1 : user_opt = 'R'\n",
    "    elif user_opt == 2 : user_opt = 'P'\n",
    "    elif user_opt == 3 : user_opt = 'S'\n",
    "     \n",
    "    if machine_opt == 1 : machine_opt = 'R'\n",
    "    elif machine_opt == 2 : machine_opt = 'P'\n",
    "    elif machine_opt == 3 : machine_opt = 'S'\n",
    "    \n",
    "    lst_useropt.append(user_opt)\n",
    "    lst_machineopt.append(machine_opt)\n",
    "    lst_winner.append(winner)\n",
    "    lst_index.append(i + 1)\n",
    "            \n",
    "print(\"--------------------------------------------------------\")\n",
    "\n",
    "dict1 = {'index': [] , 'user_opt': [] , 'machine_opt': [], 'winner': []}   \n",
    "dict1['index'] = lst_index\n",
    "dict1['user_opt'] = lst_useropt\n",
    "dict1['machine_opt'] = lst_machineopt\n",
    "dict1['winner'] = lst_winner\n",
    "\n",
    "df_rps = pd.DataFrame(dict1)\n",
    "print(df_rps)\n",
    "print(\"--------------------------------------------------------\")\n",
    "count_machine = (df_rps[\"winner\"] == \"Machine\").sum()\n",
    "count_user = (df_rps[\"winner\"] == \"User\").sum()\n",
    "if count_machine > count_user:\n",
    "    print(\"Machine is Winner!\")\n",
    "elif count_user > count_machine:\n",
    "    print(\"User is winner!\")\n",
    "elif count_user == count_machine:\n",
    "    print(\"User is equal to Machine\")"
   ]
  },
  {
   "cell_type": "code",
   "execution_count": null,
   "id": "f7858d11-b19f-4cf6-809d-b0c7173450a4",
   "metadata": {},
   "outputs": [],
   "source": []
  }
 ],
 "metadata": {
  "kernelspec": {
   "display_name": "Python 3 (ipykernel)",
   "language": "python",
   "name": "python3"
  },
  "language_info": {
   "codemirror_mode": {
    "name": "ipython",
    "version": 3
   },
   "file_extension": ".py",
   "mimetype": "text/x-python",
   "name": "python",
   "nbconvert_exporter": "python",
   "pygments_lexer": "ipython3",
   "version": "3.11.5"
  }
 },
 "nbformat": 4,
 "nbformat_minor": 5
}

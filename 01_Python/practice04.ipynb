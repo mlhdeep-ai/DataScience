{
 "cells": [
  {
   "cell_type": "code",
   "execution_count": 21,
   "id": "a184b94c-bc92-4380-b1f7-73d29b54637e",
   "metadata": {
    "tags": []
   },
   "outputs": [
    {
     "data": {
      "text/html": [
       "<div>\n",
       "<style scoped>\n",
       "    .dataframe tbody tr th:only-of-type {\n",
       "        vertical-align: middle;\n",
       "    }\n",
       "\n",
       "    .dataframe tbody tr th {\n",
       "        vertical-align: top;\n",
       "    }\n",
       "\n",
       "    .dataframe thead th {\n",
       "        text-align: right;\n",
       "    }\n",
       "</style>\n",
       "<table border=\"1\" class=\"dataframe\">\n",
       "  <thead>\n",
       "    <tr style=\"text-align: right;\">\n",
       "      <th></th>\n",
       "      <th>index</th>\n",
       "      <th>name</th>\n",
       "      <th>speed</th>\n",
       "      <th>color</th>\n",
       "    </tr>\n",
       "  </thead>\n",
       "  <tbody>\n",
       "    <tr>\n",
       "      <th>0</th>\n",
       "      <td>10</td>\n",
       "      <td>Peugeout</td>\n",
       "      <td>100</td>\n",
       "      <td>White</td>\n",
       "    </tr>\n",
       "    <tr>\n",
       "      <th>1</th>\n",
       "      <td>20</td>\n",
       "      <td>BMW</td>\n",
       "      <td>200</td>\n",
       "      <td>Black</td>\n",
       "    </tr>\n",
       "    <tr>\n",
       "      <th>2</th>\n",
       "      <td>30</td>\n",
       "      <td>Sonata</td>\n",
       "      <td>300</td>\n",
       "      <td>Silver</td>\n",
       "    </tr>\n",
       "    <tr>\n",
       "      <th>3</th>\n",
       "      <td>40</td>\n",
       "      <td>Benz</td>\n",
       "      <td>400</td>\n",
       "      <td>Red</td>\n",
       "    </tr>\n",
       "    <tr>\n",
       "      <th>4</th>\n",
       "      <td>50</td>\n",
       "      <td>Lamborgini</td>\n",
       "      <td>500</td>\n",
       "      <td>Blue</td>\n",
       "    </tr>\n",
       "  </tbody>\n",
       "</table>\n",
       "</div>"
      ],
      "text/plain": [
       "   index        name  speed   color\n",
       "0     10    Peugeout    100   White\n",
       "1     20         BMW    200   Black\n",
       "2     30      Sonata    300  Silver\n",
       "3     40        Benz    400     Red\n",
       "4     50  Lamborgini    500    Blue"
      ]
     },
     "execution_count": 21,
     "metadata": {},
     "output_type": "execute_result"
    }
   ],
   "source": [
    "import pandas as pd\n",
    "\n",
    "lst_index = [10, 20, 30, 40, 50]\n",
    "lst_name = [\"Peugeout\", \"BMW\", \"Sonata\", \"Benz\", \"Lamborgini\"]\n",
    "lst_speed = [100, 200, 300, 400, 500]\n",
    "lst_color = [\"White\", \"Black\", \"Silver\", \"Red\", \"Blue\"]\n",
    "\n",
    "df_cars = pd.DataFrame(list(zip(lst_index, lst_name, lst_speed, lst_color)),\n",
    "                       columns=['index', 'name', 'speed', 'color']    \n",
    ")\n",
    "\n",
    "df_cars"
   ]
  },
  {
   "cell_type": "code",
   "execution_count": null,
   "id": "8f4a35e3-4690-4aa5-9434-06545b124d79",
   "metadata": {},
   "outputs": [],
   "source": []
  }
 ],
 "metadata": {
  "kernelspec": {
   "display_name": "Python 3 (ipykernel)",
   "language": "python",
   "name": "python3"
  },
  "language_info": {
   "codemirror_mode": {
    "name": "ipython",
    "version": 3
   },
   "file_extension": ".py",
   "mimetype": "text/x-python",
   "name": "python",
   "nbconvert_exporter": "python",
   "pygments_lexer": "ipython3",
   "version": "3.11.5"
  }
 },
 "nbformat": 4,
 "nbformat_minor": 5
}

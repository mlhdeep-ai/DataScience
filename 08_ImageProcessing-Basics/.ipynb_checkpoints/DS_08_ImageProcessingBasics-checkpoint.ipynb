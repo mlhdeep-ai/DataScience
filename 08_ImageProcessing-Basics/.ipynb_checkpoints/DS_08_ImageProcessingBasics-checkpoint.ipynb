{
 "cells": [
  {
   "cell_type": "markdown",
   "id": "4a7affca-7de4-426f-a990-575f1340e922",
   "metadata": {},
   "source": [
    "<h1>Part 08 : Image Processing Basics</h1>"
   ]
  },
  {
   "cell_type": "code",
   "execution_count": 65,
   "id": "1aea0596-83de-41c3-af27-94ce54305871",
   "metadata": {},
   "outputs": [],
   "source": [
    "# Import Libraries\n",
    "import numpy as np\n",
    "import pandas as pd\n",
    "import seaborn as sb\n",
    "import matplotlib.pyplot as plt\n",
    "\n",
    "import cv2\n",
    "import glob as gb"
   ]
  },
  {
   "cell_type": "markdown",
   "id": "6caea792-802b-44ca-ad37-3f99b81bc286",
   "metadata": {},
   "source": [
    "<h2>OpenCV Library</h2>\n",
    "<h7>OpenCV (Open Source Computer Vision Library) is an open source computer vision and machine learning software library. OpenCV was built to provide a common infrastructure for computer vision applications and to accelerate the use of machine perception in the commercial products. Being an Apache 2 licensed product, OpenCV makes it easy for businesses to utilize and modify the code.</h7>\n",
    "<a href = \"https://opencv.org/about/\">Read more</a>"
   ]
  },
  {
   "cell_type": "code",
   "execution_count": null,
   "id": "3bce1b41-ba40-4d11-96f6-184a05faafdc",
   "metadata": {},
   "outputs": [],
   "source": []
  }
 ],
 "metadata": {
  "kernelspec": {
   "display_name": "Python 3 (ipykernel)",
   "language": "python",
   "name": "python3"
  },
  "language_info": {
   "codemirror_mode": {
    "name": "ipython",
    "version": 3
   },
   "file_extension": ".py",
   "mimetype": "text/x-python",
   "name": "python",
   "nbconvert_exporter": "python",
   "pygments_lexer": "ipython3",
   "version": "3.11.5"
  }
 },
 "nbformat": 4,
 "nbformat_minor": 5
}

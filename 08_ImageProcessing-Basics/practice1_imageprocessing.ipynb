{
 "cells": [
  {
   "cell_type": "markdown",
   "id": "9ab986dc-22cf-48de-a8e9-cf91a3d0b57e",
   "metadata": {},
   "source": [
    "#### Problem: Write a function that shows some convolution filters at once."
   ]
  },
  {
   "cell_type": "code",
   "execution_count": 154,
   "id": "bb385321-55e3-488a-868a-0b6d34d75f8c",
   "metadata": {},
   "outputs": [],
   "source": [
    "import numpy as np\n",
    "import pandas as pd\n",
    "import cv2\n",
    "import seaborn as sb\n",
    "import matplotlib.pyplot as plt\n",
    "from pylab import rcParams\n",
    "# from ipywidgets import interact"
   ]
  },
  {
   "cell_type": "code",
   "execution_count": 206,
   "id": "a34d1aa2-278c-4f5d-89e5-3156a3bbc69f",
   "metadata": {},
   "outputs": [],
   "source": [
    "def convolutionfilters(image_, k):\n",
    "    rcParams['figure.figsize'] = 20, 15    # This assigns the new size to the figure (width, height)   \n",
    "    # image_ = cv2.cvtColor(image_, cv2.COLOR_BGR2RGB)\n",
    "    \n",
    "    #1 Filter_2D\n",
    "    kernel = np.ones((k, k), np.float32) / (k * k)\n",
    "    img_filter2D = cv2.filter2D(image_, -1, kernel)\n",
    "    \n",
    "    #2 Blur Filter\n",
    "    img_blur = cv2.blur(image_, (k, k))\n",
    "    \n",
    "    #3 Median Blur\n",
    "    img_median = cv2.medianBlur(image_, k)\n",
    "    \n",
    "    #4 Gaussian Blur\n",
    "    img_gaussian = cv2.GaussianBlur(image_, (k, k), cv2.BORDER_DEFAULT)\n",
    "    \n",
    "    #5 Bilateral Filter\n",
    "    img_bilateral = cv2.bilateralFilter(image_, k, 120, 120)\n",
    "\n",
    "    #6 Sharp with custom kernel\n",
    "    kernel_shrp = np.array([[ 0, -1,  0], \n",
    "                            [-1,  k, -1], \n",
    "                            [ 0, -1,  0]])\n",
    "    img_sharp = cv2.filter2D(image_, -1, kernel_shrp)\n",
    "\n",
    "   \n",
    "    # row_1\n",
    "    plt.subplot(231), plt.imshow(cv2.cvtColor(img_filter2D, cv2.COLOR_BGR2RGB)), plt.title('Img_filter2D')     # Filter_2D\n",
    "    plt.axis('off')\n",
    "    plt.subplot(232), plt.imshow(cv2.cvtColor(image_, cv2.COLOR_BGR2RGB)), plt.title('Original Pic')           # Original Pic\n",
    "    plt.axis('off')\n",
    "    plt.subplot(233), plt.imshow(cv2.cvtColor(img_blur, cv2.COLOR_BGR2RGB)), plt.title('Img_blur')             # Blur Filter\n",
    "    plt.axis('off') \n",
    "    \n",
    "\n",
    "     # row_2   \n",
    "    plt.subplot(234), plt.imshow(cv2.cvtColor(img_median, cv2.COLOR_BGR2RGB)), plt.title('Img_median')         # Median Blur\n",
    "    plt.axis('off')\n",
    "    plt.subplot(235), plt.imshow(cv2.cvtColor(img_gaussian, cv2.COLOR_BGR2RGB)), plt.title('Img_gaussian')     # Gaussian Blur\n",
    "    plt.axis('off')    \n",
    "    plt.subplot(236), plt.imshow(cv2.cvtColor(img_bilateral, cv2.COLOR_BGR2RGB)), plt.title('Img_bilateral')   # Bilateral Filter\n",
    "    plt.axis('off') \n",
    "\n",
    "    #  # row_3\n",
    "    # plt.subplot(337), plt.imshow(img_sharp), plt.title('Img_sharp')           # Sharp with custom kernel\n",
    "    # plt.axis('off')\n",
    "    \n",
    "    # image_ = cv2.resize(image_, (800, 800))\n",
    "    # img_blur = cv2.resize(img_blur, (800, 800))\n",
    "    # cv2.imshow('original', image_)\n",
    "    # cv2.imshow('img_blur', img_blur)\n",
    "    # cv2.waitKey()\n",
    "    # cv2.destroyAllWindows()\n",
    "\n",
    "img = cv2.imread('Pics_good/blackman_1.jpg')\n",
    "kernel_row = 5\n",
    "convolutionfilters(img, kernel_row)"
   ]
  },
  {
   "cell_type": "code",
   "execution_count": null,
   "id": "918f84c5-d778-4c31-8019-0b9a9cf73144",
   "metadata": {},
   "outputs": [],
   "source": []
  }
 ],
 "metadata": {
  "kernelspec": {
   "display_name": "Python 3 (ipykernel)",
   "language": "python",
   "name": "python3"
  },
  "language_info": {
   "codemirror_mode": {
    "name": "ipython",
    "version": 3
   },
   "file_extension": ".py",
   "mimetype": "text/x-python",
   "name": "python",
   "nbconvert_exporter": "python",
   "pygments_lexer": "ipython3",
   "version": "3.11.5"
  }
 },
 "nbformat": 4,
 "nbformat_minor": 5
}

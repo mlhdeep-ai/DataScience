{
 "cells": [
  {
   "cell_type": "markdown",
   "id": "5a352244-8100-4d10-8ab0-2a446cd09c01",
   "metadata": {},
   "source": [
    "<h1>Part 04 : Machine Learning - KNN algorithm(K-Nearest Neighbour)</h1>"
   ]
  },
  {
   "cell_type": "code",
   "execution_count": null,
   "id": "9887ee6a-c213-4a70-97c5-ebb3980cddfb",
   "metadata": {},
   "outputs": [],
   "source": [
    "import pandas as pd\n",
    "import numpy as np\n",
    "import matplotlib.pyplot as plt\n",
    "import sklearn"
   ]
  },
  {
   "cell_type": "code",
   "execution_count": 7,
   "id": "91a2217d-5446-44f7-8d65-9773088bd79e",
   "metadata": {},
   "outputs": [],
   "source": [
    "dia = pd.read_csv('Diabetes.csv')"
   ]
  },
  {
   "cell_type": "code",
   "execution_count": 8,
   "id": "c0774fe2-ef8d-4318-95ed-59040957dc05",
   "metadata": {
    "collapsed": true,
    "jupyter": {
     "outputs_hidden": true
    },
    "scrolled": true
   },
   "outputs": [
    {
     "data": {
      "text/html": [
       "<div>\n",
       "<style scoped>\n",
       "    .dataframe tbody tr th:only-of-type {\n",
       "        vertical-align: middle;\n",
       "    }\n",
       "\n",
       "    .dataframe tbody tr th {\n",
       "        vertical-align: top;\n",
       "    }\n",
       "\n",
       "    .dataframe thead th {\n",
       "        text-align: right;\n",
       "    }\n",
       "</style>\n",
       "<table border=\"1\" class=\"dataframe\">\n",
       "  <thead>\n",
       "    <tr style=\"text-align: right;\">\n",
       "      <th></th>\n",
       "      <th>Number of times pregnant</th>\n",
       "      <th>Plasma glucose concentration</th>\n",
       "      <th>Diastolic blood pressure</th>\n",
       "      <th>Triceps skin fold thickness</th>\n",
       "      <th>2-Hour serum insulin</th>\n",
       "      <th>Body mass index</th>\n",
       "      <th>Diabetes pedigree function</th>\n",
       "      <th>Age (years)</th>\n",
       "      <th>Class variable</th>\n",
       "    </tr>\n",
       "  </thead>\n",
       "  <tbody>\n",
       "    <tr>\n",
       "      <th>0</th>\n",
       "      <td>6</td>\n",
       "      <td>148</td>\n",
       "      <td>72</td>\n",
       "      <td>35</td>\n",
       "      <td>0</td>\n",
       "      <td>33.6</td>\n",
       "      <td>0.627</td>\n",
       "      <td>50</td>\n",
       "      <td>YES</td>\n",
       "    </tr>\n",
       "    <tr>\n",
       "      <th>1</th>\n",
       "      <td>1</td>\n",
       "      <td>85</td>\n",
       "      <td>66</td>\n",
       "      <td>29</td>\n",
       "      <td>0</td>\n",
       "      <td>26.6</td>\n",
       "      <td>0.351</td>\n",
       "      <td>31</td>\n",
       "      <td>NO</td>\n",
       "    </tr>\n",
       "    <tr>\n",
       "      <th>2</th>\n",
       "      <td>8</td>\n",
       "      <td>183</td>\n",
       "      <td>64</td>\n",
       "      <td>0</td>\n",
       "      <td>0</td>\n",
       "      <td>23.3</td>\n",
       "      <td>0.672</td>\n",
       "      <td>32</td>\n",
       "      <td>YES</td>\n",
       "    </tr>\n",
       "    <tr>\n",
       "      <th>3</th>\n",
       "      <td>1</td>\n",
       "      <td>89</td>\n",
       "      <td>66</td>\n",
       "      <td>23</td>\n",
       "      <td>94</td>\n",
       "      <td>28.1</td>\n",
       "      <td>0.167</td>\n",
       "      <td>21</td>\n",
       "      <td>NO</td>\n",
       "    </tr>\n",
       "    <tr>\n",
       "      <th>4</th>\n",
       "      <td>0</td>\n",
       "      <td>137</td>\n",
       "      <td>40</td>\n",
       "      <td>35</td>\n",
       "      <td>168</td>\n",
       "      <td>43.1</td>\n",
       "      <td>2.288</td>\n",
       "      <td>33</td>\n",
       "      <td>YES</td>\n",
       "    </tr>\n",
       "    <tr>\n",
       "      <th>...</th>\n",
       "      <td>...</td>\n",
       "      <td>...</td>\n",
       "      <td>...</td>\n",
       "      <td>...</td>\n",
       "      <td>...</td>\n",
       "      <td>...</td>\n",
       "      <td>...</td>\n",
       "      <td>...</td>\n",
       "      <td>...</td>\n",
       "    </tr>\n",
       "    <tr>\n",
       "      <th>763</th>\n",
       "      <td>10</td>\n",
       "      <td>101</td>\n",
       "      <td>76</td>\n",
       "      <td>48</td>\n",
       "      <td>180</td>\n",
       "      <td>32.9</td>\n",
       "      <td>0.171</td>\n",
       "      <td>63</td>\n",
       "      <td>NO</td>\n",
       "    </tr>\n",
       "    <tr>\n",
       "      <th>764</th>\n",
       "      <td>2</td>\n",
       "      <td>122</td>\n",
       "      <td>70</td>\n",
       "      <td>27</td>\n",
       "      <td>0</td>\n",
       "      <td>36.8</td>\n",
       "      <td>0.340</td>\n",
       "      <td>27</td>\n",
       "      <td>NO</td>\n",
       "    </tr>\n",
       "    <tr>\n",
       "      <th>765</th>\n",
       "      <td>5</td>\n",
       "      <td>121</td>\n",
       "      <td>72</td>\n",
       "      <td>23</td>\n",
       "      <td>112</td>\n",
       "      <td>26.2</td>\n",
       "      <td>0.245</td>\n",
       "      <td>30</td>\n",
       "      <td>NO</td>\n",
       "    </tr>\n",
       "    <tr>\n",
       "      <th>766</th>\n",
       "      <td>1</td>\n",
       "      <td>126</td>\n",
       "      <td>60</td>\n",
       "      <td>0</td>\n",
       "      <td>0</td>\n",
       "      <td>30.1</td>\n",
       "      <td>0.349</td>\n",
       "      <td>47</td>\n",
       "      <td>YES</td>\n",
       "    </tr>\n",
       "    <tr>\n",
       "      <th>767</th>\n",
       "      <td>1</td>\n",
       "      <td>93</td>\n",
       "      <td>70</td>\n",
       "      <td>31</td>\n",
       "      <td>0</td>\n",
       "      <td>30.4</td>\n",
       "      <td>0.315</td>\n",
       "      <td>23</td>\n",
       "      <td>NO</td>\n",
       "    </tr>\n",
       "  </tbody>\n",
       "</table>\n",
       "<p>768 rows × 9 columns</p>\n",
       "</div>"
      ],
      "text/plain": [
       "     Number of times pregnant  Plasma glucose concentration  \\\n",
       "0                           6                           148   \n",
       "1                           1                            85   \n",
       "2                           8                           183   \n",
       "3                           1                            89   \n",
       "4                           0                           137   \n",
       "..                        ...                           ...   \n",
       "763                        10                           101   \n",
       "764                         2                           122   \n",
       "765                         5                           121   \n",
       "766                         1                           126   \n",
       "767                         1                            93   \n",
       "\n",
       "     Diastolic blood pressure  Triceps skin fold thickness  \\\n",
       "0                          72                           35   \n",
       "1                          66                           29   \n",
       "2                          64                            0   \n",
       "3                          66                           23   \n",
       "4                          40                           35   \n",
       "..                        ...                          ...   \n",
       "763                        76                           48   \n",
       "764                        70                           27   \n",
       "765                        72                           23   \n",
       "766                        60                            0   \n",
       "767                        70                           31   \n",
       "\n",
       "     2-Hour serum insulin  Body mass index  Diabetes pedigree function  \\\n",
       "0                       0             33.6                       0.627   \n",
       "1                       0             26.6                       0.351   \n",
       "2                       0             23.3                       0.672   \n",
       "3                      94             28.1                       0.167   \n",
       "4                     168             43.1                       2.288   \n",
       "..                    ...              ...                         ...   \n",
       "763                   180             32.9                       0.171   \n",
       "764                     0             36.8                       0.340   \n",
       "765                   112             26.2                       0.245   \n",
       "766                     0             30.1                       0.349   \n",
       "767                     0             30.4                       0.315   \n",
       "\n",
       "     Age (years) Class variable  \n",
       "0             50            YES  \n",
       "1             31             NO  \n",
       "2             32            YES  \n",
       "3             21             NO  \n",
       "4             33            YES  \n",
       "..           ...            ...  \n",
       "763           63             NO  \n",
       "764           27             NO  \n",
       "765           30             NO  \n",
       "766           47            YES  \n",
       "767           23             NO  \n",
       "\n",
       "[768 rows x 9 columns]"
      ]
     },
     "execution_count": 8,
     "metadata": {},
     "output_type": "execute_result"
    }
   ],
   "source": [
    "dia"
   ]
  },
  {
   "cell_type": "code",
   "execution_count": 9,
   "id": "cf69240d-6c96-41c0-8b24-442a9b1501d4",
   "metadata": {},
   "outputs": [],
   "source": [
    "dia = dia.rename(columns = {' Number of times pregnant' : 'num_times_preg',' Plasma glucose concentration' : 'plasma_gluc_conct', ' Diastolic blood pressure' : 'diast_blood_pres', ' Triceps skin fold thickness' : 'tric_skin_fold_thick', ' 2-Hour serum insulin' : '2h_serum_insul', ' Body mass index' : 'bmi',\n",
    "                            ' Diabetes pedigree function' : 'diab_pedig_func', ' Age (years)' : 'age', ' Class variable' : 'output'})"
   ]
  },
  {
   "cell_type": "code",
   "execution_count": 10,
   "id": "b39dedf6-9c24-4103-9fa5-2c95beb79f06",
   "metadata": {},
   "outputs": [
    {
     "data": {
      "text/html": [
       "<div>\n",
       "<style scoped>\n",
       "    .dataframe tbody tr th:only-of-type {\n",
       "        vertical-align: middle;\n",
       "    }\n",
       "\n",
       "    .dataframe tbody tr th {\n",
       "        vertical-align: top;\n",
       "    }\n",
       "\n",
       "    .dataframe thead th {\n",
       "        text-align: right;\n",
       "    }\n",
       "</style>\n",
       "<table border=\"1\" class=\"dataframe\">\n",
       "  <thead>\n",
       "    <tr style=\"text-align: right;\">\n",
       "      <th></th>\n",
       "      <th>num_times_preg</th>\n",
       "      <th>plasma_gluc_conct</th>\n",
       "      <th>diast_blood_pres</th>\n",
       "      <th>tric_skin_fold_thick</th>\n",
       "      <th>2h_serum_insul</th>\n",
       "      <th>bmi</th>\n",
       "      <th>diab_pedig_func</th>\n",
       "      <th>age</th>\n",
       "      <th>output</th>\n",
       "    </tr>\n",
       "  </thead>\n",
       "  <tbody>\n",
       "    <tr>\n",
       "      <th>0</th>\n",
       "      <td>6</td>\n",
       "      <td>148</td>\n",
       "      <td>72</td>\n",
       "      <td>35</td>\n",
       "      <td>0</td>\n",
       "      <td>33.6</td>\n",
       "      <td>0.627</td>\n",
       "      <td>50</td>\n",
       "      <td>YES</td>\n",
       "    </tr>\n",
       "    <tr>\n",
       "      <th>1</th>\n",
       "      <td>1</td>\n",
       "      <td>85</td>\n",
       "      <td>66</td>\n",
       "      <td>29</td>\n",
       "      <td>0</td>\n",
       "      <td>26.6</td>\n",
       "      <td>0.351</td>\n",
       "      <td>31</td>\n",
       "      <td>NO</td>\n",
       "    </tr>\n",
       "    <tr>\n",
       "      <th>2</th>\n",
       "      <td>8</td>\n",
       "      <td>183</td>\n",
       "      <td>64</td>\n",
       "      <td>0</td>\n",
       "      <td>0</td>\n",
       "      <td>23.3</td>\n",
       "      <td>0.672</td>\n",
       "      <td>32</td>\n",
       "      <td>YES</td>\n",
       "    </tr>\n",
       "    <tr>\n",
       "      <th>3</th>\n",
       "      <td>1</td>\n",
       "      <td>89</td>\n",
       "      <td>66</td>\n",
       "      <td>23</td>\n",
       "      <td>94</td>\n",
       "      <td>28.1</td>\n",
       "      <td>0.167</td>\n",
       "      <td>21</td>\n",
       "      <td>NO</td>\n",
       "    </tr>\n",
       "    <tr>\n",
       "      <th>4</th>\n",
       "      <td>0</td>\n",
       "      <td>137</td>\n",
       "      <td>40</td>\n",
       "      <td>35</td>\n",
       "      <td>168</td>\n",
       "      <td>43.1</td>\n",
       "      <td>2.288</td>\n",
       "      <td>33</td>\n",
       "      <td>YES</td>\n",
       "    </tr>\n",
       "    <tr>\n",
       "      <th>...</th>\n",
       "      <td>...</td>\n",
       "      <td>...</td>\n",
       "      <td>...</td>\n",
       "      <td>...</td>\n",
       "      <td>...</td>\n",
       "      <td>...</td>\n",
       "      <td>...</td>\n",
       "      <td>...</td>\n",
       "      <td>...</td>\n",
       "    </tr>\n",
       "    <tr>\n",
       "      <th>763</th>\n",
       "      <td>10</td>\n",
       "      <td>101</td>\n",
       "      <td>76</td>\n",
       "      <td>48</td>\n",
       "      <td>180</td>\n",
       "      <td>32.9</td>\n",
       "      <td>0.171</td>\n",
       "      <td>63</td>\n",
       "      <td>NO</td>\n",
       "    </tr>\n",
       "    <tr>\n",
       "      <th>764</th>\n",
       "      <td>2</td>\n",
       "      <td>122</td>\n",
       "      <td>70</td>\n",
       "      <td>27</td>\n",
       "      <td>0</td>\n",
       "      <td>36.8</td>\n",
       "      <td>0.340</td>\n",
       "      <td>27</td>\n",
       "      <td>NO</td>\n",
       "    </tr>\n",
       "    <tr>\n",
       "      <th>765</th>\n",
       "      <td>5</td>\n",
       "      <td>121</td>\n",
       "      <td>72</td>\n",
       "      <td>23</td>\n",
       "      <td>112</td>\n",
       "      <td>26.2</td>\n",
       "      <td>0.245</td>\n",
       "      <td>30</td>\n",
       "      <td>NO</td>\n",
       "    </tr>\n",
       "    <tr>\n",
       "      <th>766</th>\n",
       "      <td>1</td>\n",
       "      <td>126</td>\n",
       "      <td>60</td>\n",
       "      <td>0</td>\n",
       "      <td>0</td>\n",
       "      <td>30.1</td>\n",
       "      <td>0.349</td>\n",
       "      <td>47</td>\n",
       "      <td>YES</td>\n",
       "    </tr>\n",
       "    <tr>\n",
       "      <th>767</th>\n",
       "      <td>1</td>\n",
       "      <td>93</td>\n",
       "      <td>70</td>\n",
       "      <td>31</td>\n",
       "      <td>0</td>\n",
       "      <td>30.4</td>\n",
       "      <td>0.315</td>\n",
       "      <td>23</td>\n",
       "      <td>NO</td>\n",
       "    </tr>\n",
       "  </tbody>\n",
       "</table>\n",
       "<p>768 rows × 9 columns</p>\n",
       "</div>"
      ],
      "text/plain": [
       "     num_times_preg  plasma_gluc_conct  diast_blood_pres  \\\n",
       "0                 6                148                72   \n",
       "1                 1                 85                66   \n",
       "2                 8                183                64   \n",
       "3                 1                 89                66   \n",
       "4                 0                137                40   \n",
       "..              ...                ...               ...   \n",
       "763              10                101                76   \n",
       "764               2                122                70   \n",
       "765               5                121                72   \n",
       "766               1                126                60   \n",
       "767               1                 93                70   \n",
       "\n",
       "     tric_skin_fold_thick  2h_serum_insul   bmi  diab_pedig_func  age output  \n",
       "0                      35               0  33.6            0.627   50    YES  \n",
       "1                      29               0  26.6            0.351   31     NO  \n",
       "2                       0               0  23.3            0.672   32    YES  \n",
       "3                      23              94  28.1            0.167   21     NO  \n",
       "4                      35             168  43.1            2.288   33    YES  \n",
       "..                    ...             ...   ...              ...  ...    ...  \n",
       "763                    48             180  32.9            0.171   63     NO  \n",
       "764                    27               0  36.8            0.340   27     NO  \n",
       "765                    23             112  26.2            0.245   30     NO  \n",
       "766                     0               0  30.1            0.349   47    YES  \n",
       "767                    31               0  30.4            0.315   23     NO  \n",
       "\n",
       "[768 rows x 9 columns]"
      ]
     },
     "execution_count": 10,
     "metadata": {},
     "output_type": "execute_result"
    }
   ],
   "source": [
    "dia"
   ]
  },
  {
   "cell_type": "code",
   "execution_count": 11,
   "id": "8e7d9fdb-cf9a-408d-911b-4995a8751e99",
   "metadata": {},
   "outputs": [],
   "source": [
    "dia.output = dia.output.str.replace('YES', '1')\n",
    "dia.output = dia.output.str.replace('NO', '0')"
   ]
  },
  {
   "cell_type": "code",
   "execution_count": 14,
   "id": "fac6f7a8-bead-41e7-9e8d-6b57694c2116",
   "metadata": {},
   "outputs": [
    {
     "data": {
      "text/plain": [
       "array(['1', '0'], dtype=object)"
      ]
     },
     "execution_count": 14,
     "metadata": {},
     "output_type": "execute_result"
    }
   ],
   "source": [
    "dia.output.unique()"
   ]
  },
  {
   "cell_type": "code",
   "execution_count": 17,
   "id": "e1486103-92f6-418d-a4e6-ffb274acaa06",
   "metadata": {},
   "outputs": [],
   "source": [
    "x = dia[['plasma_gluc_conct', 'bmi', 'age']]"
   ]
  },
  {
   "cell_type": "code",
   "execution_count": 19,
   "id": "50f6d04b-5393-4a45-8ec4-42e364f9e79b",
   "metadata": {},
   "outputs": [
    {
     "data": {
      "text/plain": [
       "plasma_gluc_conct    0\n",
       "bmi                  0\n",
       "age                  0\n",
       "dtype: int64"
      ]
     },
     "execution_count": 19,
     "metadata": {},
     "output_type": "execute_result"
    }
   ],
   "source": [
    "x.isna().sum()"
   ]
  },
  {
   "cell_type": "code",
   "execution_count": 21,
   "id": "8265a8b1-d990-4849-b91a-31f463d1edea",
   "metadata": {},
   "outputs": [
    {
     "data": {
      "text/plain": [
       "(768, 3)"
      ]
     },
     "execution_count": 21,
     "metadata": {},
     "output_type": "execute_result"
    }
   ],
   "source": [
    "x.shape"
   ]
  },
  {
   "cell_type": "code",
   "execution_count": 22,
   "id": "726d8cdc-ada2-4541-a624-f997fe61b32d",
   "metadata": {},
   "outputs": [],
   "source": [
    "y = dia['output']"
   ]
  },
  {
   "cell_type": "code",
   "execution_count": 24,
   "id": "0ea9d3f7-0faa-4118-ab4e-5229a7de87a3",
   "metadata": {},
   "outputs": [
    {
     "data": {
      "text/plain": [
       "0"
      ]
     },
     "execution_count": 24,
     "metadata": {},
     "output_type": "execute_result"
    }
   ],
   "source": [
    "y.isna().sum()"
   ]
  },
  {
   "cell_type": "markdown",
   "id": "a5fd813c-b810-4d12-bdd4-58b8384297d3",
   "metadata": {},
   "source": [
    "<h2>Scikit-learn library</h2>\n",
    "<h7>scikit-learn (also known as sklearn) is a free software machine learning library for the Python programming language. It features various classification, regression and clustering algorithms including support-vector machines, random forests, gradient boosting, k-means and DBSCAN, and is designed to interoperate with the Python numerical and scientific libraries NumPy and SciPy.</h7>"
   ]
  },
  {
   "cell_type": "markdown",
   "id": "6ed1af78-09e5-41f5-97b5-f2c96ca03bcd",
   "metadata": {},
   "source": [
    "<h2>Sklearn.model_selection.train_test_split function</h2>\n",
    "<h7>The train_test_split function of the sklearn.model_selection package in Python splits arrays or matrices into random subsets for train and test data, respectively.</h7>"
   ]
  },
  {
   "cell_type": "markdown",
   "id": "0bfeafcb-0168-454a-83cc-ee3c51441d7f",
   "metadata": {},
   "source": [
    "<h2>sklearn.neighbors.KNeighborsClassifier</h2>\n",
    "<h7>Classifier implementing the k-nearest neighbors vote.</h7>"
   ]
  },
  {
   "cell_type": "markdown",
   "id": "367016e1-d03b-4d02-bf71-f9d4c7b9eb25",
   "metadata": {},
   "source": [
    "<h2>sklearn.neighbors.KNeighborsRegressor</h2>\n",
    "<h7>Regression based on k-nearest neighbors.</h7>"
   ]
  },
  {
   "cell_type": "markdown",
   "id": "5a135a62-e8d6-487b-99d9-3d296ad1fafd",
   "metadata": {},
   "source": [
    "<h2>sklearn.metrics.classification_report</h2>\n",
    "<h7>Build a text report showing the main classification metrics.</h7>"
   ]
  },
  {
   "cell_type": "markdown",
   "id": "193c7fe1-3364-4e9d-9d85-b6cd30d75780",
   "metadata": {},
   "source": [
    "<h2>sklearn.metrics.confusion_matrix</h2>\n",
    "<h7>Compute confusion matrix to evaluate the accuracy of a classification.</h7>"
   ]
  },
  {
   "cell_type": "code",
   "execution_count": 30,
   "id": "3d03678d-4b20-4f87-81a9-3bdf660e9bde",
   "metadata": {},
   "outputs": [],
   "source": [
    "from sklearn.model_selection import train_test_split\n",
    "from sklearn.neighbors import KNeighborsClassifier, KNeighborsRegressor\n",
    "from sklearn.metrics import classification_report, confusion_matrix"
   ]
  },
  {
   "cell_type": "code",
   "execution_count": 31,
   "id": "d07534c7-e368-4e5b-8aca-9a13d81c898c",
   "metadata": {},
   "outputs": [
    {
     "data": {
      "text/plain": [
       "70.77922077922078"
      ]
     },
     "execution_count": 31,
     "metadata": {},
     "output_type": "execute_result"
    }
   ],
   "source": [
    "x_train, x_test, y_train, y_test = train_test_split(x, y, test_size=0.2, random_state=342334, stratify = y)\n",
    "k = 3\n",
    "knn = KNeighborsClassifier(metric = 'minkowski', n_neighbors = k)\n",
    "knn.fit(x_train.values, y_train.values)\n",
    "y_pred = knn.predict(x_test.values)\n",
    "knn.score(x_test.values, y_test) * 100"
   ]
  },
  {
   "cell_type": "markdown",
   "id": "4be1b024-be63-4b94-bfe4-8ca0a4fd539b",
   "metadata": {},
   "source": [
    "<h2>sklearn.model_selection.cross_val_score</h2>\n",
    "<h7>Evaluate a score by cross-validation.</h7>"
   ]
  },
  {
   "cell_type": "code",
   "execution_count": 38,
   "id": "efa94c36-a87c-44a7-9875-10c17d2bc2f9",
   "metadata": {},
   "outputs": [
    {
     "name": "stdout",
     "output_type": "stream",
     "text": [
      "[[1, 0.6834928229665073], [3, 0.7096035543403965], [5, 0.7291182501708817], [7, 0.7395591250854407], [9, 0.7330827067669172], [11, 0.7513328776486671], [13, 0.7617737525632263], [15, 0.7487012987012986], [17, 0.7630382775119618], [19, 0.7669514695830485], [21, 0.7604237867395762], [23, 0.7643198906356801], [25, 0.7591421736158579], [27, 0.7630895420369105], [29, 0.7591592617908408], [31, 0.7643882433356117], [33, 0.7604921394395079], [35, 0.7591934381408066], [37, 0.7604921394395079], [39, 0.7591934381408066], [41, 0.7526828434723172], [43, 0.7539815447710184], [45, 0.7487696514012303], [47, 0.7552460697197539], [49, 0.7526657552973343]]\n",
      "\n"
     ]
    }
   ],
   "source": [
    "from sklearn.model_selection import cross_val_score\n",
    "k_score = []\n",
    "for k in range(1, 50, 2):\n",
    "    knn = KNeighborsClassifier(n_neighbors = k, metric= 'minkowski')\n",
    "    scores = cross_val_score(knn, x, y, cv = 10, scoring = 'accuracy')\n",
    "    # x : the input features to train the model. y : the output labels associated with input features. cv : the number of folds.\n",
    "    # print(scores)\n",
    "    # print(scores.mean())    \n",
    "    k_score.append([k, scores.mean()])\n",
    "print(k_score)\n",
    "print()"
   ]
  },
  {
   "cell_type": "code",
   "execution_count": 61,
   "id": "9074d8a6-c847-40ca-ad84-7f896da0b7ed",
   "metadata": {},
   "outputs": [
    {
     "name": "stdout",
     "output_type": "stream",
     "text": [
      "max_accuracy: 76.70\n",
      "k_good: 19\n"
     ]
    }
   ],
   "source": [
    "k_score_max = max(k_score[i][1] for i in range(len(k_score)))\n",
    "for i in range(len(k_score)):\n",
    "    if k_score[i][1] == k_score_max:\n",
    "        k_max = k_score[i][0]\n",
    "        break\n",
    "print(\"max_accuracy: %.2f\" % (k_score_max * 100)) \n",
    "print(\"k_good:\", k_max) \n",
    "       "
   ]
  },
  {
   "cell_type": "code",
   "execution_count": 71,
   "id": "8cdf0578-a53d-4ac7-a9e8-30fd2cf24203",
   "metadata": {},
   "outputs": [
    {
     "data": {
      "image/png": "[encoded data removed]",
      "text/plain": [
       "<Figure size 2000x500 with 1 Axes>"
      ]
     },
     "metadata": {},
     "output_type": "display_data"
    }
   ],
   "source": [
    "plt.figure(figsize=(20, 5))\n",
    "plt.plot([k_score[i][0] for i in range(len(k_score))], [k_score[i][1] for i in range(len(k_score))])\n",
    "plt.ylabel('scores')\n",
    "plt.xlabel('k')\n",
    "plt.xticks(range(1, 50, 2))\n",
    "plt.grid()\n",
    "plt.show()"
   ]
  },
  {
   "cell_type": "code",
   "execution_count": 68,
   "id": "f313041e-dbbe-4dc5-8ba9-f491ae4c958a",
   "metadata": {},
   "outputs": [
    {
     "data": {
      "text/plain": [
       "25"
      ]
     },
     "execution_count": 68,
     "metadata": {},
     "output_type": "execute_result"
    }
   ],
   "source": [
    "len(k_score)"
   ]
  },
  {
   "cell_type": "code",
   "execution_count": null,
   "id": "563e8fa7-ed17-41b5-8deb-eeafca317663",
   "metadata": {},
   "outputs": [],
   "source": []
  }
 ],
 "metadata": {
  "kernelspec": {
   "display_name": "Python 3 (ipykernel)",
   "language": "python",
   "name": "python3"
  },
  "language_info": {
   "codemirror_mode": {
    "name": "ipython",
    "version": 3
   },
   "file_extension": ".py",
   "mimetype": "text/x-python",
   "name": "python",
   "nbconvert_exporter": "python",
   "pygments_lexer": "ipython3",
   "version": "3.11.5"
  }
 },
 "nbformat": 4,
 "nbformat_minor": 5
}

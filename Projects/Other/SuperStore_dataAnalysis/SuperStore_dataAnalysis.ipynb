{
 "cells": [
  {
   "cell_type": "markdown",
   "id": "f5744c00-c069-4784-a7b2-29f26577c222",
   "metadata": {},
   "source": [
    "<h1>Step_1</h1>\n",
    "<h2>Problem Definition</h2>\n",
    "<h7></h7>\n",
    "<h7></h7>"
   ]
  },
  {
   "cell_type": "code",
   "execution_count": null,
   "id": "058c56ec-63ca-4969-a11b-98097bfaa948",
   "metadata": {},
   "outputs": [],
   "source": []
  }
 ],
 "metadata": {
  "kernelspec": {
   "display_name": "Python 3 (ipykernel)",
   "language": "python",
   "name": "python3"
  },
  "language_info": {
   "codemirror_mode": {
    "name": "ipython",
    "version": 3
   },
   "file_extension": ".py",
   "mimetype": "text/x-python",
   "name": "python",
   "nbconvert_exporter": "python",
   "pygments_lexer": "ipython3",
   "version": "3.11.5"
  }
 },
 "nbformat": 4,
 "nbformat_minor": 5
}
